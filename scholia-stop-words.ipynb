{
 "cells": [
  {
   "cell_type": "markdown",
   "metadata": {},
   "source": [
    "# Frequency for simplified ASCII text of scholia\n",
    "\n",
    "So we can compose a reasonable stop-word list for topic modelling.\n"
   ]
  },
  {
   "cell_type": "code",
   "execution_count": 1,
   "metadata": {},
   "outputs": [
    {
     "data": {
      "text/plain": [
       "\u001b[36mpersonalRepo\u001b[39m: \u001b[32mcoursierapi\u001b[39m.\u001b[32mMavenRepository\u001b[39m = MavenRepository(https://dl.bintray.com/neelsmith/maven)"
      ]
     },
     "execution_count": 1,
     "metadata": {},
     "output_type": "execute_result"
    }
   ],
   "source": [
    "val personalRepo = coursierapi.MavenRepository.of(\"https://dl.bintray.com/neelsmith/maven\")\n",
    "interp.repositories() ++= Seq(personalRepo)"
   ]
  },
  {
   "cell_type": "code",
   "execution_count": 2,
   "metadata": {
    "collapsed": true
   },
   "outputs": [
    {
     "data": {
      "text/plain": [
       "\u001b[32mimport \u001b[39m\u001b[36m$ivy.$                                     \n",
       "\u001b[39m\n",
       "\u001b[32mimport \u001b[39m\u001b[36m$ivy.$                                  \n",
       "\u001b[39m\n",
       "\u001b[32mimport \u001b[39m\u001b[36m$ivy.$                                \n",
       "\u001b[39m\n",
       "\u001b[32mimport \u001b[39m\u001b[36m$ivy.$                                          \u001b[39m"
      ]
     },
     "execution_count": 2,
     "metadata": {},
     "output_type": "execute_result"
    }
   ],
   "source": [
    "import $ivy.`edu.holycross.shot.cite::xcite:4.3.0`\n",
    "import $ivy.`edu.holycross.shot::ohco2:10.20.3`\n",
    "import $ivy.`edu.holycross.shot::greek:5.5.1`\n",
    "import $ivy.`edu.holycross.shot.mid::orthography:2.0.0`"
   ]
  },
  {
   "cell_type": "code",
   "execution_count": 5,
   "metadata": {
    "collapsed": true
   },
   "outputs": [
    {
     "data": {
      "text/plain": [
       "\u001b[32mimport \u001b[39m\u001b[36medu.holycross.shot.cite._\n",
       "\u001b[39m\n",
       "\u001b[32mimport \u001b[39m\u001b[36medu.holycross.shot.ohco2._\n",
       "\u001b[39m\n",
       "\u001b[32mimport \u001b[39m\u001b[36medu.holycross.shot.greek._\n",
       "\u001b[39m\n",
       "\u001b[32mimport \u001b[39m\u001b[36medu.holycross.shot.mid.orthography._\n",
       "\n",
       "\n",
       "\u001b[39m\n",
       "\u001b[36mvenetusAUrl\u001b[39m: \u001b[32mString\u001b[39m = \u001b[32m\"https://raw.githubusercontent.com/neelsmith/summer2020nbs/master/data/hmt-2020i-noIliad.cex\"\u001b[39m\n",
       "\u001b[36mtwins9Url\u001b[39m: \u001b[32mString\u001b[39m = \u001b[32m\"https://raw.githubusercontent.com/neelsmith/summer2020nbs/master/data/twins9corpus.cex\"\u001b[39m"
      ]
     },
     "execution_count": 5,
     "metadata": {},
     "output_type": "execute_result"
    }
   ],
   "source": [
    "import edu.holycross.shot.cite._\n",
    "import edu.holycross.shot.ohco2._\n",
    "import edu.holycross.shot.greek._\n",
    "import edu.holycross.shot.mid.orthography._\n",
    "\n",
    "\n",
    "val venetusAUrl = \"https://raw.githubusercontent.com/neelsmith/summer2020nbs/master/data/hmt-2020i-noIliad.cex\"\n",
    "val twins9Url = \"https://raw.githubusercontent.com/neelsmith/summer2020nbs/master/data/twins9corpus.cex\"\n"
   ]
  },
  {
   "cell_type": "code",
   "execution_count": 7,
   "metadata": {
    "collapsed": true
   },
   "outputs": [
    {
     "data": {
      "text/plain": [
       "\u001b[36mtwins9\u001b[39m: \u001b[32mCorpus\u001b[39m = \u001b[33mCorpus\u001b[39m(\n",
       "  \u001b[33mVector\u001b[39m(\n",
       "    \u001b[33mCitableNode\u001b[39m(\n",
       "      \u001b[33mCtsUrn\u001b[39m(\u001b[32m\"urn:cts:greekLit:tlg0012.tlg001.msB:9.title\"\u001b[39m),\n",
       "      \u001b[32m\"\\u1f00\\u03c1\\u03c7\\u1f74 \\u03c4\\u1fc6\\u03c2 \\u03ca \\u1f49\\u03bc\\u03ae\\u03c1\\u03bf\\u03c5 \\u1fe5\\u03b1\\u03c8\\u03c9\\u03b4\\u03af\\u03b1\\u03c2 \\u2051\"\u001b[39m\n",
       "    ),\n",
       "    \u001b[33mCitableNode\u001b[39m(\n",
       "      \u001b[33mCtsUrn\u001b[39m(\u001b[32m\"urn:cts:greekLit:tlg0012.tlg001.msB:9.1\"\u001b[39m),\n",
       "      \u001b[32m\"\\u1f63\\u03c2 \\u03bf\\u1f31 \\u03bc\\u1f72\\u03bd \\u03a4\\u03c1\\u1ff6\\u03b5\\u03c2 \\u03c6\\u03c5\\u03bb\\u03b1\\u03ba\\u1f70\\u03c2 \\u1f14\\u03c7\\u03bf\\u03bd: \\u03b1\\u1f50\\u03c4\\u1f70\\u03c1 \\u1f08\\u03c7\\u03b1\\u03b9\\u03bf\\u1f7a\\u03c2\"\u001b[39m\n",
       "    ),\n",
       "    \u001b[33mCitableNode\u001b[39m(\n",
       "      \u001b[33mCtsUrn\u001b[39m(\u001b[32m\"urn:cts:greekLit:tlg0012.tlg001.msB:9.2\"\u001b[39m),\n",
       "      \u001b[32m\"\\u03b8\\u03b5\\u03c3\\u03c0\\u03b5\\u03c3\\u03af\\u03b7 \\u1f14\\u03c7\\u03b5 \\u03c6\\u1f7b\\u03b6\\u03b1 \\u03c6\\u1f79\\u03b2\\u03bf\\u03c5 \\u03ba\\u03c1\\u03c5\\u1f79\\u03b5\\u03bd\\u03c4\\u03bf\\u03c2 \\u1f11\\u03c4\\u03b1\\u03af\\u03c1\\u03b7:\"\u001b[39m\n",
       "    ),\n",
       "    \u001b[33mCitableNode\u001b[39m(\n",
       "      \u001b[33mCtsUrn\u001b[39m(\u001b[32m\"urn:cts:greekLit:tlg0012.tlg001.msB:9.3\"\u001b[39m),\n",
       "      \u001b[32m\"\\u03c0\\u1f73\\u03bd\\u03b8\\u03b5\\u03ca \\u03b4' \\u1f00\\u03c4\\u03bb\\u03ae\\u03c4\\u03c9\\u03b9 \\u03b2\\u03b5\\u03b2\\u03bf\\u03bb\\u03ae\\u03b1\\u03c4\\u03bf \\u03c0\\u1f71\\u03bd\\u03c4\\u03b5\\u03c2 \\u1f04\\u03c1\\u03b9\\u03c3\\u03c4\\u03bf\\u03b9:\"\u001b[39m\n",
       "    ),\n",
       "    \u001b[33mCitableNode\u001b[39m(\n",
       "      \u001b[33mCtsUrn\u001b[39m(\u001b[32m\"urn:cts:greekLit:tlg0012.tlg001.msB:9.4\"\u001b[39m),\n",
       "      \u001b[32m\"\\u1f61\\u03c2 \\u03b4' \\u1f04\\u03bd\\u03b5\\u03bc\\u03bf\\u03b9 \\u03b4\\u1f7b\\u03bf \\u03c0\\u1f79\\u03bd\\u03c4\\u03bf\\u03bd \\u1f40\\u03c1\\u03af\\u03bd\\u03b5\\u03c4\\u03bf\\u03bd \\u1f30\\u03c7\\u03b8\\u03c5\\u1f79\\u03b5\\u03bd\\u03c4\\u03b1\"\u001b[39m\n",
       "    ),\n",
       "    \u001b[33mCitableNode\u001b[39m(\n",
       "      \u001b[33mCtsUrn\u001b[39m(\u001b[32m\"urn:cts:greekLit:tlg0012.tlg001.msB:9.5\"\u001b[39m),\n",
       "      \u001b[32m\"\\u0392\\u03bf\\u03c1\\u1f73\\u03b7\\u03c2 \\u03ba\\u03b1\\u1f76 \\u0396\\u1f73\\u03c6\\u03c5\\u03c1\\u03bf\\u03c2 , \\u03c4\\u1f7d \\u03c4\\u03b5 \\u0398\\u03c1\\u03ae\\u03ba\\u03b7\\u03b8\\u03b5\\u03bd \\u1f04\\u03b7\\u03c4\\u03bf\\u03bd\"\u001b[39m\n",
       "    ),\n",
       "    \u001b[33mCitableNode\u001b[39m(\n",
       "      \u001b[33mCtsUrn\u001b[39m(\u001b[32m\"urn:cts:greekLit:tlg0012.tlg001.msB:9.6\"\u001b[39m),\n",
       "..."
      ]
     },
     "execution_count": 7,
     "metadata": {},
     "output_type": "execute_result"
    }
   ],
   "source": [
    "// create  source corpora\n",
    "val twins9 = CorpusSource.fromUrl(twins9Url)\n",
    "//val venetusA = CorpusSource.fromUrl(venetusAUrl)"
   ]
  },
  {
   "cell_type": "code",
   "execution_count": 8,
   "metadata": {},
   "outputs": [
    {
     "data": {
      "text/plain": [
       "defined \u001b[32mfunction\u001b[39m \u001b[36mcurateNode\u001b[39m\n",
       "defined \u001b[32mfunction\u001b[39m \u001b[36masciiCorpus\u001b[39m"
      ]
     },
     "execution_count": 8,
     "metadata": {},
     "output_type": "execute_result"
    }
   ],
   "source": [
    "\n",
    "// - tokenize, keep only lexical tokens\n",
    "// - make LiteraryGreekStrings from lexical tokens, drop accents and breathings\n",
    "// - recompose into a single stripped-down string for each line\n",
    "def curateNode(cn: CitableNode, siglum: String) : CitableNode = {\n",
    "  if (cn.text.isEmpty){\n",
    "    println(\"EMPTY TEXT: \" + cn.urn)\n",
    "    cn\n",
    "  } else {\n",
    "\n",
    "    val lexTokens = LiteraryGreekString.tokenizeNode(cn).filter(_.tokenCategory == Some(LexicalToken))\n",
    "    val lgs = lexTokens.map(tkn => LiteraryGreekString(tkn.text).toLower.stripBreathingAccent.ascii)\n",
    "    val simpleAscii = lgs.mkString(\" \")\n",
    "    CitableNode(cn.urn.addVersion(s\"${siglum}_simpleascii\"),simpleAscii)\n",
    "  }\n",
    "}\n",
    "\n",
    "\n",
    "def asciiCorpus(c: Corpus, siglum: String) : Corpus = {\n",
    "  Corpus(c.nodes.map(n => curateNode(n, siglum)))\n",
    "}"
   ]
  },
  {
   "cell_type": "code",
   "execution_count": 9,
   "metadata": {
    "collapsed": true
   },
   "outputs": [
    {
     "data": {
      "text/plain": [
       "\u001b[36mupsilonScholia\u001b[39m: \u001b[32mCorpus\u001b[39m = \u001b[33mCorpus\u001b[39m(\n",
       "  \u001b[33mVector\u001b[39m(\n",
       "    \u001b[33mCitableNode\u001b[39m(\n",
       "      \u001b[33mCtsUrn\u001b[39m(\u001b[32m\"urn:cts:greekLit:tlg5026.e3.hmt:9.e3_109v_1\"\u001b[39m),\n",
       "      \u001b[32m\"\\u03b1 urn : cts : greekLit : tlg0012 . tlg001 . e3 : 9 . 1 \\u03bb\\u03b9\\u03c4\\u1f70\\u03c2 \\u03bc\\u1f72\\u03bd \\u03c4\\u1f74\\u03bd \\u1fe4\\u03b1\\u03c8\\u1ff3\\u03b4\\u03af\\u03b1\\u03bd \\u03ba\\u03b1\\u03bb\\u03bf\\u1fe6\\u03c3\\u03b9\\u03bd: \\u1f10\\u03c0\\u03b5\\u03b9 \\u03b4\\u1f74 \\u03b4\\u03b5 \\u03bf\\u1f31 \\u03a4\\u03c1\\u1ff6\\u03b5\\u03c2 \\u1f10\\u03ba \\u03c0\\u03b1\\u03c1\\u03b1\\u03b4\\u1f79\\u03be\\u03bf\\u03c5 \\u03bd\\u03b9\\u03ba\\u1ff6\\u03c3\\u03b9 \\u03b2\\u1f73\\u03bb\\u03b5\\u03c3\\u03b9 \\u0394\\u03b9\\u1f78\\u03c2 \\u03bf\\u1f50\\u03ba \\u03bf\\u1f30\\u03ba\\u03b5\\u03af\\u1fb3 \\u03b4\\u03c5\\u03bd\\u1f71\\u03bc\\u03b5\\u03b9 , \\u03c0\\u03b1\\u03bd\\u03c4\\u1f76 \\u03c0\\u1f79\\u03bd\\u1ff3 \\u03c4\\u1f74\\u03bd \\u03c4\\u03c5\\u03c7\\u03ae\\u03bd \\u03c6\\u03c5\\u03bb\\u03bb\\u1f71\\u03c4\\u03bf\\u03c5\\u03c3\\u03b9 \\u03c0\\u03b1\\u03c1\\u03b5\\u03bc\\u03b2\\u03bf\\u03bb\\u1f74\\u03bd \\u1f10\\u03c0\\u1f76 \\u03c4\\u1ff7 \\u03bd\\u03b1\\u03c5\\u03c3\\u03c4\\u1f71\\u03b8\\u03bc\\u1ff3 \\u03c0\\u03bf\\u03b9\\u03bf\\u1f7b\\u03bc\\u03b5\\u03bd\\u03bf\\u03b9: \\u03c4\\u03bf\\u1fd6\\u03c2 \\u03b4\\u1f72 \\u1f15\\u03bb\\u03bb\\u03b7\\u03c3\\u03b9\\u03bd \\u1f05\\u03c0\\u03b1\\u03bd\\u03c4\\u03b1 \\u03b4\\u03c5\\u03c3\\u03c7\\u03b5\\u03c1\\u1fc6: \\u03c0\\u03c1\\u1ff6\\u03c4\\u03b1 \\u03bc\\u1f72\\u03bd \\u1f10\\u03bd \\u03ba\\u03b1\\u03b9\\u03c1\\u1ff7 \\u03bc\\u1f74 \\u03c0\\u03b1\\u03c1\\u1f79\\u03bd\\u03c4\\u03bf\\u03c2 \\u1f00\\u03b3\\u03b1\\u03b8\\u03bf\\u1fe6 \\u03c3\\u03c5\\u03bc\\u03bc\\u1f71\\u03c7\\u03bf\\u03c5: \\u03b5\\u1f36\\u03c4\\u03b1 \\u03ba\\u03b1\\u1f76 \\u03bc\\u03b5\\u03c4\\u1f70 \\u03c0\\u03b1\\u03c1\\u1f71\\u03b2\\u03b1\\u03c3\\u03b9\\u03bd \\u03c4\\u03bf\\u03c3\\u03bf\\u1fe6\\u03c4\\u03bf\\u03bd \\u03b5\\u1f50\\u03c4\\u03c5\\u03c7\\u03bf\\u1f7b\\u03bd\\u03c4\\u03c9\\u03bd \\u03a4\\u03c1\\u1f7d\\u03c9\\u03bd : \\u03bf\\u1f31 \\u03ba\\u03b5\\u03c1\\u03b1\\u03c5\\u03bd\\u03bf\\u1f76 \\u03c4\\u03bf\\u1fe6 \\u0394\\u03af\\u03bf\\u03c2 : \\u03bc\\u1f71\\u03bb\\u03b9\\u03c3\\u03c4\\u03b1 \\u03b4\\u1f72 \\u03c0\\u1f71\\u03bd\\u03c4\\u03c9\\u03bd \\u1f41 \\u03c4\\u1f74\\u03bd \\u03b1\\u1f30\\u03c4\\u03af\\u03b1\\u03bd \\u1f14\\u03c7\\u03c9\\u03bd \\u1f08\\u03b3\\u03b1\\u03bc\\u1f73\\u03bc\\u03bd\\u03c9\\u03bd \\u1f04\\u03c7\\u03b8\\u03b5\\u03c4\\u03b1\\u03b9: \\u1f45\\u03c4' \\u1f02\\u03bd \\u03b4\\u1f72 \\u1f04\\u03bb\\u03bb\\u03c9\\u03bd \\u03c0\\u03c1\\u03b1\\u03b3\\u03bc\\u1f71\\u03c4\\u03c9\\u03bd \\u1f04\\u03c1\\u03c7\\u03b5\\u03c3\\u03b8\\u03b1\\u03b9 \\u03bc\\u1f73\\u03bb\\u03bb\\u1fc3\\u0323 , \\u1f61\\u03c2 \\u03bf\\u1f31 \\u03bd\\u1f79\\u03bc\\u03b9\\u03bc\\u03bf\\u03b9 \\u03c4\\u1ff6\\u03bd \\u1f31\\u03c3\\u03c4\\u03bf\\u03c1\\u03b9\\u03bf\\u03b3\\u03c1\\u1f71\\u03c6\\u03c9\\u03bd: \\u03c0\\u03b1\\u03c1\\u03b1\\u03b3\\u03c1\\u03b1\\u03c6\\u1f70\\u03c2 \\u1f10\\u03bc\\u03b2\\u1f71\\u03bb\\u03bb\\u03b5\\u03b9: \\u03bc\\u03b5\\u03c4\\u03b1\\u03b2\\u03b1\\u03af\\u03bd\\u03c9\\u03bd \\u03b3\\u1f70\\u03c1 \\u1f10\\u03c0\\u1f76 \\u03c4\\u1f70 \\u1f11\\u03bb\\u03bb\\u03ae\\u03bd\\u03c9\\u03bd . \\u1f00\\u03c0\\u03b5\\u03ba\\u03bf\\u03c1\\u1f7b\\u03c6\\u03c9\\u03c3\\u03b5 \\u03c4\\u1f78\\u03bd \\u03bb\\u03bf\\u03b3\\u1f7\u001b[39m..."
      ]
     },
     "execution_count": 9,
     "metadata": {},
     "output_type": "execute_result"
    }
   ],
   "source": [
    "val upsilonScholia = twins9 ~~ CtsUrn(\"urn:cts:greekLit:tlg5026.e3.hmt:\")\n",
    "\n"
   ]
  },
  {
   "cell_type": "code",
   "execution_count": 10,
   "metadata": {},
   "outputs": [
    {
     "data": {
      "text/plain": [
       "\u001b[36mres9\u001b[39m: \u001b[32mInt\u001b[39m = \u001b[32m325\u001b[39m"
      ]
     },
     "execution_count": 10,
     "metadata": {},
     "output_type": "execute_result"
    }
   ],
   "source": [
    "upsilonScholia.size\n",
    "\n",
    "// Need to build from scholia!\n",
    "// val vaNodes = (venetusA ~~  CtsUrn(\"urn:cts:greekLit:tlg5026:\")).nodes\n"
   ]
  },
  {
   "cell_type": "code",
   "execution_count": 11,
   "metadata": {},
   "outputs": [
    {
     "data": {
      "text/plain": [
       "\u001b[36mupsilonScholiaAscii\u001b[39m: \u001b[32mCorpus\u001b[39m = \u001b[33mCorpus\u001b[39m(\n",
       "  \u001b[33mVector\u001b[39m(\n",
       "    \u001b[33mCitableNode\u001b[39m(\n",
       "      \u001b[33mCtsUrn\u001b[39m(\u001b[32m\"urn:cts:greekLit:tlg5026.e3.e3_simpleascii:9.e3_109v_1\"\u001b[39m),\n",
       "      \u001b[32m\"a litas men thn rayw|dian kalousin epei dh de oi trwes ek paradocou nikwsi belesi dios ouk oikeia| dunamei panti ponw| thn tuxhn fullatousi parembolhn epi tw| naustaqmw| poioumenoi tois de ellhsin apanta dusxerh prwta men en kairw| mh parontos agaqou summaxou eita kai meta parabasin tosouton eutuxountwn trwwn oi keraunoi tou dios malista de pantwn o thn aitian exwn agamemnwn axqetai ot' an de allwn pragmatwn arxesqai ws oi nomimoi twn istoriografwn paragrafas emballei metabainwn gar epi ta ellhnwn apekorufwse ton logon\"\u001b[39m\n",
       "    ),\n",
       "    \u001b[33mCitableNode\u001b[39m(\n",
       "      \u001b[33mCtsUrn\u001b[39m(\u001b[32m\"urn:cts:greekLit:tlg5026.e3.e3_simpleascii:9.e3_109v_2\"\u001b[39m),\n",
       "      \u001b[32m\"b ora pws to antiqeton eni edhlwse rhmati trwes exon axaious exe\"\u001b[39m\n",
       "    ),\n",
       "    \u001b[33mCitableNode\u001b[39m(\n",
       "      \u001b[33mCtsUrn\u001b[39m(\u001b[32m\"urn:cts:greekLit:tlg5026.e3.e3_simpleascii:9.e3_109v_3\"\u001b[39m),\n",
       "      \u001b[32m\"g h boulhsei qewn progegenhmenh fuza de aei men h meta deous fugh oqen kai fuzakinh|s elafoisi nun de ekplhcis apologeitai de oti ek qewn kruoeis de o yuxros to gar qermon epileipei tous dediotas\"\u001b[39m\n",
       "    ),\n",
       "    \u001b[33mCitableNode\u001b[39m(\n",
       "      \u001b[33mCtsUrn\u001b[39m(\u001b[32m\"urn:cts:greekLit:tlg5026.e3.e3_simpleascii:9.e3_109v_4\"\u001b[39m),\n",
       "      \u001b[32m\"d oi men alloi en fughi oide aristoi en penqei anacion gar ellhnikwn arxontwn h fugh malista de autwn aptontai ai sumforai kai gar tas twn katorqwmatwn aitias epi tou tois anagomen to men oun bebolhato epi yuxhs to de beblhato epi swmatos\"\u001b[39m\n",
       "    ),\n",
       "    \u001b[33mCitableNode\u001b[39m(\n",
       "      \u001b[33mCtsUrn\u001b[39m(\u001b[32m\"urn:cts:greekLit:tlg5026.e3.e3_simpleascii:9.e3_109v_5\"\u001b[39m),\n",
       "      \u001b[32m\"e kai gar kai ta toutous lupounta ditta h twn parelqontwn ekplhcis kai deos twn mellontwn\"\u001b[39m\n",
       "    ),\n",
       "    \u001b[33mCitableNode\u001b[39m(\n",
       "      \u001b[33mCtsUrn\u001b[39m(\u001b[32m\"urn:cts:greekLit:tlg5026.e3.e3_simpleascii:9.e3_109v_6\"\u001b[39m),\n",
       "      \u001b[32m\"ama tw| pneusai tous anemous yilwteon de to amudis aiolikon gar kai tonon kai pneuma edecato\"\u001b[39m\n",
       "    ),\n",
       "..."
      ]
     },
     "execution_count": 11,
     "metadata": {},
     "output_type": "execute_result"
    }
   ],
   "source": [
    "val upsilonScholiaAscii = asciiCorpus(upsilonScholia, \"e3\")"
   ]
  },
  {
   "cell_type": "code",
   "execution_count": 14,
   "metadata": {},
   "outputs": [
    {
     "data": {
      "text/plain": [
       "\u001b[36mwords\u001b[39m: \u001b[32mVector\u001b[39m[\u001b[32mString\u001b[39m] = \u001b[33mVector\u001b[39m(\n",
       "  \u001b[32m\"a\"\u001b[39m,\n",
       "  \u001b[32m\"litas\"\u001b[39m,\n",
       "  \u001b[32m\"men\"\u001b[39m,\n",
       "  \u001b[32m\"thn\"\u001b[39m,\n",
       "  \u001b[32m\"rayw|dian\"\u001b[39m,\n",
       "  \u001b[32m\"kalousin\"\u001b[39m,\n",
       "  \u001b[32m\"epei\"\u001b[39m,\n",
       "  \u001b[32m\"dh\"\u001b[39m,\n",
       "  \u001b[32m\"de\"\u001b[39m,\n",
       "  \u001b[32m\"oi\"\u001b[39m,\n",
       "  \u001b[32m\"trwes\"\u001b[39m,\n",
       "  \u001b[32m\"ek\"\u001b[39m,\n",
       "  \u001b[32m\"paradocou\"\u001b[39m,\n",
       "  \u001b[32m\"nikwsi\"\u001b[39m,\n",
       "  \u001b[32m\"belesi\"\u001b[39m,\n",
       "  \u001b[32m\"dios\"\u001b[39m,\n",
       "  \u001b[32m\"ouk\"\u001b[39m,\n",
       "  \u001b[32m\"oikeia|\"\u001b[39m,\n",
       "  \u001b[32m\"dunamei\"\u001b[39m,\n",
       "  \u001b[32m\"panti\"\u001b[39m,\n",
       "  \u001b[32m\"ponw|\"\u001b[39m,\n",
       "  \u001b[32m\"thn\"\u001b[39m,\n",
       "  \u001b[32m\"tuxhn\"\u001b[39m,\n",
       "  \u001b[32m\"fullatousi\"\u001b[39m,\n",
       "  \u001b[32m\"parembolhn\"\u001b[39m,\n",
       "  \u001b[32m\"epi\"\u001b[39m,\n",
       "  \u001b[32m\"tw|\"\u001b[39m,\n",
       "  \u001b[32m\"naustaqmw|\"\u001b[39m,\n",
       "  \u001b[32m\"poioumenoi\"\u001b[39m,\n",
       "  \u001b[32m\"tois\"\u001b[39m,\n",
       "  \u001b[32m\"de\"\u001b[39m,\n",
       "  \u001b[32m\"ellhsin\"\u001b[39m,\n",
       "  \u001b[32m\"apanta\"\u001b[39m,\n",
       "  \u001b[32m\"dusxerh\"\u001b[39m,\n",
       "  \u001b[32m\"prwta\"\u001b[39m,\n",
       "  \u001b[32m\"men\"\u001b[39m,\n",
       "  \u001b[32m\"en\"\u001b[39m,\n",
       "  \u001b[32m\"kairw|\"\u001b[39m,\n",
       "..."
      ]
     },
     "execution_count": 14,
     "metadata": {},
     "output_type": "execute_result"
    }
   ],
   "source": [
    "val words = upsilonScholiaAscii.nodes.map(_.text).mkString(\"\\n\").split(\"[ ]+\").toVector\n"
   ]
  },
  {
   "cell_type": "code",
   "execution_count": 17,
   "metadata": {},
   "outputs": [
    {
     "data": {
      "text/plain": [
       "\u001b[36mgrouped\u001b[39m: \u001b[32mVector\u001b[39m[(\u001b[32mString\u001b[39m, \u001b[32mVector\u001b[39m[\u001b[32mString\u001b[39m])] = \u001b[33mVector\u001b[39m(\n",
       "  (\u001b[32m\"eunous\"\u001b[39m, \u001b[33mVector\u001b[39m(\u001b[32m\"eunous\"\u001b[39m)),\n",
       "  (\u001b[32m\"rhtoreia\"\u001b[39m, \u001b[33mVector\u001b[39m(\u001b[32m\"rhtoreia\"\u001b[39m, \u001b[32m\"rhtoreia\"\u001b[39m)),\n",
       "  (\u001b[32m\"laqein\"\u001b[39m, \u001b[33mVector\u001b[39m(\u001b[32m\"laqein\"\u001b[39m, \u001b[32m\"laqein\"\u001b[39m)),\n",
       "  (\u001b[32m\"prwthn\"\u001b[39m, \u001b[33mVector\u001b[39m(\u001b[32m\"prwthn\"\u001b[39m, \u001b[32m\"prwthn\"\u001b[39m)),\n",
       "  (\u001b[32m\"siwphs\"\u001b[39m, \u001b[33mVector\u001b[39m(\u001b[32m\"siwphs\"\u001b[39m)),\n",
       "  (\u001b[32m\"sunepontai\"\u001b[39m, \u001b[33mVector\u001b[39m(\u001b[32m\"sunepontai\"\u001b[39m)),\n",
       "  (\u001b[32m\"fasi\"\u001b[39m, \u001b[33mVector\u001b[39m(\u001b[32m\"fasi\"\u001b[39m, \u001b[32m\"fasi\"\u001b[39m, \u001b[32m\"fasi\"\u001b[39m)),\n",
       "  (\u001b[32m\"eirhnhs\"\u001b[39m, \u001b[33mVector\u001b[39m(\u001b[32m\"eirhnhs\"\u001b[39m)),\n",
       "  (\u001b[32m\"dieqhke\"\u001b[39m, \u001b[33mVector\u001b[39m(\u001b[32m\"dieqhke\"\u001b[39m)),\n",
       "  (\u001b[32m\"dakruon\"\u001b[39m, \u001b[33mVector\u001b[39m(\u001b[32m\"dakruon\"\u001b[39m)),\n",
       "  (\u001b[32m\"eqelontes\"\u001b[39m, \u001b[33mVector\u001b[39m(\u001b[32m\"eqelontes\"\u001b[39m)),\n",
       "  (\u001b[32m\"apaitwn\"\u001b[39m, \u001b[33mVector\u001b[39m(\u001b[32m\"apaitwn\"\u001b[39m)),\n",
       "  (\u001b[32m\"allodaph|\"\u001b[39m, \u001b[33mVector\u001b[39m(\u001b[32m\"allodaph|\"\u001b[39m)),\n",
       "  (\u001b[32m\"exqrais\"\u001b[39m, \u001b[33mVector\u001b[39m(\u001b[32m\"exqrais\"\u001b[39m)),\n",
       "  (\u001b[32m\"oktw\"\u001b[39m, \u001b[33mVector\u001b[39m(\u001b[32m\"oktw\"\u001b[39m)),\n",
       "  (\u001b[32m\"apurous\"\u001b[39m, \u001b[33mVector\u001b[39m(\u001b[32m\"apurous\"\u001b[39m)),\n",
       "  (\u001b[32m\"xrhston\"\u001b[39m, \u001b[33mVector\u001b[39m(\u001b[32m\"xrhston\"\u001b[39m)),\n",
       "  (\u001b[32m\"areion\"\u001b[39m, \u001b[33mVector\u001b[39m(\u001b[32m\"areion\"\u001b[39m)),\n",
       "  (\u001b[32m\"aixmalwton\"\u001b[39m, \u001b[33mVector\u001b[39m(\u001b[32m\"aixmalwton\"\u001b[39m)),\n",
       "  (\u001b[32m\"metriothtos\"\u001b[39m, \u001b[33mVector\u001b[39m(\u001b[32m\"metriothtos\"\u001b[39m)),\n",
       "  (\u001b[32m\"legomenois\"\u001b[39m, \u001b[33mVector\u001b[39m(\u001b[32m\"legomenois\"\u001b[39m)),\n",
       "  (\u001b[32m\"epanelqein\"\u001b[39m, \u001b[33mVector\u001b[39m(\u001b[32m\"epanelqein\"\u001b[39m)),\n",
       "  (\u001b[32m\"antis\"\u001b[39m, \u001b[33mVector\u001b[39m(\u001b[32m\"antis\"\u001b[39m)),\n",
       "  (\n",
       "    \u001b[32m\"\"\"fhsi\n",
       "iq\"\"\"\u001b[39m,\n",
       "    \u001b[33mVector\u001b[39m(\n",
       "      \u001b[32m\"\"\"fhsi\n",
       "iq\"\"\"\u001b[39m\n",
       "    )\n",
       "  ),\n",
       "  (\u001b[32m\"pollw|\"\u001b[39m, \u001b[33mVector\u001b[39m(\u001b[32m\"pollw|\"\u001b[39m)),\n",
       "  (\n",
       "    \u001b[32m\"eisi\"\u001b[39m,\n",
       "    \u001b[33mVector\u001b[39m(\n",
       "      \u001b[32m\"eisi\"\u001b[39m,\n",
       "      \u001b[32m\"eisi\"\u001b[39m,\n",
       "      \u001b[32m\"eisi\"\u001b[39m,\n",
       "...\n",
       "\u001b[36mfrequencies\u001b[39m: \u001b[32mVector\u001b[39m[(\u001b[32mString\u001b[39m, \u001b[32mInt\u001b[39m)] = \u001b[33mVector\u001b[39m(\n",
       "  (\u001b[32m\"eunous\"\u001b[39m, \u001b[32m1\u001b[39m),\n",
       "  (\u001b[32m\"rhtoreia\"\u001b[39m, \u001b[32m2\u001b[39m),\n",
       "  (\u001b[32m\"laqein\"\u001b[39m, \u001b[32m2\u001b[39m),\n",
       "  (\u001b[32m\"prwthn\"\u001b[39m, \u001b[32m2\u001b[39m),\n",
       "  (\u001b[32m\"siwphs\"\u001b[39m, \u001b[32m1\u001b[39m),\n",
       "  (\u001b[32m\"sunepontai\"\u001b[39m, \u001b[32m1\u001b[39m),\n",
       "  (\u001b[32m\"fasi\"\u001b[39m, \u001b[32m3\u001b[39m),\n",
       "  (\u001b[32m\"eirhnhs\"\u001b[39m, \u001b[32m1\u001b[39m),\n",
       "  (\u001b[32m\"dieqhke\"\u001b[39m, \u001b[32m1\u001b[39m),\n",
       "  (\u001b[32m\"dakruon\"\u001b[39m, \u001b[32m1\u001b[39m),\n",
       "  (\u001b[32m\"eqelontes\"\u001b[39m, \u001b[32m1\u001b[39m),\n",
       "  (\u001b[32m\"apaitwn\"\u001b[39m, \u001b[32m1\u001b[39m),\n",
       "  (\u001b[32m\"allodaph|\"\u001b[39m, \u001b[32m1\u001b[39m),\n",
       "  (\u001b[32m\"exqrais\"\u001b[39m, \u001b[32m1\u001b[39m),\n",
       "  (\u001b[32m\"oktw\"\u001b[39m, \u001b[32m1\u001b[39m),\n",
       "  (\u001b[32m\"apurous\"\u001b[39m, \u001b[32m1\u001b[39m),\n",
       "  (\u001b[32m\"xrhston\"\u001b[39m, \u001b[32m1\u001b[39m),\n",
       "  (\u001b[32m\"areion\"\u001b[39m, \u001b[32m1\u001b[39m),\n",
       "  (\u001b[32m\"aixmalwton\"\u001b[39m, \u001b[32m1\u001b[39m),\n",
       "  (\u001b[32m\"metriothtos\"\u001b[39m, \u001b[32m1\u001b[39m),\n",
       "  (\u001b[32m\"legomenois\"\u001b[39m, \u001b[32m1\u001b[39m),\n",
       "  (\u001b[32m\"epanelqein\"\u001b[39m, \u001b[32m1\u001b[39m),\n",
       "  (\u001b[32m\"antis\"\u001b[39m, \u001b[32m1\u001b[39m),\n",
       "  (\n",
       "    \u001b[32m\"\"\"fhsi\n",
       "iq\"\"\"\u001b[39m,\n",
       "    \u001b[32m1\u001b[39m\n",
       "  ),\n",
       "  (\u001b[32m\"pollw|\"\u001b[39m, \u001b[32m1\u001b[39m),\n",
       "  (\u001b[32m\"eisi\"\u001b[39m, \u001b[32m9\u001b[39m),\n",
       "  (\u001b[32m\"opiasw\"\u001b[39m, \u001b[32m1\u001b[39m),\n",
       "  (\u001b[32m\"agaqous\"\u001b[39m, \u001b[32m1\u001b[39m),\n",
       "  (\u001b[32m\"aidw\"\u001b[39m, \u001b[32m1\u001b[39m),\n",
       "  (\u001b[32m\"doca\"\u001b[39m, \u001b[32m1\u001b[39m),\n",
       "  (\u001b[32m\"porizomenos\"\u001b[39m, \u001b[32m1\u001b[39m),\n",
       "  (\u001b[32m\"hlios\"\u001b[39m, \u001b[32m1\u001b[39m),\n",
       "  (\u001b[32m\"filotimias\"\u001b[39m, \u001b[32m1\u001b[39m),\n",
       "  (\n",
       "..."
      ]
     },
     "execution_count": 17,
     "metadata": {},
     "output_type": "execute_result"
    }
   ],
   "source": [
    "val grouped = words.groupBy(wd => wd).toVector\n",
    "val frequencies = grouped.map{ case (s, v) => (s, v.size)}"
   ]
  },
  {
   "cell_type": "code",
   "execution_count": 19,
   "metadata": {},
   "outputs": [
    {
     "data": {
      "text/plain": [
       "\u001b[36msorted\u001b[39m: \u001b[32mVector\u001b[39m[(\u001b[32mString\u001b[39m, \u001b[32mInt\u001b[39m)] = \u001b[33mVector\u001b[39m(\n",
       "  (\u001b[32m\"de\"\u001b[39m, \u001b[32m417\u001b[39m),\n",
       "  (\u001b[32m\"kai\"\u001b[39m, \u001b[32m395\u001b[39m),\n",
       "  (\u001b[32m\"to\"\u001b[39m, \u001b[32m297\u001b[39m),\n",
       "  (\u001b[32m\"thn\"\u001b[39m, \u001b[32m171\u001b[39m),\n",
       "  (\u001b[32m\"gar\"\u001b[39m, \u001b[32m155\u001b[39m),\n",
       "  (\u001b[32m\"twn\"\u001b[39m, \u001b[32m132\u001b[39m),\n",
       "  (\u001b[32m\"h\"\u001b[39m, \u001b[32m128\u001b[39m),\n",
       "  (\u001b[32m\"tou\"\u001b[39m, \u001b[32m128\u001b[39m),\n",
       "  (\u001b[32m\"ws\"\u001b[39m, \u001b[32m127\u001b[39m),\n",
       "  (\u001b[32m\"o\"\u001b[39m, \u001b[32m115\u001b[39m),\n",
       "  (\u001b[32m\"ths\"\u001b[39m, \u001b[32m115\u001b[39m),\n",
       "  (\u001b[32m\"ton\"\u001b[39m, \u001b[32m107\u001b[39m),\n",
       "  (\u001b[32m\"dia\"\u001b[39m, \u001b[32m89\u001b[39m),\n",
       "  (\u001b[32m\"mh\"\u001b[39m, \u001b[32m86\u001b[39m),\n",
       "  (\u001b[32m\"oti\"\u001b[39m, \u001b[32m85\u001b[39m),\n",
       "  (\u001b[32m\"ou\"\u001b[39m, \u001b[32m82\u001b[39m),\n",
       "  (\u001b[32m\"pros\"\u001b[39m, \u001b[32m72\u001b[39m),\n",
       "  (\u001b[32m\"fhsi\"\u001b[39m, \u001b[32m70\u001b[39m),\n",
       "  (\u001b[32m\"eis\"\u001b[39m, \u001b[32m64\u001b[39m),\n",
       "  (\u001b[32m\"men\"\u001b[39m, \u001b[32m63\u001b[39m),\n",
       "  (\u001b[32m\"oi\"\u001b[39m, \u001b[32m57\u001b[39m),\n",
       "  (\u001b[32m\"ouk\"\u001b[39m, \u001b[32m56\u001b[39m),\n",
       "  (\u001b[32m\"en\"\u001b[39m, \u001b[32m55\u001b[39m),\n",
       "  (\u001b[32m\"tous\"\u001b[39m, \u001b[32m54\u001b[39m),\n",
       "  (\u001b[32m\"epi\"\u001b[39m, \u001b[32m54\u001b[39m),\n",
       "  (\u001b[32m\"ta\"\u001b[39m, \u001b[32m54\u001b[39m),\n",
       "  (\u001b[32m\"tw|\"\u001b[39m, \u001b[32m51\u001b[39m),\n",
       "  (\u001b[32m\"tois\"\u001b[39m, \u001b[32m49\u001b[39m),\n",
       "  (\u001b[32m\"auton\"\u001b[39m, \u001b[32m45\u001b[39m),\n",
       "  (\u001b[32m\"ei\"\u001b[39m, \u001b[32m38\u001b[39m),\n",
       "  (\u001b[32m\"nun\"\u001b[39m, \u001b[32m37\u001b[39m),\n",
       "  (\u001b[32m\"peri\"\u001b[39m, \u001b[32m37\u001b[39m),\n",
       "  (\u001b[32m\"hn\"\u001b[39m, \u001b[32m35\u001b[39m),\n",
       "  (\u001b[32m\"oun\"\u001b[39m, \u001b[32m35\u001b[39m),\n",
       "  (\u001b[32m\"autw|\"\u001b[39m, \u001b[32m35\u001b[39m),\n",
       "  (\u001b[32m\"ina\"\u001b[39m, \u001b[32m35\u001b[39m),\n",
       "  (\u001b[32m\"autou\"\u001b[39m, \u001b[32m34\u001b[39m),\n",
       "  (\u001b[32m\"alla\"\u001b[39m, \u001b[32m34\u001b[39m),\n",
       "..."
      ]
     },
     "execution_count": 19,
     "metadata": {},
     "output_type": "execute_result"
    }
   ],
   "source": [
    "val sorted = frequencies.sortBy{ case (word, count) => count }.reverse"
   ]
  }
 ],
 "metadata": {
  "kernelspec": {
   "display_name": "Scala (2.12)",
   "language": "scala",
   "name": "scala212"
  },
  "language_info": {
   "codemirror_mode": "text/x-scala",
   "file_extension": ".scala",
   "mimetype": "text/x-scala",
   "name": "scala",
   "nbconvert_exporter": "script",
   "version": "2.12.10"
  }
 },
 "nbformat": 4,
 "nbformat_minor": 4
}
