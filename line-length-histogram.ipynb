{
 "cells": [
  {
   "cell_type": "markdown",
   "metadata": {},
   "source": [
    "## How many words fit in a dactylic hexameter?\n",
    "\n",
    "Homeric poetry is shaped in lines of 6 dactyls.  How many words make up a single hexameter?\n",
    "\n",
    "\n",
    "This notebook will load a text of the *Iliad* and count words in it. It introduces a class named `histoutils` that defines some convenient methods for working with histograms (that is, counts of occurrences of some item).\n",
    "\n",
    "\n",
    "### Load an *Iliad* text\n",
    "\n",
    "The first cell below just loads two long texts:  don't worry yet about how it works, but notice that at the end, we've created a named String value called `iliad` and a named String value called `scholia`."
   ]
  },
  {
   "cell_type": "code",
   "execution_count": 13,
   "metadata": {
    "collapsed": true
   },
   "outputs": [
    {
     "name": "stdout",
     "output_type": "stream",
     "text": [
      "Vector(Μῆνιν ἄειδε θεὰ Πηληϊάδεω Ἀχιλῆος, οὐλομένην· ἡ μυρί' Ἀχαιοῖς ἄλγε' ἔθηκεν·, πολλὰς δ' ἰφθίμους ψυχὰς Ἄϊδι προΐαψεν, ἡρώων· αὐτοὺς δὲ ἑλώρια τεῦχε κύνεσσιν, οἰωνοῖσί τε πᾶσι· Διὸς δ' ἐτελείετο βουλή·, ἐξ οὗ δὴ τὰ πρῶτα διαστήτην ἐρίσαντε, Ἀτρείδης τε ἄναξ ἀνδρῶν καὶ δῖος Ἀχιλλεύς ·, τίς τάρ σφωε θεῶν ἔριδι ξυνἕηκε μάχεσθαι·, Λητοῦς καὶ Διὸς υἱός· ὁ γὰρ βασιλῆϊ χολωθεὶς, νοῦσον ἀνὰ στρατὸν ὦρσε κακήν· ὀλέκοντο δὲ λαοὶ .)\n"
     ]
    },
    {
     "data": {
      "text/plain": [
       "\u001b[32mimport \u001b[39m\u001b[36mscala.io.Source\n",
       "\u001b[39m\n",
       "\u001b[36miliadUrl\u001b[39m: \u001b[32mString\u001b[39m = \u001b[32m\"https://raw.githubusercontent.com/neelsmith/summer2020nbs/master/data/iliad-dipl.txt\"\u001b[39m\n",
       "\u001b[36mscholiaUrl\u001b[39m: \u001b[32mString\u001b[39m = \u001b[32m\"https://raw.githubusercontent.com/neelsmith/summer2020nbs/master/data/scholia-dipl.txt\"\u001b[39m\n",
       "\u001b[36miliad\u001b[39m: \u001b[32mVector\u001b[39m[\u001b[32mString\u001b[39m] = \u001b[33mVector\u001b[39m(\n",
       "  \u001b[32m\"\\u039c\\u1fc6\\u03bd\\u03b9\\u03bd \\u1f04\\u03b5\\u03b9\\u03b4\\u03b5 \\u03b8\\u03b5\\u1f70 \\u03a0\\u03b7\\u03bb\\u03b7\\u03ca\\u1f71\\u03b4\\u03b5\\u03c9 \\u1f08\\u03c7\\u03b9\\u03bb\\u1fc6\\u03bf\\u03c2\"\u001b[39m,\n",
       "  \u001b[32m\"\\u03bf\\u1f50\\u03bb\\u03bf\\u03bc\\u1f73\\u03bd\\u03b7\\u03bd\\u00b7 \\u1f21 \\u03bc\\u03c5\\u03c1\\u03af' \\u1f08\\u03c7\\u03b1\\u03b9\\u03bf\\u1fd6\\u03c2 \\u1f04\\u03bb\\u03b3\\u03b5' \\u1f14\\u03b8\\u03b7\\u03ba\\u03b5\\u03bd\\u00b7\"\u001b[39m,\n",
       "  \u001b[32m\"\\u03c0\\u03bf\\u03bb\\u03bb\\u1f70\\u03c2 \\u03b4' \\u1f30\\u03c6\\u03b8\\u03af\\u03bc\\u03bf\\u03c5\\u03c2 \\u03c8\\u03c5\\u03c7\\u1f70\\u03c2 \\u1f0c\\u03ca\\u03b4\\u03b9 \\u03c0\\u03c1\\u03bf\\u0390\\u03b1\\u03c8\\u03b5\\u03bd\"\u001b[39m,\n",
       "  \u001b[32m\"\\u1f21\\u03c1\\u1f7d\\u03c9\\u03bd\\u00b7 \\u03b1\\u1f50\\u03c4\\u03bf\\u1f7a\\u03c2 \\u03b4\\u1f72 \\u1f11\\u03bb\\u1f7d\\u03c1\\u03b9\\u03b1 \\u03c4\\u03b5\\u1fe6\\u03c7\\u03b5 \\u03ba\\u1f7b\\u03bd\\u03b5\\u03c3\\u03c3\\u03b9\\u03bd\"\u001b[39m,\n",
       "  \u001b[32m\"\\u03bf\\u1f30\\u03c9\\u03bd\\u03bf\\u1fd6\\u03c3\\u03af \\u03c4\\u03b5 \\u03c0\\u1fb6\\u03c3\\u03b9\\u00b7 \\u0394\\u03b9\\u1f78\\u03c2 \\u03b4' \\u1f10\\u03c4\\u03b5\\u03bb\\u03b5\\u03af\\u03b5\\u03c4\\u03bf \\u03b2\\u03bf\\u03c5\\u03bb\\u03ae\\u00b7\"\u001b[39m,\n",
       "  \u001b[32m\"\\u1f10\\u03be \\u03bf\\u1f57 \\u03b4\\u1f74 \\u03c4\\u1f70 \\u03c0\\u03c1\\u1ff6\\u03c4\\u03b1 \\u03b4\\u03b9\\u03b1\\u03c3\\u03c4\\u03ae\\u03c4\\u03b7\\u03bd \\u1f10\\u03c1\\u03af\\u03c3\\u03b1\\u03bd\\u03c4\\u03b5\"\u001b[39m,\n",
       "  \u001b[32m\"\\u1f08\\u03c4\\u03c1\\u03b5\\u03af\\u03b4\\u03b7\\u03c2 \\u03c4\\u03b5 \\u1f04\\u03bd\\u03b1\\u03be \\u1f00\\u03bd\\u03b4\\u03c1\\u1ff6\\u03bd \\u03ba\\u03b1\\u1f76 \\u03b4\\u1fd6\\u03bf\\u03c2 \\u1f08\\u03c7\\u03b9\\u03bb\\u03bb\\u03b5\\u1f7b\\u03c2 \\u00b7\"\u001b[39m,\n",
       "  \u001b[32m\"\\u03c4\\u03af\\u03c2 \\u03c4\\u1f71\\u03c1 \\u03c3\\u03c6\\u03c9\\u03b5 \\u03b8\\u03b5\\u1ff6\\u03bd \\u1f14\\u03c1\\u03b9\\u03b4\\u03b9 \\u03be\\u03c5\\u03bd\\u1f15\\u03b7\\u03ba\\u03b5 \\u03bc\\u1f71\\u03c7\\u03b5\\u03c3\\u03b8\\u03b1\\u03b9\\u00b7\"\u001b[39m,\n",
       "  \u001b[32m\"\\u039b\\u03b7\\u03c4\\u03bf\\u1fe6\\u03c2 \\u03ba\\u03b1\\u1f76 \\u0394\\u03b9\\u1f78\\u03c2 \\u03c5\\u1f31\\u1f79\\u03c2\\u00b7 \\u1f41 \\u03b3\\u1f70\\u03c1 \\u03b2\\u03b1\\u03c3\\u03b9\\u03bb\\u1fc6\\u03ca \\u03c7\\u03bf\\u03bb\\u03c9\\u03b8\\u03b5\\u1f76\\u03c2\"\u001b[39m,\n",
       "  \u001b[32m\"\\u03bd\\u03bf\\u1fe6\\u03c3\\u03bf\\u03bd \\u1f00\\u03bd\\u1f70 \\u03c3\\u03c4\\u03c1\\u03b1\\u03c4\\u1f78\\u03bd \\u1f66\\u03c1\\u03c3\\u03b5 \\u03ba\\u03b1\\u03ba\\u03ae\\u03bd\\u00b7 \\u1f40\\u03bb\\u1f73\\u03ba\\u03bf\\u03bd\\u03c4\\u03bf \\u03b4\\u1f72 \\u03bb\\u03b1\\u03bf\\u1f76 .\"\u001b[39m,\n",
       "  \u001b[32m\"\\u03bf\\u1f55\\u03bd\\u03b5\\u03ba\\u03b1 \\u03c4\\u1f78\\u03bd \\u03a7\\u03c1\\u1f7b\\u03c3\\u03b7\\u03bd \\u1f20\\u03c4\\u03af\\u03bc\\u03b1\\u03c3\\u03b5\\u03bd \\u1f00\\u03c1\\u03b7\\u03c4\\u1fc6\\u03c1\\u03b1\"\u001b[39m,\n",
       "  \u001b[32m\"\\u1f08\\u03c4\\u03c1\\u03b5\\u03af\\u03b4\\u03b7\\u03c2 \\u00b7 \\u1f43 \\u03b3\\u1f70\\u03c1 \\u1f26\\u03bb\\u03b8\\u03b5 \\u03b8\\u03bf\\u1f70\\u03c2 \\u1f10\\u03c0\\u1f76 \\u03bd\\u1fc6\\u03b1\\u03c2 \\u1f08\\u03c7\\u03b1\\u03b9\\u1ff6\\u03bd \\u00b7\"\u001b[39m,\n",
       "  \u001b[32m\"\\u03bb\\u03c5\\u03c3\\u1f79\\u03bc\\u03b5\\u03bd\\u1f79\\u03c2 \\u03c4\\u03b5 \\u03b8\\u1\u001b[39m...\n",
       "\u001b[36mscholia\u001b[39m: \u001b[32mVector\u001b[39m[\u001b[32mString\u001b[39m] = \u001b[33mVector\u001b[39m(\n",
       "  \u001b[32m\"\\u03bc\\u1fc6\\u03bd\\u03b9\\u03bd \\u1f04\\u03b5\\u03b9\\u03b4\\u03b5\"\u001b[39m,\n",
       "  \u001b[32m\"\\u03b6\\u03b7\\u03c4\\u03bf\\u1fe6\\u03c3\\u03b9 \\u03b4\\u03b9\\u03b1 \\u03c4\\u03af \\u1f00\\u03c0\\u1f78 \\u03c4\\u1fc6\\u03c2 \\u03bc\\u03ae\\u03bd\\u03b9\\u03b4\\u03bf\\u03c2 \\u1f24\\u03c1\\u03be\\u03b1\\u03c4\\u03bf \\u03bf\\u1f55\\u03c4\\u03c9\\u03c2 \\u03b4\\u03c5\\u03c3\\u03c6\\u03ae\\u03bc\\u03bf\\u03c5 \\u1f40\\u03bd\\u1f79\\u03bc\\u03b1\\u03c4\\u03bf\\u03c2\\u00b7 \\u03b4\\u03b9\\u03b1 \\u03b4\\u1f7b\\u03bf \\u03c4\\u03b1\\u1fe6\\u03c4\\u03b1\\u00b7 \\u03c0\\u03c1\\u1ff6\\u03c4\\u03bf\\u03bd \\u03bc\\u1f72\\u03bd \\u1f35\\u03bd' \\u1f10\\u03ba \\u03c4\\u03bf\\u1fe6 \\u03c0\\u1f71\\u03b8\\u03bf\\u03c5\\u03c2 \\u1f00\\u03c0\\u03ba\\u03b1\\u03c4\\u03b1\\u1fe5\\u03c1\\u03b5\\u1f7b\\u03c3\\u1fc3 \\u03c4\\u1f78 \\u03c4\\u03bf\\u03b9\\u03bf\\u1fe6\\u03c4\\u03bf \\u03bc\\u1f79\\u03c1\\u03b9\\u03bf\\u03bd \\u03c4\\u1fc6\\u03c2 \\u03c8\\u03c5\\u03c7\\u1fc6\\u03c2 \\u03ba\\u03b1\\u1f76 \\u03c0\\u03c1\\u03bf\\u03c3\\u03b5\\u03ba\\u03c4\\u03b9\\u03ba\\u03c9\\u03c4\\u1f73\\u03c1\\u03bf\\u03c5\\u03c2 \\u03c4\\u03bf\\u1f7a\\u03c2 \\u1f00\\u03ba\\u03c1\\u03bf\\u03b1\\u03c4\\u1f70\\u03c2 \\u1f10\\u03c0\\u03b9 \\u03c4\\u03bf\\u1fe6 \\u03bc\\u03b5\\u03b3\\u1f73\\u03b8\\u03bf\\u03c5\\u03c2 \\u03c0\\u03bf\\u03b9\\u03ae\\u03c3\\u1fc3 \\u03ba\\u03b1\\u1f76 \\u03c0\\u03c1\\u03bf\\u03c3\\u03b5\\u03b8\\u03af\\u03b6\\u1fc3 \\u03c6\\u1f73\\u03c1\\u03b5\\u03b9\\u03bd \\u03b3\\u03b5\\u03bd\\u03bd\\u03b1\\u03af\\u03c9\\u03c2 \\u1f21\\u03bc\\u1fb6\\u03c2 \\u03c4\\u1f70 \\u03c0\\u1f71\\u03b8\\u03b7 . \\u03bc\\u1f73\\u03bb\\u03bb\\u03c9\\u03bd \\u03c0\\u03bf\\u03bb\\u03bb\\u1f73\\u03bc\\u03bf\\u03c5\\u03c2 \\u1f00\\u03c0\\u03b1\\u03b3\\u03b3\\u1f73\\u03bb\\u03bb\\u03b5\\u03b9\\u03bd\\u00b7 \\u03b4\\u03b5\\u1f7b\\u03c4\\u03b5\\u03c1\\u03bf\\u03bd . \\u1f35\\u03bd\\u03b1 \\u03c4\\u1f70 \\u1f10\\u03b3\\u03ba\\u1f7d\\u03bc\\u03b9\\u03b1 \\u03c4\\u1ff6\\u03bd \\u1f19\\u03bb\\u03bb\\u03ae\\u03bd\\u03c9\\u03bd \\u03c0\\u03b9\\u03b8\\u03b1\\u03bd\\u1f7d\\u03c4\\u03b5\\u03c1\\u03b1 \\u03c0\\u03bf\\u03b9\\u03ae\\u03c3\\u1fc3\\u00b7 \\u1f10\\u03c0\\u03b5\\u1f76 \\u03b4\\u1f72 \\u1f14\\u03bc\\u03b5\\u03bb\\u03bb\\u03b5 , \\u03bd\\u03b9\\u03ba\\u03c9\\u03bd\\u03c4\\u03b1\\u03c2 \\u1f00\\u03c0\\u03bf\\u03c6\\u03b1\\u03af\\u03bd\\u03b5\\u03b9\\u03bd \\u03c4\\u03bf\\u1f7a\\u03c2 \\u1f19\\u03bb\\u03bb\\u03b7\\u03bd\\u03b1\\u03c2 , \\u03b5\\u1f30\\u03ba\\u1f79\\u03c4\\u03c9\\u03c2 \\u03bf\\u1f50 \\u03ba\\u03b1\\u03c4\\u03b1\\u03c4\\u03c1\\u1f73\\u03c7\\u03b5\\u03b9 \\u1f00\\u03be\\u03b9\\u03bf\\u03c0\\u03b9\\u03c3\\u03c4\\u1f79\\u03c4\\u03b5\\u03c1\\u03bf\\u03bd \\u1f10\\u03ba \\u03c4\\u03bf\\u1fe6 \\u03bc\\u1f74 \\u03c0\\u03b1\\u03bd\\u03c4\\u03b1 \\u03c7\\u03b1\\u03c1\\u03af\\u03b6\\u03b5\\u03c3\\u03b8\\u03b1\\u03b9 \\u03c4\\u1ff7 \\u03b5\\u03ba\\u03b5\\u03af\\u03bd\\u03c9\\u03bd \\u1f10\\u03c0\\u03b1\\u03af\\u03bd\\u1ff3\\u00b7 \\u1f24\\u03c1\\u03be\\u03b1\\u03c4\\u03bf \\u03bc\\u1f72\\u03bd \\u1f00\\u03c0\\u1f78 \\u03bc\\u03ae\\u03bd\\u03b9\\u03b4\\u03bf\\u03c2 \\u1f10\\u03c0\\u03b5\\u03af\\u03c0\\u03b5\\u03c1 \\u03b1\\u1f55\\u03c4\\u03b7 \\u03c4\\u03bf\\u1fd6\\u03c2 \\u03c0\\u03c1\\u03b1\\u03ba\\u03c4\\u03b9\\u03ba\\u03bf\\u1fd6\\u03c2 \\u1f51\\u03c0\\u1f79\\u03b8\\u03b5\\u03c3\\u03b9\\u03c2 \\u03b3\\u1f73\\u03b3\\u03bf\\u03bd\\u03b5\\u03bd\\u00b7 \\u1f04\\u03bb\\u03bb\\u1ff3\\u03c2 \\u03c4\\u03b5 \\u03ba\\u03b1\\u1f76 \\u03c4\\u03c1\\u03b1\\u03b3\\u1ff3\\u03b4\\u03af\\u03b1\\u03b9\\u03c2 \\u03c4\\u03c1\\u\u001b[39m..."
      ]
     },
     "execution_count": 13,
     "metadata": {},
     "output_type": "execute_result"
    }
   ],
   "source": [
    "import scala.io.Source\n",
    "val iliadUrl = \"https://raw.githubusercontent.com/neelsmith/summer2020nbs/master/data/iliad-dipl.txt\"\n",
    "val scholiaUrl = \"https://raw.githubusercontent.com/neelsmith/summer2020nbs/master/data/scholia-dipl.txt\"\n",
    "\n",
    "val iliad = Source.fromURL(iliadUrl).getLines.toVector\n",
    "val scholia = Source.fromURL(scholiaUrl).getLines.toVector\n",
    "\n",
    "// sanity check: visually inspect a sample of 10 lines\n",
    "println(iliad.take(10))\n",
    "\n"
   ]
  },
  {
   "cell_type": "markdown",
   "metadata": {},
   "source": [
    "So let's count \"words\".  We could spend a long time deciding what a word is, but let's keep it simple today by:\n",
    "\n",
    "1. throwing away some punctuation characters\n",
    "2. then splitting the long text on whitespace\n",
    "\n"
   ]
  },
  {
   "cell_type": "code",
   "execution_count": 2,
   "metadata": {
    "collapsed": true
   },
   "outputs": [
    {
     "name": "stdout",
     "output_type": "stream",
     "text": [
      "Vector(Vector(Μῆνιν, ἄειδε, θεὰ, Πηληϊάδεω, Ἀχιλῆος), Vector(οὐλομένην, ἡ, μυρί', Ἀχαιοῖς, ἄλγε', ἔθηκεν), Vector(πολλὰς, δ', ἰφθίμους, ψυχὰς, Ἄϊδι, προΐαψεν), Vector(ἡρώων, αὐτοὺς, δὲ, ἑλώρια, τεῦχε, κύνεσσιν), Vector(οἰωνοῖσί, τε, πᾶσι, Διὸς, δ', ἐτελείετο, βουλή), Vector(ἐξ, οὗ, δὴ, τὰ, πρῶτα, διαστήτην, ἐρίσαντε), Vector(Ἀτρείδης, τε, ἄναξ, ἀνδρῶν, καὶ, δῖος, Ἀχιλλεύς), Vector(τίς, τάρ, σφωε, θεῶν, ἔριδι, ξυνἕηκε, μάχεσθαι), Vector(Λητοῦς, καὶ, Διὸς, υἱός, ὁ, γὰρ, βασιλῆϊ, χολωθεὶς), Vector(νοῦσον, ἀνὰ, στρατὸν, ὦρσε, κακήν, ὀλέκοντο, δὲ, λαοὶ))\n"
     ]
    },
    {
     "data": {
      "text/plain": [
       "\u001b[36miliadNoPunct\u001b[39m: \u001b[32mVector\u001b[39m[\u001b[32mString\u001b[39m] = \u001b[33mVector\u001b[39m(\n",
       "  \u001b[32m\"\\u039c\\u1fc6\\u03bd\\u03b9\\u03bd \\u1f04\\u03b5\\u03b9\\u03b4\\u03b5 \\u03b8\\u03b5\\u1f70 \\u03a0\\u03b7\\u03bb\\u03b7\\u03ca\\u1f71\\u03b4\\u03b5\\u03c9 \\u1f08\\u03c7\\u03b9\\u03bb\\u1fc6\\u03bf\\u03c2\"\u001b[39m,\n",
       "  \u001b[32m\"\\u03bf\\u1f50\\u03bb\\u03bf\\u03bc\\u1f73\\u03bd\\u03b7\\u03bd \\u1f21 \\u03bc\\u03c5\\u03c1\\u03af' \\u1f08\\u03c7\\u03b1\\u03b9\\u03bf\\u1fd6\\u03c2 \\u1f04\\u03bb\\u03b3\\u03b5' \\u1f14\\u03b8\\u03b7\\u03ba\\u03b5\\u03bd\"\u001b[39m,\n",
       "  \u001b[32m\"\\u03c0\\u03bf\\u03bb\\u03bb\\u1f70\\u03c2 \\u03b4' \\u1f30\\u03c6\\u03b8\\u03af\\u03bc\\u03bf\\u03c5\\u03c2 \\u03c8\\u03c5\\u03c7\\u1f70\\u03c2 \\u1f0c\\u03ca\\u03b4\\u03b9 \\u03c0\\u03c1\\u03bf\\u0390\\u03b1\\u03c8\\u03b5\\u03bd\"\u001b[39m,\n",
       "  \u001b[32m\"\\u1f21\\u03c1\\u1f7d\\u03c9\\u03bd \\u03b1\\u1f50\\u03c4\\u03bf\\u1f7a\\u03c2 \\u03b4\\u1f72 \\u1f11\\u03bb\\u1f7d\\u03c1\\u03b9\\u03b1 \\u03c4\\u03b5\\u1fe6\\u03c7\\u03b5 \\u03ba\\u1f7b\\u03bd\\u03b5\\u03c3\\u03c3\\u03b9\\u03bd\"\u001b[39m,\n",
       "  \u001b[32m\"\\u03bf\\u1f30\\u03c9\\u03bd\\u03bf\\u1fd6\\u03c3\\u03af \\u03c4\\u03b5 \\u03c0\\u1fb6\\u03c3\\u03b9 \\u0394\\u03b9\\u1f78\\u03c2 \\u03b4' \\u1f10\\u03c4\\u03b5\\u03bb\\u03b5\\u03af\\u03b5\\u03c4\\u03bf \\u03b2\\u03bf\\u03c5\\u03bb\\u03ae\"\u001b[39m,\n",
       "  \u001b[32m\"\\u1f10\\u03be \\u03bf\\u1f57 \\u03b4\\u1f74 \\u03c4\\u1f70 \\u03c0\\u03c1\\u1ff6\\u03c4\\u03b1 \\u03b4\\u03b9\\u03b1\\u03c3\\u03c4\\u03ae\\u03c4\\u03b7\\u03bd \\u1f10\\u03c1\\u03af\\u03c3\\u03b1\\u03bd\\u03c4\\u03b5\"\u001b[39m,\n",
       "  \u001b[32m\"\\u1f08\\u03c4\\u03c1\\u03b5\\u03af\\u03b4\\u03b7\\u03c2 \\u03c4\\u03b5 \\u1f04\\u03bd\\u03b1\\u03be \\u1f00\\u03bd\\u03b4\\u03c1\\u1ff6\\u03bd \\u03ba\\u03b1\\u1f76 \\u03b4\\u1fd6\\u03bf\\u03c2 \\u1f08\\u03c7\\u03b9\\u03bb\\u03bb\\u03b5\\u1f7b\\u03c2 \"\u001b[39m,\n",
       "  \u001b[32m\"\\u03c4\\u03af\\u03c2 \\u03c4\\u1f71\\u03c1 \\u03c3\\u03c6\\u03c9\\u03b5 \\u03b8\\u03b5\\u1ff6\\u03bd \\u1f14\\u03c1\\u03b9\\u03b4\\u03b9 \\u03be\\u03c5\\u03bd\\u1f15\\u03b7\\u03ba\\u03b5 \\u03bc\\u1f71\\u03c7\\u03b5\\u03c3\\u03b8\\u03b1\\u03b9\"\u001b[39m,\n",
       "  \u001b[32m\"\\u039b\\u03b7\\u03c4\\u03bf\\u1fe6\\u03c2 \\u03ba\\u03b1\\u1f76 \\u0394\\u03b9\\u1f78\\u03c2 \\u03c5\\u1f31\\u1f79\\u03c2 \\u1f41 \\u03b3\\u1f70\\u03c1 \\u03b2\\u03b1\\u03c3\\u03b9\\u03bb\\u1fc6\\u03ca \\u03c7\\u03bf\\u03bb\\u03c9\\u03b8\\u03b5\\u1f76\\u03c2\"\u001b[39m,\n",
       "  \u001b[32m\"\\u03bd\\u03bf\\u1fe6\\u03c3\\u03bf\\u03bd \\u1f00\\u03bd\\u1f70 \\u03c3\\u03c4\\u03c1\\u03b1\\u03c4\\u1f78\\u03bd \\u1f66\\u03c1\\u03c3\\u03b5 \\u03ba\\u03b1\\u03ba\\u03ae\\u03bd \\u1f40\\u03bb\\u1f73\\u03ba\\u03bf\\u03bd\\u03c4\\u03bf \\u03b4\\u1f72 \\u03bb\\u03b1\\u03bf\\u1f76 \"\u001b[39m,\n",
       "  \u001b[32m\"\\u03bf\\u1f55\\u03bd\\u03b5\\u03ba\\u03b1 \\u03c4\\u1f78\\u03bd \\u03a7\\u03c1\\u1f7b\\u03c3\\u03b7\\u03bd \\u1f20\\u03c4\\u03af\\u03bc\\u03b1\\u03c3\\u03b5\\u03bd \\u1f00\\u03c1\\u03b7\\u03c4\\u1fc6\\u03c1\\u03b1\"\u001b[39m,\n",
       "  \u001b[32m\"\\u1f08\\u03c4\\u03c1\\u03b5\\u03af\\u03b4\\u03b7\\u03c2  \\u1f43 \\u03b3\\u1f70\\u03c1 \\u1f26\\u03bb\\u03b8\\u03b5 \\u03b8\\u03bf\\u1f70\\u03c2 \\u1f10\\u03c0\\u1f76 \\u03bd\\u1fc6\\u03b1\\u03c2 \\u1f08\\u03c7\\u03b1\\u03b9\\u1ff6\\u03bd \"\u001b[39m,\n",
       "  \u001b[32m\"\\u03bb\\u03c5\\u03c3\\u1f79\\u03bc\\u03b5\\u03bd\\u1f79\\u03c2 \\u03c4\\u03b5 \\u03b8\\u1\u001b[39m...\n",
       "\u001b[36miliadWordsByLine\u001b[39m: \u001b[32mVector\u001b[39m[\u001b[32mVector\u001b[39m[\u001b[32mString\u001b[39m]] = \u001b[33mVector\u001b[39m(\n",
       "  \u001b[33mVector\u001b[39m(\n",
       "    \u001b[32m\"\\u039c\\u1fc6\\u03bd\\u03b9\\u03bd\"\u001b[39m,\n",
       "    \u001b[32m\"\\u1f04\\u03b5\\u03b9\\u03b4\\u03b5\"\u001b[39m,\n",
       "    \u001b[32m\"\\u03b8\\u03b5\\u1f70\"\u001b[39m,\n",
       "    \u001b[32m\"\\u03a0\\u03b7\\u03bb\\u03b7\\u03ca\\u1f71\\u03b4\\u03b5\\u03c9\"\u001b[39m,\n",
       "    \u001b[32m\"\\u1f08\\u03c7\\u03b9\\u03bb\\u1fc6\\u03bf\\u03c2\"\u001b[39m\n",
       "  ),\n",
       "  \u001b[33mVector\u001b[39m(\n",
       "    \u001b[32m\"\\u03bf\\u1f50\\u03bb\\u03bf\\u03bc\\u1f73\\u03bd\\u03b7\\u03bd\"\u001b[39m,\n",
       "    \u001b[32m\"\\u1f21\"\u001b[39m,\n",
       "    \u001b[32m\"\\u03bc\\u03c5\\u03c1\\u03af'\"\u001b[39m,\n",
       "    \u001b[32m\"\\u1f08\\u03c7\\u03b1\\u03b9\\u03bf\\u1fd6\\u03c2\"\u001b[39m,\n",
       "    \u001b[32m\"\\u1f04\\u03bb\\u03b3\\u03b5'\"\u001b[39m,\n",
       "    \u001b[32m\"\\u1f14\\u03b8\\u03b7\\u03ba\\u03b5\\u03bd\"\u001b[39m\n",
       "  ),\n",
       "  \u001b[33mVector\u001b[39m(\n",
       "    \u001b[32m\"\\u03c0\\u03bf\\u03bb\\u03bb\\u1f70\\u03c2\"\u001b[39m,\n",
       "    \u001b[32m\"\\u03b4'\"\u001b[39m,\n",
       "    \u001b[32m\"\\u1f30\\u03c6\\u03b8\\u03af\\u03bc\\u03bf\\u03c5\\u03c2\"\u001b[39m,\n",
       "    \u001b[32m\"\\u03c8\\u03c5\\u03c7\\u1f70\\u03c2\"\u001b[39m,\n",
       "    \u001b[32m\"\\u1f0c\\u03ca\\u03b4\\u03b9\"\u001b[39m,\n",
       "    \u001b[32m\"\\u03c0\\u03c1\\u03bf\\u0390\\u03b1\\u03c8\\u03b5\\u03bd\"\u001b[39m\n",
       "  ),\n",
       "  \u001b[33mVector\u001b[39m(\n",
       "    \u001b[32m\"\\u1f21\\u03c1\\u1f7d\\u03c9\\u03bd\"\u001b[39m,\n",
       "    \u001b[32m\"\\u03b1\\u1f50\\u03c4\\u03bf\\u1f7a\\u03c2\"\u001b[39m,\n",
       "    \u001b[32m\"\\u03b4\\u1f72\"\u001b[39m,\n",
       "    \u001b[32m\"\\u1f11\\u03bb\\u1f7d\\u03c1\\u03b9\\u03b1\"\u001b[39m,\n",
       "    \u001b[32m\"\\u03c4\\u03b5\\u1fe6\\u03c7\\u03b5\"\u001b[39m,\n",
       "    \u001b[32m\"\\u03ba\\u1f7b\\u03bd\\u03b5\\u03c3\\u03c3\\u03b9\\u03bd\"\u001b[39m\n",
       "  ),\n",
       "  \u001b[33mVector\u001b[39m(\n",
       "    \u001b[32m\"\\u03bf\\u1f30\\u03c9\\u03bd\\u03bf\\u1fd6\\u03c3\\u03af\"\u001b[39m,\n",
       "    \u001b[32m\"\\u03c4\\u03b5\"\u001b[39m,\n",
       "    \u001b[32m\"\\u03c0\\u1fb6\\u03c3\\u03b9\"\u001b[39m,\n",
       "    \u001b[32m\"\\u0394\\u03b9\\u1f78\\u03c2\"\u001b[39m,\n",
       "    \u001b[32m\"\\u03b4'\"\u001b[39m,\n",
       "    \u001b[32m\"\\u1f10\\u03c4\\u03b5\\u03bb\\u03b5\\u03af\\u03b5\\u03c4\\u03bf\"\u001b[39m,\n",
       "..."
      ]
     },
     "execution_count": 2,
     "metadata": {},
     "output_type": "execute_result"
    }
   ],
   "source": [
    "// We'll learn more later about what's going on here: the list of\n",
    "// characters inside square brackets is actually a *regular expression*\n",
    "val iliadNoPunct = iliad.map(ln => ln.replaceAll(\"[,·\\\\.:~]\", \"\"))\n",
    "// The expression [ ] means \"one or more occurrences of any Whitespace character\"\n",
    "val iliadWordsByLine = iliadNoPunct.map(ln => ln.split(\"[ \\n]+\").toVector)\n",
    "\n",
    "// Print first 100 words to see if they look right...\n",
    "println(iliadWordsByLine.take(10))\n"
   ]
  },
  {
   "cell_type": "code",
   "execution_count": 4,
   "metadata": {
    "collapsed": true
   },
   "outputs": [
    {
     "data": {
      "text/plain": [
       "\u001b[36mwordCountsByIliadLine\u001b[39m: \u001b[32mVector\u001b[39m[\u001b[32mInt\u001b[39m] = \u001b[33mVector\u001b[39m(\n",
       "  \u001b[32m5\u001b[39m,\n",
       "  \u001b[32m6\u001b[39m,\n",
       "  \u001b[32m6\u001b[39m,\n",
       "  \u001b[32m6\u001b[39m,\n",
       "  \u001b[32m7\u001b[39m,\n",
       "  \u001b[32m7\u001b[39m,\n",
       "  \u001b[32m7\u001b[39m,\n",
       "  \u001b[32m7\u001b[39m,\n",
       "  \u001b[32m8\u001b[39m,\n",
       "  \u001b[32m8\u001b[39m,\n",
       "  \u001b[32m5\u001b[39m,\n",
       "  \u001b[32m8\u001b[39m,\n",
       "  \u001b[32m7\u001b[39m,\n",
       "  \u001b[32m6\u001b[39m,\n",
       "  \u001b[32m7\u001b[39m,\n",
       "  \u001b[32m6\u001b[39m,\n",
       "  \u001b[32m6\u001b[39m,\n",
       "  \u001b[32m7\u001b[39m,\n",
       "  \u001b[32m7\u001b[39m,\n",
       "  \u001b[32m8\u001b[39m,\n",
       "  \u001b[32m5\u001b[39m,\n",
       "  \u001b[32m6\u001b[39m,\n",
       "  \u001b[32m7\u001b[39m,\n",
       "  \u001b[32m6\u001b[39m,\n",
       "  \u001b[32m8\u001b[39m,\n",
       "  \u001b[32m8\u001b[39m,\n",
       "  \u001b[32m7\u001b[39m,\n",
       "  \u001b[32m9\u001b[39m,\n",
       "  \u001b[32m9\u001b[39m,\n",
       "  \u001b[32m7\u001b[39m,\n",
       "  \u001b[32m6\u001b[39m,\n",
       "  \u001b[32m9\u001b[39m,\n",
       "  \u001b[32m9\u001b[39m,\n",
       "  \u001b[32m7\u001b[39m,\n",
       "  \u001b[32m8\u001b[39m,\n",
       "  \u001b[32m6\u001b[39m,\n",
       "  \u001b[32m6\u001b[39m,\n",
       "  \u001b[32m7\u001b[39m,\n",
       "..."
      ]
     },
     "execution_count": 4,
     "metadata": {},
     "output_type": "execute_result"
    }
   ],
   "source": [
    "val wordCountsByIliadLine =  iliadWordsByLine.map(words => words.size).toVector"
   ]
  },
  {
   "cell_type": "markdown",
   "metadata": {},
   "source": [
    "Group word counts into lists, then find the size of each list."
   ]
  },
  {
   "cell_type": "code",
   "execution_count": 5,
   "metadata": {
    "collapsed": true
   },
   "outputs": [
    {
     "data": {
      "text/plain": [
       "\u001b[36mwcGrouped\u001b[39m: \u001b[32mVector\u001b[39m[(\u001b[32mInt\u001b[39m, \u001b[32mVector\u001b[39m[\u001b[32mInt\u001b[39m])] = \u001b[33mVector\u001b[39m(\n",
       "  (\n",
       "    \u001b[32m5\u001b[39m,\n",
       "    \u001b[33mVector\u001b[39m(\n",
       "      \u001b[32m5\u001b[39m,\n",
       "      \u001b[32m5\u001b[39m,\n",
       "      \u001b[32m5\u001b[39m,\n",
       "      \u001b[32m5\u001b[39m,\n",
       "      \u001b[32m5\u001b[39m,\n",
       "      \u001b[32m5\u001b[39m,\n",
       "      \u001b[32m5\u001b[39m,\n",
       "      \u001b[32m5\u001b[39m,\n",
       "      \u001b[32m5\u001b[39m,\n",
       "      \u001b[32m5\u001b[39m,\n",
       "      \u001b[32m5\u001b[39m,\n",
       "      \u001b[32m5\u001b[39m,\n",
       "      \u001b[32m5\u001b[39m,\n",
       "      \u001b[32m5\u001b[39m,\n",
       "      \u001b[32m5\u001b[39m,\n",
       "      \u001b[32m5\u001b[39m,\n",
       "      \u001b[32m5\u001b[39m,\n",
       "      \u001b[32m5\u001b[39m,\n",
       "      \u001b[32m5\u001b[39m,\n",
       "      \u001b[32m5\u001b[39m,\n",
       "      \u001b[32m5\u001b[39m,\n",
       "      \u001b[32m5\u001b[39m,\n",
       "      \u001b[32m5\u001b[39m,\n",
       "      \u001b[32m5\u001b[39m,\n",
       "      \u001b[32m5\u001b[39m,\n",
       "      \u001b[32m5\u001b[39m,\n",
       "      \u001b[32m5\u001b[39m,\n",
       "      \u001b[32m5\u001b[39m,\n",
       "      \u001b[32m5\u001b[39m,\n",
       "      \u001b[32m5\u001b[39m,\n",
       "      \u001b[32m5\u001b[39m,\n",
       "      \u001b[32m5\u001b[39m,\n",
       "      \u001b[32m5\u001b[39m,\n",
       "      \u001b[32m5\u001b[39m,\n",
       "      \u001b[32m5\u001b[39m,\n",
       "..."
      ]
     },
     "execution_count": 5,
     "metadata": {},
     "output_type": "execute_result"
    }
   ],
   "source": [
    "val wcGrouped = wordCountsByIliadLine.groupBy(count => count).toVector"
   ]
  },
  {
   "cell_type": "code",
   "execution_count": 6,
   "metadata": {
    "collapsed": true
   },
   "outputs": [
    {
     "data": {
      "text/plain": [
       "\u001b[36mwcCounts\u001b[39m: \u001b[32mVector\u001b[39m[(\u001b[32mInt\u001b[39m, \u001b[32mInt\u001b[39m)] = \u001b[33mVector\u001b[39m(\n",
       "  (\u001b[32m5\u001b[39m, \u001b[32m1194\u001b[39m),\n",
       "  (\u001b[32m10\u001b[39m, \u001b[32m536\u001b[39m),\n",
       "  (\u001b[32m1\u001b[39m, \u001b[32m31\u001b[39m),\n",
       "  (\u001b[32m6\u001b[39m, \u001b[32m3556\u001b[39m),\n",
       "  (\u001b[32m9\u001b[39m, \u001b[32m1652\u001b[39m),\n",
       "  (\u001b[32m2\u001b[39m, \u001b[32m27\u001b[39m),\n",
       "  (\u001b[32m12\u001b[39m, \u001b[32m15\u001b[39m),\n",
       "  (\u001b[32m7\u001b[39m, \u001b[32m4810\u001b[39m),\n",
       "  (\u001b[32m3\u001b[39m, \u001b[32m24\u001b[39m),\n",
       "  (\u001b[32m11\u001b[39m, \u001b[32m114\u001b[39m),\n",
       "  (\u001b[32m8\u001b[39m, \u001b[32m3411\u001b[39m),\n",
       "  (\u001b[32m4\u001b[39m, \u001b[32m269\u001b[39m)\n",
       ")"
      ]
     },
     "execution_count": 6,
     "metadata": {},
     "output_type": "execute_result"
    }
   ],
   "source": [
    "val wcCounts = wcGrouped.map{ case (wordcount, occurrences) => (wordcount, occurrences.size)}\n"
   ]
  },
  {
   "cell_type": "code",
   "execution_count": 8,
   "metadata": {},
   "outputs": [
    {
     "data": {
      "text/plain": [
       "\u001b[36mres7\u001b[39m: \u001b[32mVector\u001b[39m[(\u001b[32mInt\u001b[39m, \u001b[32mInt\u001b[39m)] = \u001b[33mVector\u001b[39m(\n",
       "  (\u001b[32m12\u001b[39m, \u001b[32m15\u001b[39m),\n",
       "  (\u001b[32m3\u001b[39m, \u001b[32m24\u001b[39m),\n",
       "  (\u001b[32m2\u001b[39m, \u001b[32m27\u001b[39m),\n",
       "  (\u001b[32m1\u001b[39m, \u001b[32m31\u001b[39m),\n",
       "  (\u001b[32m11\u001b[39m, \u001b[32m114\u001b[39m),\n",
       "  (\u001b[32m4\u001b[39m, \u001b[32m269\u001b[39m),\n",
       "  (\u001b[32m10\u001b[39m, \u001b[32m536\u001b[39m),\n",
       "  (\u001b[32m5\u001b[39m, \u001b[32m1194\u001b[39m),\n",
       "  (\u001b[32m9\u001b[39m, \u001b[32m1652\u001b[39m),\n",
       "  (\u001b[32m8\u001b[39m, \u001b[32m3411\u001b[39m),\n",
       "  (\u001b[32m6\u001b[39m, \u001b[32m3556\u001b[39m),\n",
       "  (\u001b[32m7\u001b[39m, \u001b[32m4810\u001b[39m)\n",
       ")"
      ]
     },
     "execution_count": 8,
     "metadata": {},
     "output_type": "execute_result"
    }
   ],
   "source": [
    "wcCounts.sortBy(_._2)\n"
   ]
  },
  {
   "cell_type": "code",
   "execution_count": 11,
   "metadata": {},
   "outputs": [
    {
     "name": "stdout",
     "output_type": "stream",
     "text": [
      "Vector(Vector(), Vector(), Vector(), Vector(), Vector(), Vector(), Vector(), Vector(νῦν δ' έτι καὶ μᾶλλον νοέω φρεσὶ τιμήσασθαι), Vector(τείχεος ἐξελθεῖν ἄλλοι δ' ἔντοσθε μένουσι), Vector(ἠθεῖ' ῆ μὲν πολλὰ πατὴρ καὶ πότνια μήτηρ), Vector(ἂλλ' ἐμὸς ἔνδοθι θυμὸς ἐτείρετο πένθεϊ λυγρῷ), Vector(νῦν δ' ἰ̈θὺς μεμαῶτε μαχώμεθα μη δέ τι δούρων), Vector(οἱ δ' ὅτε δὴ σχεδὸν ἦσαν ἐπ ἀλλήλοισιν ἰ̈όντες), Vector(ἂλλ' άγε δεῦρο θεοὺς ἐπιδώμεθα τοὶ γὰρ ἄριστοι), Vector(ὡς οὐκ έστι λέουσι καὶ ἀνδράσιν ὅρκια πιστὰ), Vector(οὐδὲ λύκοι τε καὶ ἄρνες ὁμόφρονα θυμὸν ἔχουσιν), Vector(ἀλλὰ κακὰ φρονέουσι διαμπερὲς ἀλλήλοισιν), Vector(παντοίης ἀρετῆς μιμνήσκεο νῦν σε μάλα χρὴ), Vector(ἔγχει ἐμῷ δαμάᾳ νῦν δ' ἀθρόα πάντ' ἀποτίσεις), Vector(ἐννῆμαρ δὴ νεῖκος ἐν ἀθανάτοισιν όρωρεν), Vector(κλέψαι δ' ὀτρύνεσκον ἐΰσκοπον ἀργεϊφόντην), Vector(αῖψα μάλ' ἐς στρατὸν ἐλθὲ καὶ υἱέϊ σῶ ἐπίτειλον), Vector(εὗρ' αδινὰ στενάχοντα φίλοι δ' ἀμφ' αὐτὸν ἑταῖροι), Vector(ἐσσυμένως ἐπένοντο καὶ ἐντύνοντο ἄριστον), Vector(τοῖσι δ' ὄϊς λάσιος μέγας ἐν κλισίῃ ἱ̈έρευτο), Vector(ἡ δὲ μάλ' ἄγχ' αὐτοῖο καθέζετο πότνια μήτηρ), Vector(τέκνον ἐμόν τέο μέχρις ὀδυρόμενος καὶ ἀχεύων), Vector(οὔτ' εὐνῆς ἀγαθὸν δὲ γυναικί περ ἐν φιλότητι), Vector(ἄγχι παρέστηκεν θάνατος καὶ μοῖρα κραταιή), Vector(ἂλλ' ἄγε δη λῦσον νεκροῖο δὲ δέξαι ἄποινα), Vector(πολλὰ πρὸς ἀλλήλους ἔπεα πτερόεντ' ἀγόρευον))\n"
     ]
    }
   ],
   "source": [
    "println(iliadWordsByLine.filter(_.size == 1))"
   ]
  },
  {
   "cell_type": "markdown",
   "metadata": {},
   "source": [
    "## Introducing the `histoutils` class\n",
    "\n",
    "\n",
    "The next two cells configure this Jupyter notebook to find the `histoutils` library in a personal repository on the widely used site `bintray.com`."
   ]
  },
  {
   "cell_type": "code",
   "execution_count": 14,
   "metadata": {},
   "outputs": [
    {
     "data": {
      "text/plain": [
       "\u001b[36mpersonalBintray\u001b[39m: \u001b[32mcoursierapi\u001b[39m.\u001b[32mMavenRepository\u001b[39m = MavenRepository(https://dl.bintray.com/neelsmith/maven)"
      ]
     },
     "execution_count": 14,
     "metadata": {},
     "output_type": "execute_result"
    }
   ],
   "source": [
    "val personalBintray = coursierapi.MavenRepository.of(\"https://dl.bintray.com/neelsmith/maven\")\n",
    "interp.repositories() ++= Seq(personalBintray)\n"
   ]
  },
  {
   "cell_type": "code",
   "execution_count": 15,
   "metadata": {
    "collapsed": true
   },
   "outputs": [
    {
     "name": "stderr",
     "output_type": "stream",
     "text": [
      "Downloading https://repo1.maven.org/maven2/edu/holycross/shot/histoutils_2.12/2.3.0/histoutils_2.12-2.3.0.pom\n",
      "Downloaded https://repo1.maven.org/maven2/edu/holycross/shot/histoutils_2.12/2.3.0/histoutils_2.12-2.3.0.pom\n",
      "Downloading https://repo1.maven.org/maven2/edu/holycross/shot/histoutils_2.12/2.3.0/histoutils_2.12-2.3.0.pom.sha1\n",
      "Downloaded https://repo1.maven.org/maven2/edu/holycross/shot/histoutils_2.12/2.3.0/histoutils_2.12-2.3.0.pom.sha1\n",
      "Downloading https://dl.bintray.com/neelsmith/maven/edu/holycross/shot/histoutils_2.12/2.3.0/histoutils_2.12-2.3.0.pom\n",
      "Downloaded https://dl.bintray.com/neelsmith/maven/edu/holycross/shot/histoutils_2.12/2.3.0/histoutils_2.12-2.3.0.pom\n",
      "Downloading https://repo1.maven.org/maven2/org/wvlet/airframe/airframe-log_2.12/20.5.2/airframe-log_2.12-20.5.2.pom\n",
      "Downloaded https://repo1.maven.org/maven2/org/wvlet/airframe/airframe-log_2.12/20.5.2/airframe-log_2.12-20.5.2.pom\n",
      "Downloading https://repo1.maven.org/maven2/org/scala-lang/scala-library/2.12.11/scala-library-2.12.11.pom\n",
      "Downloading https://repo1.maven.org/maven2/ch/qos/logback/logback-core/1.2.3/logback-core-1.2.3.pom\n",
      "Downloading https://repo1.maven.org/maven2/org/scala-lang/modules/scala-collection-compat_2.12/2.1.6/scala-collection-compat_2.12-2.1.6.pom\n",
      "Downloaded https://repo1.maven.org/maven2/org/scala-lang/scala-library/2.12.11/scala-library-2.12.11.pom\n",
      "Downloaded https://repo1.maven.org/maven2/ch/qos/logback/logback-core/1.2.3/logback-core-1.2.3.pom\n",
      "Downloaded https://repo1.maven.org/maven2/org/scala-lang/modules/scala-collection-compat_2.12/2.1.6/scala-collection-compat_2.12-2.1.6.pom\n",
      "Downloading https://repo1.maven.org/maven2/ch/qos/logback/logback-parent/1.2.3/logback-parent-1.2.3.pom\n",
      "Downloaded https://repo1.maven.org/maven2/ch/qos/logback/logback-parent/1.2.3/logback-parent-1.2.3.pom\n",
      "Downloading https://repo1.maven.org/maven2/org/scala-lang/modules/scala-collection-compat_2.12/2.1.6/scala-collection-compat_2.12-2.1.6.jar\n",
      "Downloading https://dl.bintray.com/neelsmith/maven/edu/holycross/shot/histoutils_2.12/2.3.0/histoutils_2.12-2.3.0.jar\n",
      "Downloading https://repo1.maven.org/maven2/org/scala-lang/scala-library/2.12.11/scala-library-2.12.11-sources.jar\n",
      "Downloading https://repo1.maven.org/maven2/org/scala-lang/modules/scala-collection-compat_2.12/2.1.6/scala-collection-compat_2.12-2.1.6-sources.jar\n",
      "Downloading https://repo1.maven.org/maven2/ch/qos/logback/logback-core/1.2.3/logback-core-1.2.3-sources.jar\n",
      "Downloading https://dl.bintray.com/neelsmith/maven/edu/holycross/shot/histoutils_2.12/2.3.0/histoutils_2.12-2.3.0-sources.jar\n",
      "Downloaded https://repo1.maven.org/maven2/org/scala-lang/modules/scala-collection-compat_2.12/2.1.6/scala-collection-compat_2.12-2.1.6-sources.jar\n",
      "Downloading https://repo1.maven.org/maven2/org/wvlet/airframe/airframe-log_2.12/20.5.2/airframe-log_2.12-20.5.2-sources.jar\n",
      "Downloaded https://repo1.maven.org/maven2/org/scala-lang/modules/scala-collection-compat_2.12/2.1.6/scala-collection-compat_2.12-2.1.6.jar\n",
      "Downloading https://repo1.maven.org/maven2/ch/qos/logback/logback-core/1.2.3/logback-core-1.2.3.jar\n",
      "Downloaded https://repo1.maven.org/maven2/org/wvlet/airframe/airframe-log_2.12/20.5.2/airframe-log_2.12-20.5.2-sources.jar\n",
      "Downloaded https://repo1.maven.org/maven2/ch/qos/logback/logback-core/1.2.3/logback-core-1.2.3.jar\n",
      "Downloading https://repo1.maven.org/maven2/org/wvlet/airframe/airframe-log_2.12/20.5.2/airframe-log_2.12-20.5.2.jar\n",
      "Downloaded https://repo1.maven.org/maven2/org/wvlet/airframe/airframe-log_2.12/20.5.2/airframe-log_2.12-20.5.2.jar\n",
      "Downloaded https://repo1.maven.org/maven2/ch/qos/logback/logback-core/1.2.3/logback-core-1.2.3-sources.jar\n",
      "Downloaded https://dl.bintray.com/neelsmith/maven/edu/holycross/shot/histoutils_2.12/2.3.0/histoutils_2.12-2.3.0.jar\n",
      "Downloaded https://repo1.maven.org/maven2/org/scala-lang/scala-library/2.12.11/scala-library-2.12.11-sources.jar\n",
      "Downloaded https://dl.bintray.com/neelsmith/maven/edu/holycross/shot/histoutils_2.12/2.3.0/histoutils_2.12-2.3.0-sources.jar\n"
     ]
    },
    {
     "data": {
      "text/plain": [
       "\u001b[32mimport \u001b[39m\u001b[36m$ivy.$                                     \u001b[39m"
      ]
     },
     "execution_count": 15,
     "metadata": {},
     "output_type": "execute_result"
    }
   ],
   "source": [
    "import $ivy.`edu.holycross.shot::histoutils:2.3.0`"
   ]
  },
  {
   "cell_type": "markdown",
   "metadata": {},
   "source": [
    "### Standard Scala\n",
    "\n",
    "The remaining cells import the `histoutils` library, and create a `Histogram` object from our data about frequencies of word counts."
   ]
  },
  {
   "cell_type": "code",
   "execution_count": 16,
   "metadata": {},
   "outputs": [
    {
     "data": {
      "text/plain": [
       "\u001b[32mimport \u001b[39m\u001b[36medu.holycross.shot.histoutils._\n",
       "\n",
       "\u001b[39m\n",
       "\u001b[36mwcFrequencies\u001b[39m: \u001b[32mVector\u001b[39m[\u001b[32mFrequency\u001b[39m[\u001b[32mInt\u001b[39m]] = \u001b[33mVector\u001b[39m(\n",
       "  \u001b[33mFrequency\u001b[39m(\u001b[32m5\u001b[39m, \u001b[32m1194\u001b[39m),\n",
       "  \u001b[33mFrequency\u001b[39m(\u001b[32m10\u001b[39m, \u001b[32m536\u001b[39m),\n",
       "  \u001b[33mFrequency\u001b[39m(\u001b[32m1\u001b[39m, \u001b[32m31\u001b[39m),\n",
       "  \u001b[33mFrequency\u001b[39m(\u001b[32m6\u001b[39m, \u001b[32m3556\u001b[39m),\n",
       "  \u001b[33mFrequency\u001b[39m(\u001b[32m9\u001b[39m, \u001b[32m1652\u001b[39m),\n",
       "  \u001b[33mFrequency\u001b[39m(\u001b[32m2\u001b[39m, \u001b[32m27\u001b[39m),\n",
       "  \u001b[33mFrequency\u001b[39m(\u001b[32m12\u001b[39m, \u001b[32m15\u001b[39m),\n",
       "  \u001b[33mFrequency\u001b[39m(\u001b[32m7\u001b[39m, \u001b[32m4810\u001b[39m),\n",
       "  \u001b[33mFrequency\u001b[39m(\u001b[32m3\u001b[39m, \u001b[32m24\u001b[39m),\n",
       "  \u001b[33mFrequency\u001b[39m(\u001b[32m11\u001b[39m, \u001b[32m114\u001b[39m),\n",
       "  \u001b[33mFrequency\u001b[39m(\u001b[32m8\u001b[39m, \u001b[32m3411\u001b[39m),\n",
       "  \u001b[33mFrequency\u001b[39m(\u001b[32m4\u001b[39m, \u001b[32m269\u001b[39m)\n",
       ")"
      ]
     },
     "execution_count": 16,
     "metadata": {},
     "output_type": "execute_result"
    }
   ],
   "source": [
    "import edu.holycross.shot.histoutils._\n",
    "\n",
    "val wcFrequencies =   \n",
    "wcCounts.map{ case (words, occurs) => Frequency(words, occurs)}"
   ]
  },
  {
   "cell_type": "code",
   "execution_count": 17,
   "metadata": {},
   "outputs": [
    {
     "data": {
      "text/plain": [
       "\u001b[36miliadWordsHisto\u001b[39m: \u001b[32mHistogram\u001b[39m[\u001b[32mInt\u001b[39m] = \u001b[33mHistogram\u001b[39m(\n",
       "  \u001b[33mVector\u001b[39m(\n",
       "    \u001b[33mFrequency\u001b[39m(\u001b[32m5\u001b[39m, \u001b[32m1194\u001b[39m),\n",
       "    \u001b[33mFrequency\u001b[39m(\u001b[32m10\u001b[39m, \u001b[32m536\u001b[39m),\n",
       "    \u001b[33mFrequency\u001b[39m(\u001b[32m1\u001b[39m, \u001b[32m31\u001b[39m),\n",
       "    \u001b[33mFrequency\u001b[39m(\u001b[32m6\u001b[39m, \u001b[32m3556\u001b[39m),\n",
       "    \u001b[33mFrequency\u001b[39m(\u001b[32m9\u001b[39m, \u001b[32m1652\u001b[39m),\n",
       "    \u001b[33mFrequency\u001b[39m(\u001b[32m2\u001b[39m, \u001b[32m27\u001b[39m),\n",
       "    \u001b[33mFrequency\u001b[39m(\u001b[32m12\u001b[39m, \u001b[32m15\u001b[39m),\n",
       "    \u001b[33mFrequency\u001b[39m(\u001b[32m7\u001b[39m, \u001b[32m4810\u001b[39m),\n",
       "    \u001b[33mFrequency\u001b[39m(\u001b[32m3\u001b[39m, \u001b[32m24\u001b[39m),\n",
       "    \u001b[33mFrequency\u001b[39m(\u001b[32m11\u001b[39m, \u001b[32m114\u001b[39m),\n",
       "    \u001b[33mFrequency\u001b[39m(\u001b[32m8\u001b[39m, \u001b[32m3411\u001b[39m),\n",
       "    \u001b[33mFrequency\u001b[39m(\u001b[32m4\u001b[39m, \u001b[32m269\u001b[39m)\n",
       "  )\n",
       ")"
      ]
     },
     "execution_count": 17,
     "metadata": {},
     "output_type": "execute_result"
    }
   ],
   "source": [
    "val iliadWordsHisto = Histogram(wcFrequencies)"
   ]
  }
 ],
 "metadata": {
  "kernelspec": {
   "display_name": "Scala (2.12)",
   "language": "scala",
   "name": "scala212"
  },
  "language_info": {
   "codemirror_mode": "text/x-scala",
   "file_extension": ".scala",
   "mimetype": "text/x-scala",
   "name": "scala",
   "nbconvert_exporter": "script",
   "version": "2.12.10"
  }
 },
 "nbformat": 4,
 "nbformat_minor": 4
}
