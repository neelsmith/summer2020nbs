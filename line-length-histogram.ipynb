{
 "cells": [
  {
   "cell_type": "markdown",
   "metadata": {},
   "source": [
    "## How many words fit in a dactylic hexameter?\n",
    "\n",
    "Homeric poetry is shaped in lines of 6 dactyls.  How many words make up a single hexameter?\n",
    "\n",
    "\n",
    "This notebook will load a text of the *Iliad* and count words in it. It introduces a class named `histoutils` that defines some convenient methods for working with histograms (that is, counts of occurrences of some item).\n",
    "\n",
    "\n"
   ]
  },
  {
   "cell_type": "markdown",
   "metadata": {},
   "source": [
    "## None of the standard stuff works on Greek\n",
    "\n",
    "If Unicode wasn't broken, I would do this:"
   ]
  },
  {
   "cell_type": "markdown",
   "metadata": {
    "collapsed": true
   },
   "source": [
    "### Load an *Iliad* text\n",
    "\n",
    "The first cell below just loads two long texts:  don't worry yet about how it works, but notice that at the end, we've created a named String value called `iliad` and a named String value called `scholia`.\n",
    "\n",
    "\n",
    "```scala\n",
    "import scala.io.Source\n",
    "val iliadUrl = \"https://raw.githubusercontent.com/neelsmith/summer2020nbs/master/data/iliad-dipl.txt\"\n",
    "val scholiaUrl = \"https://raw.githubusercontent.com/neelsmith/summer2020nbs/master/data/scholia-dipl.txt\"\n",
    "\n",
    "val iliad = Source.fromURL(iliadUrl).getLines.toVector\n",
    "val scholia = Source.fromURL(scholiaUrl).getLines.toVector\n",
    "\n",
    "// sanity check: visually inspect a sample of 10 lines\n",
    "println(iliad.take(10))\n",
    "```\n"
   ]
  },
  {
   "cell_type": "markdown",
   "metadata": {
    "collapsed": true
   },
   "source": [
    "## And then I would do this\n",
    "\n",
    "So let's count \"words\".  We could spend a long time deciding what a word is, but let's keep it simple today by:\n",
    "\n",
    "1. throwing away some punctuation characters\n",
    "2. then splitting the long text on whitespace\n",
    "\n",
    "\n",
    "\n",
    "```scala\n",
    "// We'll learn more later about what's going on here: the list of\n",
    "// characters inside square brackets is actually a *regular expression*\n",
    "val iliadNoPunct = iliad.map(ln => ln.replaceAll(\"[,·\\\\.:~]\", \"\"))\n",
    "// The expression [ ] means \"one or more occurrences of any Whitespace character\"\n",
    "val iliadWordsByLineBORKEN = iliadNoPunct.map(ln => ln.split(\"[ \\n]+\").toVector)\n",
    "\n",
    "// Print first 100 words to see if they look right...\n",
    "println(iliadWordsByLineBORKEN.take(10))\n",
    "```"
   ]
  },
  {
   "cell_type": "markdown",
   "metadata": {},
   "source": [
    "### And then I'd do my counting\n",
    "\n",
    "```scala\n",
    "val wordCountsByIliadLine =  iliadWordsByLine.map(words => words.size).toVector\n",
    "```\n",
    "\n",
    "Group word counts into lists, then find the size of each list.\n",
    "\n",
    "```scala\n",
    "val wcGrouped = wordCountsByIliadLine.groupBy(count => count).toVector\n",
    "```"
   ]
  },
  {
   "cell_type": "markdown",
   "metadata": {},
   "source": [
    "## Instead...\n",
    "\n",
    "\n",
    "CITE architecture citable texts and the `greek` library to the rescue."
   ]
  },
  {
   "cell_type": "code",
   "execution_count": 1,
   "metadata": {},
   "outputs": [
    {
     "data": {
      "text/plain": [
       "\u001b[36mpersonalBintray\u001b[39m: \u001b[32mcoursierapi\u001b[39m.\u001b[32mMavenRepository\u001b[39m = MavenRepository(https://dl.bintray.com/neelsmith/maven)"
      ]
     },
     "execution_count": 1,
     "metadata": {},
     "output_type": "execute_result"
    }
   ],
   "source": [
    "val personalBintray = coursierapi.MavenRepository.of(\"https://dl.bintray.com/neelsmith/maven\")\n",
    "interp.repositories() ++= Seq(personalBintray)"
   ]
  },
  {
   "cell_type": "code",
   "execution_count": 2,
   "metadata": {},
   "outputs": [
    {
     "data": {
      "text/plain": [
       "\u001b[32mimport \u001b[39m\u001b[36m$ivy.$                                     \n",
       "\u001b[39m\n",
       "\u001b[32mimport \u001b[39m\u001b[36m$ivy.$                                  \n",
       "\u001b[39m\n",
       "\u001b[32mimport \u001b[39m\u001b[36m$ivy.$                                          \n",
       "\u001b[39m\n",
       "\u001b[32mimport \u001b[39m\u001b[36m$ivy.$                                \n",
       "\u001b[39m\n",
       "\u001b[32mimport \u001b[39m\u001b[36m$ivy.$                              \u001b[39m"
      ]
     },
     "execution_count": 2,
     "metadata": {},
     "output_type": "execute_result"
    }
   ],
   "source": [
    "import $ivy.`edu.holycross.shot.cite::xcite:4.3.0`\n",
    "import $ivy.`edu.holycross.shot::ohco2:10.19.0`\n",
    "import $ivy.`edu.holycross.shot.mid::orthography:1.0.0`\n",
    "import $ivy.`edu.holycross.shot::greek:5.0.0`\n",
    "import $ivy.`edu.holycross.shot::scm:7.3.0`"
   ]
  },
  {
   "cell_type": "code",
   "execution_count": 3,
   "metadata": {},
   "outputs": [
    {
     "data": {
      "text/plain": [
       "\u001b[32mimport \u001b[39m\u001b[36medu.holycross.shot.ohco2._\n",
       "\u001b[39m\n",
       "\u001b[32mimport \u001b[39m\u001b[36medu.holycross.shot.cite._\n",
       "\u001b[39m\n",
       "\u001b[32mimport \u001b[39m\u001b[36medu.holycross.shot.mid.orthography._\n",
       "\u001b[39m\n",
       "\u001b[32mimport \u001b[39m\u001b[36medu.holycross.shot.scm._\n",
       "\u001b[39m\n",
       "\u001b[32mimport \u001b[39m\u001b[36medu.holycross.shot.greek._\u001b[39m"
      ]
     },
     "execution_count": 3,
     "metadata": {},
     "output_type": "execute_result"
    }
   ],
   "source": [
    "import edu.holycross.shot.ohco2._\n",
    "import edu.holycross.shot.cite._\n",
    "import edu.holycross.shot.mid.orthography._\n",
    "import edu.holycross.shot.scm._\n",
    "import edu.holycross.shot.greek._"
   ]
  },
  {
   "cell_type": "markdown",
   "metadata": {},
   "source": [
    "Build a CITE library"
   ]
  },
  {
   "cell_type": "code",
   "execution_count": 4,
   "metadata": {
    "collapsed": true
   },
   "outputs": [
    {
     "name": "stderr",
     "output_type": "stream",
     "text": [
      "Jun 15, 2020 8:43:59 AM wvlet.log.Logger log\n",
      "INFO: Building text repo from cex ...\n",
      "Jun 15, 2020 8:44:03 AM wvlet.log.Logger log\n",
      "INFO: Building collection repo from cex ...\n",
      "Jun 15, 2020 8:44:05 AM wvlet.log.Logger log\n",
      "INFO: Building relations from cex ...\n",
      "Jun 15, 2020 8:44:10 AM wvlet.log.Logger log\n",
      "INFO: All library components built.\n"
     ]
    },
    {
     "data": {
      "text/plain": [
       "\u001b[32mimport \u001b[39m\u001b[36mscala.io.Source\n",
       "\u001b[39m\n",
       "\u001b[36murl\u001b[39m: \u001b[32mString\u001b[39m = \u001b[32m\"https://raw.githubusercontent.com/homermultitext/hmt-archive/master/releases-cex/hmt-2020i-texts.cex\"\u001b[39m\n",
       "\u001b[36mlibSource\u001b[39m: \u001b[32mString\u001b[39m = \u001b[32m\"\"\"// Metadata for the current release\n",
       "\n",
       "#!cexversion\n",
       "3.0.1\n",
       "\n",
       "#!citelibrary\n",
       "// These values are inserted programmtacally when\n",
       "// the CITE library is built:\n",
       "name#Homer Multitext project, release 2020i\n",
       "urn#urn:cite2:hmt:publications.cex.2020i:texts\n",
       "license#Creative Commons Attribution, Non-Commercial 4.0 License <https://creativecommons.org/licenses/by-nc/4.0/>.\n",
       "\n",
       "// CITE namespace definitions\n",
       "namespace#hmt#http://www.homermultitext.org/citens/hmt\n",
       "namespace#greekLit#http://chs.harvard.edu/ctsns/greekLit\n",
       "\n",
       "// Collection of data models used in this release:\n",
       "\n",
       "#!citecollections\n",
       "URN#Description#Labelling property#Ordering property#License\n",
       "urn:cite2:cite:datamodels.v1:#CITE data models#urn:cite2:cite:datamodels.v1.label:##Public domain\n",
       "\n",
       "#!citeproperties\n",
       "Property#Label#Type#Authority list\n",
       "urn:cite2:cite:datamodels.v1.urn:#Data model#Cite2Urn#\n",
       "urn:cite2:cite:datamodels.v1.label:#Label#String#\n",
       "urn:cite2:cite:datamodels.v1.description:#Description#String#\n",
       "\n",
       "#!citedata\n",
       "urn#label#description\n",
       "urn:cite2:cite:datamodels.v1:imagemodel#Citable Image#Model of a citable image.  See http://cite-architecture.github.io/imagemodel/.\n",
       "urn:cite2:cite:datamodels.v1:binaryimg#Binary image data#Model of a binary image data associated with a citable image.  See TBA.\n",
       "urn:cite2:cite:datamodels.v1:tbsmodel#Text Bearing Surface Model#Model of TextBearing Surfaces.  See http://cite-architecture.github.io/tbsmodel/.\n",
       "urn:cite2:cite:datamodels.v1:dsemodel#Diplomatic Scholarly Edition#Diplomatic Sc\u001b[39m...\n",
       "\u001b[36mlib\u001b[39m: \u001b[32mCiteLibrary\u001b[39m = \u001b[33mCiteLibrary\u001b[39m(\n",
       "  \u001b[32m\"Homer Multitext project, release 2020h\"\u001b[39m,\n",
       "  \u001b[33mCite2Urn\u001b[39m(\u001b[32m\"urn:cite2:hmt:publications.cex.2020h:all\"\u001b[39m),\n",
       "  \u001b[32m\"Creative Commons Attribution, Non-Commercial 4.0 License <https://creativecommons.org/licenses/by-nc/4.0/>.\"\u001b[39m,\n",
       "  \u001b[33mVector\u001b[39m(\n",
       "    \u001b[33mCiteNamespace\u001b[39m(\u001b[32m\"hmt\"\u001b[39m, http://www.homermultitext.org/citens/hmt),\n",
       "    \u001b[33mCiteNamespace\u001b[39m(\u001b[32m\"greekLit\"\u001b[39m, http://chs.harvard.edu/ctsns/greekLit)\n",
       "  ),\n",
       "  \u001b[33mSome\u001b[39m(\n",
       "    \u001b[33mTextRepository\u001b[39m(\n",
       "      \u001b[33mCorpus\u001b[39m(\n",
       "        \u001b[33mVector\u001b[39m(\n",
       "          \u001b[33mCitableNode\u001b[39m(\n",
       "            \u001b[33mCtsUrn\u001b[39m(\u001b[32m\"urn:cts:greekLit:tlg0012.tlg001.due_ebbott:10.1\"\u001b[39m),\n",
       "            \u001b[32m\"Alongside the ships the other best men of the Panachaeans\"\u001b[39m\n",
       "          ),\n",
       "          \u001b[33mCitableNode\u001b[39m(\n",
       "            \u001b[33mCtsUrn\u001b[39m(\u001b[32m\"urn:cts:greekLit:tlg0012.tlg001.due_ebbott:10.2\"\u001b[39m),\n",
       "            \u001b[32m\"slept all night long, subdued by gentle sleep,\"\u001b[39m\n",
       "          ),\n",
       "          \u001b[33mCitableNode\u001b[39m(\n",
       "            \u001b[33mCtsUrn\u001b[39m(\u001b[32m\"urn:cts:greekLit:tlg0012.tlg001.due_ebbott:10.3\"\u001b[39m),\n",
       "            \u001b[32m\"but not the son of Atreus, Agamemnon, the shepherd of the warriors\\u2014\"\u001b[39m\n",
       "          ),\n",
       "          \u001b[33mCitableNode\u001b[39m(\n",
       "            \u001b[33mCtsUrn\u001b[39m(\u001b[32m\"urn:cts:greekLit:tlg0012.tlg001.due_ebbott:10.4\"\u001b[39m),\n",
       "            \u001b[32m\"sweet sleep did not hold him, as he pondered many things in his mind.\"\u001b[39m\n",
       "          ),\n",
       "          \u001b[33mCitableNode\u001b[39m(\n",
       "            \u001b[33mCtsUrn\u001b[39m(\u001b[32m\"urn:cts:greekLit:tlg0012.tlg001.due_ebbott:10.5\"\u001b[39m),\n",
       "            \u001b[32m\"As when the husband of Hera with her beautiful hair hurls lightning, \"\u001b[39m\n",
       "          ),\n",
       "          \u001b[33mCitableNode\u001b[39m(\n",
       "            \u001b[33mCtsUrn\u001b[39m(\u001b[32m\"urn:cts:greekLit:tlg0012.tlg001.due_ebbott:10.6\"\u001b[39m),\n",
       "            \u001b[32m\"creating an indescribable amount of rain or hail\"\u001b[39m\n",
       "..."
      ]
     },
     "execution_count": 4,
     "metadata": {},
     "output_type": "execute_result"
    }
   ],
   "source": [
    "import scala.io.Source\n",
    "val url = \"https://raw.githubusercontent.com/homermultitext/hmt-archive/master/releases-cex/hmt-2020i-texts.cex\"\n",
    "val libSource = Source.fromURL(url).mkString\n",
    "val lib = CiteLibrary(libSource)\n"
   ]
  },
  {
   "cell_type": "markdown",
   "metadata": {},
   "source": [
    "Extract its text corpus and select the Venetus A diplomatic text of the *Iliad*."
   ]
  },
  {
   "cell_type": "code",
   "execution_count": 7,
   "metadata": {
    "collapsed": true
   },
   "outputs": [
    {
     "name": "stdout",
     "output_type": "stream",
     "text": [
      "CitableNode(urn:cts:greekLit:tlg0012.tlg001.msA:1.1,Μῆνιν ἄειδε θεὰ Πηληϊάδεω Ἀχιλῆος)\n",
      "\n",
      "CitableNode(urn:cts:greekLit:tlg0012.tlg001.msA:1.2,οὐλομένην· ἡ μυρί' Ἀχαιοῖς ἄλγε' ἔθηκεν·)\n",
      "\n",
      "CitableNode(urn:cts:greekLit:tlg0012.tlg001.msA:1.3,πολλὰς δ' ἰφθίμους ψυχὰς Ἄϊδι προΐαψεν)\n",
      "\n",
      "CitableNode(urn:cts:greekLit:tlg0012.tlg001.msA:1.4,ἡρώων· αὐτοὺς δὲ ἑλώρια τεῦχε κύνεσσιν)\n",
      "\n",
      "CitableNode(urn:cts:greekLit:tlg0012.tlg001.msA:1.5,οἰωνοῖσί τε πᾶσι· Διὸς δ' ἐτελείετο βουλή·)\n",
      "\n",
      "CitableNode(urn:cts:greekLit:tlg0012.tlg001.msA:1.6,ἐξ οὗ δὴ τὰ πρῶτα διαστήτην ἐρίσαντε)\n",
      "\n",
      "CitableNode(urn:cts:greekLit:tlg0012.tlg001.msA:1.7,Ἀτρείδης τε ἄναξ ἀνδρῶν καὶ δῖος Ἀχιλλεύς ·)\n"
     ]
    },
    {
     "data": {
      "text/plain": [
       "\u001b[36mcorpus\u001b[39m: \u001b[32mCorpus\u001b[39m = \u001b[33mCorpus\u001b[39m(\n",
       "  \u001b[33mVector\u001b[39m(\n",
       "    \u001b[33mCitableNode\u001b[39m(\n",
       "      \u001b[33mCtsUrn\u001b[39m(\u001b[32m\"urn:cts:greekLit:tlg0012.tlg001.due_ebbott:10.1\"\u001b[39m),\n",
       "      \u001b[32m\"Alongside the ships the other best men of the Panachaeans\"\u001b[39m\n",
       "    ),\n",
       "    \u001b[33mCitableNode\u001b[39m(\n",
       "      \u001b[33mCtsUrn\u001b[39m(\u001b[32m\"urn:cts:greekLit:tlg0012.tlg001.due_ebbott:10.2\"\u001b[39m),\n",
       "      \u001b[32m\"slept all night long, subdued by gentle sleep,\"\u001b[39m\n",
       "    ),\n",
       "    \u001b[33mCitableNode\u001b[39m(\n",
       "      \u001b[33mCtsUrn\u001b[39m(\u001b[32m\"urn:cts:greekLit:tlg0012.tlg001.due_ebbott:10.3\"\u001b[39m),\n",
       "      \u001b[32m\"but not the son of Atreus, Agamemnon, the shepherd of the warriors\\u2014\"\u001b[39m\n",
       "    ),\n",
       "    \u001b[33mCitableNode\u001b[39m(\n",
       "      \u001b[33mCtsUrn\u001b[39m(\u001b[32m\"urn:cts:greekLit:tlg0012.tlg001.due_ebbott:10.4\"\u001b[39m),\n",
       "      \u001b[32m\"sweet sleep did not hold him, as he pondered many things in his mind.\"\u001b[39m\n",
       "    ),\n",
       "    \u001b[33mCitableNode\u001b[39m(\n",
       "      \u001b[33mCtsUrn\u001b[39m(\u001b[32m\"urn:cts:greekLit:tlg0012.tlg001.due_ebbott:10.5\"\u001b[39m),\n",
       "      \u001b[32m\"As when the husband of Hera with her beautiful hair hurls lightning, \"\u001b[39m\n",
       "    ),\n",
       "    \u001b[33mCitableNode\u001b[39m(\n",
       "      \u001b[33mCtsUrn\u001b[39m(\u001b[32m\"urn:cts:greekLit:tlg0012.tlg001.due_ebbott:10.6\"\u001b[39m),\n",
       "      \u001b[32m\"creating an indescribable amount of rain or hail\"\u001b[39m\n",
       "    ),\n",
       "    \u001b[33mCitableNode\u001b[39m(\n",
       "      \u001b[33mCtsUrn\u001b[39m(\u001b[32m\"urn:cts:greekLit:tlg0012.tlg001.due_ebbott:10.7\"\u001b[39m),\n",
       "      \u001b[32m\"or falling snow, when snow sprinkles the fields,\"\u001b[39m\n",
       "    ),\n",
       "    \u001b[33mCitableNode\u001b[39m(\n",
       "      \u001b[33mCtsUrn\u001b[39m(\u001b[32m\"urn:cts:greekLit:tlg0012.tlg001.due_ebbott:10.8\"\u001b[39m),\n",
       "      \u001b[32m\"or the great jaws of crowded battle,\"\u001b[39m\n",
       "    ),\n",
       "    \u001b[33mCitableNode\u001b[39m(\n",
       "      \u001b[33mCtsUrn\u001b[39m(\u001b[32m\"urn:cts:greekLit:tlg0012.tlg001.due_ebbott:10.9\"\u001b[39m),\n",
       "      \u001b[32m\"so did the groans in the breast of Agamemnon come thick and fast \"\u001b[39m\n",
       "    ),\n",
       "    \u001b[33mCitableNode\u001b[39m(\n",
       "...\n",
       "\u001b[36miliad\u001b[39m: \u001b[32mCorpus\u001b[39m = \u001b[33mCorpus\u001b[39m(\n",
       "  \u001b[33mVector\u001b[39m(\n",
       "    \u001b[33mCitableNode\u001b[39m(\n",
       "      \u001b[33mCtsUrn\u001b[39m(\u001b[32m\"urn:cts:greekLit:tlg0012.tlg001.msA:1.1\"\u001b[39m),\n",
       "      \u001b[32m\"\\u039c\\u1fc6\\u03bd\\u03b9\\u03bd \\u1f04\\u03b5\\u03b9\\u03b4\\u03b5 \\u03b8\\u03b5\\u1f70 \\u03a0\\u03b7\\u03bb\\u03b7\\u03ca\\u1f71\\u03b4\\u03b5\\u03c9 \\u1f08\\u03c7\\u03b9\\u03bb\\u1fc6\\u03bf\\u03c2\"\u001b[39m\n",
       "    ),\n",
       "    \u001b[33mCitableNode\u001b[39m(\n",
       "      \u001b[33mCtsUrn\u001b[39m(\u001b[32m\"urn:cts:greekLit:tlg0012.tlg001.msA:1.2\"\u001b[39m),\n",
       "      \u001b[32m\"\\u03bf\\u1f50\\u03bb\\u03bf\\u03bc\\u1f73\\u03bd\\u03b7\\u03bd\\u00b7 \\u1f21 \\u03bc\\u03c5\\u03c1\\u03af' \\u1f08\\u03c7\\u03b1\\u03b9\\u03bf\\u1fd6\\u03c2 \\u1f04\\u03bb\\u03b3\\u03b5' \\u1f14\\u03b8\\u03b7\\u03ba\\u03b5\\u03bd\\u00b7\"\u001b[39m\n",
       "    ),\n",
       "    \u001b[33mCitableNode\u001b[39m(\n",
       "      \u001b[33mCtsUrn\u001b[39m(\u001b[32m\"urn:cts:greekLit:tlg0012.tlg001.msA:1.3\"\u001b[39m),\n",
       "      \u001b[32m\"\\u03c0\\u03bf\\u03bb\\u03bb\\u1f70\\u03c2 \\u03b4' \\u1f30\\u03c6\\u03b8\\u03af\\u03bc\\u03bf\\u03c5\\u03c2 \\u03c8\\u03c5\\u03c7\\u1f70\\u03c2 \\u1f0c\\u03ca\\u03b4\\u03b9 \\u03c0\\u03c1\\u03bf\\u0390\\u03b1\\u03c8\\u03b5\\u03bd\"\u001b[39m\n",
       "    ),\n",
       "    \u001b[33mCitableNode\u001b[39m(\n",
       "      \u001b[33mCtsUrn\u001b[39m(\u001b[32m\"urn:cts:greekLit:tlg0012.tlg001.msA:1.4\"\u001b[39m),\n",
       "      \u001b[32m\"\\u1f21\\u03c1\\u1f7d\\u03c9\\u03bd\\u00b7 \\u03b1\\u1f50\\u03c4\\u03bf\\u1f7a\\u03c2 \\u03b4\\u1f72 \\u1f11\\u03bb\\u1f7d\\u03c1\\u03b9\\u03b1 \\u03c4\\u03b5\\u1fe6\\u03c7\\u03b5 \\u03ba\\u1f7b\\u03bd\\u03b5\\u03c3\\u03c3\\u03b9\\u03bd\"\u001b[39m\n",
       "    ),\n",
       "    \u001b[33mCitableNode\u001b[39m(\n",
       "      \u001b[33mCtsUrn\u001b[39m(\u001b[32m\"urn:cts:greekLit:tlg0012.tlg001.msA:1.5\"\u001b[39m),\n",
       "      \u001b[32m\"\\u03bf\\u1f30\\u03c9\\u03bd\\u03bf\\u1fd6\\u03c3\\u03af \\u03c4\\u03b5 \\u03c0\\u1fb6\\u03c3\\u03b9\\u00b7 \\u0394\\u03b9\\u1f78\\u03c2 \\u03b4' \\u1f10\\u03c4\\u03b5\\u03bb\\u03b5\\u03af\\u03b5\\u03c4\\u03bf \\u03b2\\u03bf\\u03c5\\u03bb\\u03ae\\u00b7\"\u001b[39m\n",
       "    ),\n",
       "    \u001b[33mCitableNode\u001b[39m(\n",
       "      \u001b[33mCtsUrn\u001b[39m(\u001b[32m\"urn:cts:greekLit:tlg0012.tlg001.msA:1.6\"\u001b[39m),\n",
       "      \u001b[32m\"\\u1f10\\u03be \\u03bf\\u1f57 \\u03b4\\u1f74 \\u03c4\\u1f70 \\u03c0\\u03c1\\u1ff6\\u03c4\\u03b1 \\u03b4\\u03b9\\u03b1\\u03c3\\u03c4\\u03ae\\u03c4\\u03b7\\u03bd \\u1f10\\u03c1\\u03af\\u03c3\\u03b1\\u03bd\\u03c4\\u03b5\"\u001b[39m\n",
       "    ),\n",
       "    \u001b[33mCitableNode\u001b[39m(\n",
       "..."
      ]
     },
     "execution_count": 7,
     "metadata": {},
     "output_type": "execute_result"
    }
   ],
   "source": [
    "val corpus = lib.textRepository.get.corpus\n",
    "val iliad = corpus ~~ CtsUrn(\"urn:cts:greekLit:tlg0012.tlg001.msA:\")\n",
    "\n",
    "println(iliad.nodes.take(7).mkString(\"\\n\\n\"))"
   ]
  },
  {
   "cell_type": "markdown",
   "metadata": {},
   "source": [
    "Tokenize each node in the corpus, filter for lexical tokens only, and count tokens per line."
   ]
  },
  {
   "cell_type": "code",
   "execution_count": 10,
   "metadata": {
    "collapsed": true
   },
   "outputs": [
    {
     "data": {
      "text/plain": [
       "\u001b[36miliadTokens\u001b[39m: \u001b[32mVector\u001b[39m[\u001b[32mVector\u001b[39m[\u001b[32mMidToken\u001b[39m]] = \u001b[33mVector\u001b[39m(\n",
       "  \u001b[33mVector\u001b[39m(\n",
       "    \u001b[33mMidToken\u001b[39m(\n",
       "      \u001b[33mCtsUrn\u001b[39m(\u001b[32m\"urn:cts:greekLit:tlg0012.tlg001.msA_tkns:1.1.0\"\u001b[39m),\n",
       "      \u001b[32m\"\\u039c\\u1fc6\\u03bd\\u03b9\\u03bd\"\u001b[39m,\n",
       "      \u001b[33mSome\u001b[39m(LexicalToken)\n",
       "    ),\n",
       "    \u001b[33mMidToken\u001b[39m(\n",
       "      \u001b[33mCtsUrn\u001b[39m(\u001b[32m\"urn:cts:greekLit:tlg0012.tlg001.msA_tkns:1.1.1\"\u001b[39m),\n",
       "      \u001b[32m\"\\u1f04\\u03b5\\u03b9\\u03b4\\u03b5\"\u001b[39m,\n",
       "      \u001b[33mSome\u001b[39m(LexicalToken)\n",
       "    ),\n",
       "    \u001b[33mMidToken\u001b[39m(\n",
       "      \u001b[33mCtsUrn\u001b[39m(\u001b[32m\"urn:cts:greekLit:tlg0012.tlg001.msA_tkns:1.1.2\"\u001b[39m),\n",
       "      \u001b[32m\"\\u03b8\\u03b5\\u1f70\"\u001b[39m,\n",
       "      \u001b[33mSome\u001b[39m(LexicalToken)\n",
       "    ),\n",
       "    \u001b[33mMidToken\u001b[39m(\n",
       "      \u001b[33mCtsUrn\u001b[39m(\u001b[32m\"urn:cts:greekLit:tlg0012.tlg001.msA_tkns:1.1.3\"\u001b[39m),\n",
       "      \u001b[32m\"\\u03a0\\u03b7\\u03bb\\u03b7\\u03ca\\u1f71\\u03b4\\u03b5\\u03c9\"\u001b[39m,\n",
       "      \u001b[33mSome\u001b[39m(LexicalToken)\n",
       "    ),\n",
       "    \u001b[33mMidToken\u001b[39m(\n",
       "      \u001b[33mCtsUrn\u001b[39m(\u001b[32m\"urn:cts:greekLit:tlg0012.tlg001.msA_tkns:1.1.4\"\u001b[39m),\n",
       "      \u001b[32m\"\\u1f08\\u03c7\\u03b9\\u03bb\\u1fc6\\u03bf\\u03c2\"\u001b[39m,\n",
       "      \u001b[33mSome\u001b[39m(LexicalToken)\n",
       "    )\n",
       "  ),\n",
       "  \u001b[33mVector\u001b[39m(\n",
       "    \u001b[33mMidToken\u001b[39m(\n",
       "      \u001b[33mCtsUrn\u001b[39m(\u001b[32m\"urn:cts:greekLit:tlg0012.tlg001.msA_tkns:1.2.0\"\u001b[39m),\n",
       "      \u001b[32m\"\\u03bf\\u1f50\\u03bb\\u03bf\\u03bc\\u1f73\\u03bd\\u03b7\\u03bd\\u00b7\"\u001b[39m,\n",
       "      \u001b[33mSome\u001b[39m(LexicalToken)\n",
       "    ),\n",
       "    \u001b[33mMidToken\u001b[39m(\n",
       "      \u001b[33mCtsUrn\u001b[39m(\u001b[32m\"urn:cts:greekLit:tlg0012.tlg001.msA_tkns:1.2.1\"\u001b[39m),\n",
       "      \u001b[32m\"\\u1f21\"\u001b[39m,\n",
       "      \u001b[33mSome\u001b[39m(LexicalToken)\n",
       "    ),\n",
       "...\n",
       "\u001b[36mlexTokens\u001b[39m: \u001b[32mVector\u001b[39m[\u001b[32mVector\u001b[39m[\u001b[32mMidToken\u001b[39m]] = \u001b[33mVector\u001b[39m(\n",
       "  \u001b[33mVector\u001b[39m(\n",
       "    \u001b[33mMidToken\u001b[39m(\n",
       "      \u001b[33mCtsUrn\u001b[39m(\u001b[32m\"urn:cts:greekLit:tlg0012.tlg001.msA_tkns:1.1.0\"\u001b[39m),\n",
       "      \u001b[32m\"\\u039c\\u1fc6\\u03bd\\u03b9\\u03bd\"\u001b[39m,\n",
       "      \u001b[33mSome\u001b[39m(LexicalToken)\n",
       "    ),\n",
       "    \u001b[33mMidToken\u001b[39m(\n",
       "      \u001b[33mCtsUrn\u001b[39m(\u001b[32m\"urn:cts:greekLit:tlg0012.tlg001.msA_tkns:1.1.1\"\u001b[39m),\n",
       "      \u001b[32m\"\\u1f04\\u03b5\\u03b9\\u03b4\\u03b5\"\u001b[39m,\n",
       "      \u001b[33mSome\u001b[39m(LexicalToken)\n",
       "    ),\n",
       "    \u001b[33mMidToken\u001b[39m(\n",
       "      \u001b[33mCtsUrn\u001b[39m(\u001b[32m\"urn:cts:greekLit:tlg0012.tlg001.msA_tkns:1.1.2\"\u001b[39m),\n",
       "      \u001b[32m\"\\u03b8\\u03b5\\u1f70\"\u001b[39m,\n",
       "      \u001b[33mSome\u001b[39m(LexicalToken)\n",
       "    ),\n",
       "    \u001b[33mMidToken\u001b[39m(\n",
       "      \u001b[33mCtsUrn\u001b[39m(\u001b[32m\"urn:cts:greekLit:tlg0012.tlg001.msA_tkns:1.1.3\"\u001b[39m),\n",
       "      \u001b[32m\"\\u03a0\\u03b7\\u03bb\\u03b7\\u03ca\\u1f71\\u03b4\\u03b5\\u03c9\"\u001b[39m,\n",
       "      \u001b[33mSome\u001b[39m(LexicalToken)\n",
       "    ),\n",
       "    \u001b[33mMidToken\u001b[39m(\n",
       "      \u001b[33mCtsUrn\u001b[39m(\u001b[32m\"urn:cts:greekLit:tlg0012.tlg001.msA_tkns:1.1.4\"\u001b[39m),\n",
       "      \u001b[32m\"\\u1f08\\u03c7\\u03b9\\u03bb\\u1fc6\\u03bf\\u03c2\"\u001b[39m,\n",
       "      \u001b[33mSome\u001b[39m(LexicalToken)\n",
       "    )\n",
       "  ),\n",
       "  \u001b[33mVector\u001b[39m(\n",
       "    \u001b[33mMidToken\u001b[39m(\n",
       "      \u001b[33mCtsUrn\u001b[39m(\u001b[32m\"urn:cts:greekLit:tlg0012.tlg001.msA_tkns:1.2.0\"\u001b[39m),\n",
       "      \u001b[32m\"\\u03bf\\u1f50\\u03bb\\u03bf\\u03bc\\u1f73\\u03bd\\u03b7\\u03bd\\u00b7\"\u001b[39m,\n",
       "      \u001b[33mSome\u001b[39m(LexicalToken)\n",
       "    ),\n",
       "    \u001b[33mMidToken\u001b[39m(\n",
       "      \u001b[33mCtsUrn\u001b[39m(\u001b[32m\"urn:cts:greekLit:tlg0012.tlg001.msA_tkns:1.2.1\"\u001b[39m),\n",
       "      \u001b[32m\"\\u1f21\"\u001b[39m,\n",
       "      \u001b[33mSome\u001b[39m(LexicalToken)\n",
       "    ),\n",
       "...\n",
       "\u001b[36mtokenCounts\u001b[39m: \u001b[32mMap\u001b[39m[\u001b[32mInt\u001b[39m, \u001b[32mVector\u001b[39m[\u001b[32mInt\u001b[39m]] = \u001b[33mMap\u001b[39m(\n",
       "  \u001b[32m0\u001b[39m -> \u001b[33mVector\u001b[39m(\u001b[32m0\u001b[39m, \u001b[32m0\u001b[39m, \u001b[32m0\u001b[39m, \u001b[32m0\u001b[39m, \u001b[32m0\u001b[39m, \u001b[32m0\u001b[39m, \u001b[32m0\u001b[39m),\n",
       "  \u001b[32m5\u001b[39m -> \u001b[33mVector\u001b[39m(\n",
       "    \u001b[32m5\u001b[39m,\n",
       "    \u001b[32m5\u001b[39m,\n",
       "    \u001b[32m5\u001b[39m,\n",
       "    \u001b[32m5\u001b[39m,\n",
       "    \u001b[32m5\u001b[39m,\n",
       "    \u001b[32m5\u001b[39m,\n",
       "    \u001b[32m5\u001b[39m,\n",
       "    \u001b[32m5\u001b[39m,\n",
       "    \u001b[32m5\u001b[39m,\n",
       "    \u001b[32m5\u001b[39m,\n",
       "    \u001b[32m5\u001b[39m,\n",
       "    \u001b[32m5\u001b[39m,\n",
       "    \u001b[32m5\u001b[39m,\n",
       "    \u001b[32m5\u001b[39m,\n",
       "    \u001b[32m5\u001b[39m,\n",
       "    \u001b[32m5\u001b[39m,\n",
       "    \u001b[32m5\u001b[39m,\n",
       "    \u001b[32m5\u001b[39m,\n",
       "    \u001b[32m5\u001b[39m,\n",
       "    \u001b[32m5\u001b[39m,\n",
       "    \u001b[32m5\u001b[39m,\n",
       "    \u001b[32m5\u001b[39m,\n",
       "    \u001b[32m5\u001b[39m,\n",
       "    \u001b[32m5\u001b[39m,\n",
       "    \u001b[32m5\u001b[39m,\n",
       "    \u001b[32m5\u001b[39m,\n",
       "    \u001b[32m5\u001b[39m,\n",
       "    \u001b[32m5\u001b[39m,\n",
       "    \u001b[32m5\u001b[39m,\n",
       "    \u001b[32m5\u001b[39m,\n",
       "    \u001b[32m5\u001b[39m,\n",
       "    \u001b[32m5\u001b[39m,\n",
       "    \u001b[32m5\u001b[39m,\n",
       "    \u001b[32m5\u001b[39m,\n",
       "    \u001b[32m5\u001b[39m,\n",
       "    \u001b[32m5\u001b[39m,\n",
       "..."
      ]
     },
     "execution_count": 10,
     "metadata": {},
     "output_type": "execute_result"
    }
   ],
   "source": [
    "val iliadTokens = iliad.nodes.map(n => LiteraryGreekString.tokenizeNode(n))\n",
    "\n",
    "val lexTokens = iliadTokens.map(line => line.filter(t => t.tokenCategory == Some(LexicalToken)))\n",
    "val tokenCounts = lexTokens.map(tkns => tkns.size).groupBy(count => count)\n",
    "\n"
   ]
  },
  {
   "cell_type": "code",
   "execution_count": 12,
   "metadata": {
    "collapsed": true
   },
   "outputs": [
    {
     "data": {
      "text/plain": [
       "\u001b[36mcountFrequencies\u001b[39m: \u001b[32mVector\u001b[39m[(\u001b[32mInt\u001b[39m, \u001b[32mInt\u001b[39m)] = \u001b[33mVector\u001b[39m(\n",
       "  (\u001b[32m0\u001b[39m, \u001b[32m7\u001b[39m),\n",
       "  (\u001b[32m5\u001b[39m, \u001b[32m640\u001b[39m),\n",
       "  (\u001b[32m10\u001b[39m, \u001b[32m1607\u001b[39m),\n",
       "  (\u001b[32m14\u001b[39m, \u001b[32m21\u001b[39m),\n",
       "  (\u001b[32m1\u001b[39m, \u001b[32m19\u001b[39m),\n",
       "  (\u001b[32m6\u001b[39m, \u001b[32m2009\u001b[39m),\n",
       "  (\u001b[32m9\u001b[39m, \u001b[32m2853\u001b[39m),\n",
       "  (\u001b[32m13\u001b[39m, \u001b[32m69\u001b[39m),\n",
       "  (\u001b[32m2\u001b[39m, \u001b[32m7\u001b[39m),\n",
       "  (\u001b[32m12\u001b[39m, \u001b[32m256\u001b[39m),\n",
       "  (\u001b[32m7\u001b[39m, \u001b[32m3536\u001b[39m),\n",
       "  (\u001b[32m3\u001b[39m, \u001b[32m27\u001b[39m),\n",
       "  (\u001b[32m11\u001b[39m, \u001b[32m677\u001b[39m),\n",
       "  (\u001b[32m8\u001b[39m, \u001b[32m3787\u001b[39m),\n",
       "  (\u001b[32m4\u001b[39m, \u001b[32m121\u001b[39m),\n",
       "  (\u001b[32m15\u001b[39m, \u001b[32m4\u001b[39m)\n",
       ")"
      ]
     },
     "execution_count": 12,
     "metadata": {},
     "output_type": "execute_result"
    }
   ],
   "source": [
    "val countFrequencies = tokenCounts.toVector.map{ \n",
    "  case (num, occurrences) => (num, occurrences.size)}\n",
    "\n"
   ]
  },
  {
   "cell_type": "markdown",
   "metadata": {},
   "source": [
    "## Now back to your scheduled programming"
   ]
  },
  {
   "cell_type": "markdown",
   "metadata": {},
   "source": [
    "## Introducing the `histoutils` class\n",
    "\n",
    "\n",
    "The next two cells configure this Jupyter notebook to find the `histoutils` library in a personal repository on the widely used site `bintray.com`."
   ]
  },
  {
   "cell_type": "code",
   "execution_count": 8,
   "metadata": {
    "collapsed": true
   },
   "outputs": [
    {
     "name": "stderr",
     "output_type": "stream",
     "text": [
      "Downloading https://repo1.maven.org/maven2/edu/holycross/shot/histoutils_2.12/2.3.0/histoutils_2.12-2.3.0.pom\n",
      "Downloaded https://repo1.maven.org/maven2/edu/holycross/shot/histoutils_2.12/2.3.0/histoutils_2.12-2.3.0.pom\n",
      "Downloading https://repo1.maven.org/maven2/edu/holycross/shot/histoutils_2.12/2.3.0/histoutils_2.12-2.3.0.pom.sha1\n",
      "Downloaded https://repo1.maven.org/maven2/edu/holycross/shot/histoutils_2.12/2.3.0/histoutils_2.12-2.3.0.pom.sha1\n",
      "Downloading https://dl.bintray.com/neelsmith/maven/edu/holycross/shot/histoutils_2.12/2.3.0/histoutils_2.12-2.3.0.pom\n",
      "Downloaded https://dl.bintray.com/neelsmith/maven/edu/holycross/shot/histoutils_2.12/2.3.0/histoutils_2.12-2.3.0.pom\n",
      "Downloading https://dl.bintray.com/neelsmith/maven/edu/holycross/shot/histoutils_2.12/2.3.0/histoutils_2.12-2.3.0.jar\n",
      "Downloading https://dl.bintray.com/neelsmith/maven/edu/holycross/shot/histoutils_2.12/2.3.0/histoutils_2.12-2.3.0-sources.jar\n",
      "Downloaded https://dl.bintray.com/neelsmith/maven/edu/holycross/shot/histoutils_2.12/2.3.0/histoutils_2.12-2.3.0.jar\n",
      "Downloaded https://dl.bintray.com/neelsmith/maven/edu/holycross/shot/histoutils_2.12/2.3.0/histoutils_2.12-2.3.0-sources.jar\n"
     ]
    },
    {
     "data": {
      "text/plain": [
       "\u001b[32mimport \u001b[39m\u001b[36m$ivy.$                                     \u001b[39m"
      ]
     },
     "execution_count": 8,
     "metadata": {},
     "output_type": "execute_result"
    }
   ],
   "source": [
    "import $ivy.`edu.holycross.shot::histoutils:2.3.0`"
   ]
  },
  {
   "cell_type": "markdown",
   "metadata": {},
   "source": [
    "### Standard Scala\n",
    "\n",
    "The remaining cells import the `histoutils` library, and create a `Histogram` object from our data about frequencies of word counts."
   ]
  },
  {
   "cell_type": "code",
   "execution_count": 13,
   "metadata": {
    "collapsed": true
   },
   "outputs": [
    {
     "data": {
      "text/plain": [
       "\u001b[32mimport \u001b[39m\u001b[36medu.holycross.shot.histoutils._\n",
       "\n",
       "\u001b[39m\n",
       "\u001b[36mtokenFrequencies\u001b[39m: \u001b[32mVector\u001b[39m[\u001b[32mFrequency\u001b[39m[\u001b[32mInt\u001b[39m]] = \u001b[33mVector\u001b[39m(\n",
       "  \u001b[33mFrequency\u001b[39m(\u001b[32m0\u001b[39m, \u001b[32m7\u001b[39m),\n",
       "  \u001b[33mFrequency\u001b[39m(\u001b[32m5\u001b[39m, \u001b[32m640\u001b[39m),\n",
       "  \u001b[33mFrequency\u001b[39m(\u001b[32m10\u001b[39m, \u001b[32m1607\u001b[39m),\n",
       "  \u001b[33mFrequency\u001b[39m(\u001b[32m14\u001b[39m, \u001b[32m21\u001b[39m),\n",
       "  \u001b[33mFrequency\u001b[39m(\u001b[32m1\u001b[39m, \u001b[32m19\u001b[39m),\n",
       "  \u001b[33mFrequency\u001b[39m(\u001b[32m6\u001b[39m, \u001b[32m2009\u001b[39m),\n",
       "  \u001b[33mFrequency\u001b[39m(\u001b[32m9\u001b[39m, \u001b[32m2853\u001b[39m),\n",
       "  \u001b[33mFrequency\u001b[39m(\u001b[32m13\u001b[39m, \u001b[32m69\u001b[39m),\n",
       "  \u001b[33mFrequency\u001b[39m(\u001b[32m2\u001b[39m, \u001b[32m7\u001b[39m),\n",
       "  \u001b[33mFrequency\u001b[39m(\u001b[32m12\u001b[39m, \u001b[32m256\u001b[39m),\n",
       "  \u001b[33mFrequency\u001b[39m(\u001b[32m7\u001b[39m, \u001b[32m3536\u001b[39m),\n",
       "  \u001b[33mFrequency\u001b[39m(\u001b[32m3\u001b[39m, \u001b[32m27\u001b[39m),\n",
       "  \u001b[33mFrequency\u001b[39m(\u001b[32m11\u001b[39m, \u001b[32m677\u001b[39m),\n",
       "  \u001b[33mFrequency\u001b[39m(\u001b[32m8\u001b[39m, \u001b[32m3787\u001b[39m),\n",
       "  \u001b[33mFrequency\u001b[39m(\u001b[32m4\u001b[39m, \u001b[32m121\u001b[39m),\n",
       "  \u001b[33mFrequency\u001b[39m(\u001b[32m15\u001b[39m, \u001b[32m4\u001b[39m)\n",
       ")"
      ]
     },
     "execution_count": 13,
     "metadata": {},
     "output_type": "execute_result"
    }
   ],
   "source": [
    "import edu.holycross.shot.histoutils._\n",
    "\n",
    "val tokenFrequencies =   \n",
    "countFrequencies.map{ case (words, occurs) => Frequency(words, occurs)}"
   ]
  },
  {
   "cell_type": "code",
   "execution_count": 14,
   "metadata": {
    "collapsed": true
   },
   "outputs": [
    {
     "data": {
      "text/plain": [
       "\u001b[36miliadWordsHisto\u001b[39m: \u001b[32mHistogram\u001b[39m[\u001b[32mInt\u001b[39m] = \u001b[33mHistogram\u001b[39m(\n",
       "  \u001b[33mVector\u001b[39m(\n",
       "    \u001b[33mFrequency\u001b[39m(\u001b[32m0\u001b[39m, \u001b[32m7\u001b[39m),\n",
       "    \u001b[33mFrequency\u001b[39m(\u001b[32m5\u001b[39m, \u001b[32m640\u001b[39m),\n",
       "    \u001b[33mFrequency\u001b[39m(\u001b[32m10\u001b[39m, \u001b[32m1607\u001b[39m),\n",
       "    \u001b[33mFrequency\u001b[39m(\u001b[32m14\u001b[39m, \u001b[32m21\u001b[39m),\n",
       "    \u001b[33mFrequency\u001b[39m(\u001b[32m1\u001b[39m, \u001b[32m19\u001b[39m),\n",
       "    \u001b[33mFrequency\u001b[39m(\u001b[32m6\u001b[39m, \u001b[32m2009\u001b[39m),\n",
       "    \u001b[33mFrequency\u001b[39m(\u001b[32m9\u001b[39m, \u001b[32m2853\u001b[39m),\n",
       "    \u001b[33mFrequency\u001b[39m(\u001b[32m13\u001b[39m, \u001b[32m69\u001b[39m),\n",
       "    \u001b[33mFrequency\u001b[39m(\u001b[32m2\u001b[39m, \u001b[32m7\u001b[39m),\n",
       "    \u001b[33mFrequency\u001b[39m(\u001b[32m12\u001b[39m, \u001b[32m256\u001b[39m),\n",
       "    \u001b[33mFrequency\u001b[39m(\u001b[32m7\u001b[39m, \u001b[32m3536\u001b[39m),\n",
       "    \u001b[33mFrequency\u001b[39m(\u001b[32m3\u001b[39m, \u001b[32m27\u001b[39m),\n",
       "    \u001b[33mFrequency\u001b[39m(\u001b[32m11\u001b[39m, \u001b[32m677\u001b[39m),\n",
       "    \u001b[33mFrequency\u001b[39m(\u001b[32m8\u001b[39m, \u001b[32m3787\u001b[39m),\n",
       "    \u001b[33mFrequency\u001b[39m(\u001b[32m4\u001b[39m, \u001b[32m121\u001b[39m),\n",
       "    \u001b[33mFrequency\u001b[39m(\u001b[32m15\u001b[39m, \u001b[32m4\u001b[39m)\n",
       "  )\n",
       ")"
      ]
     },
     "execution_count": 14,
     "metadata": {},
     "output_type": "execute_result"
    }
   ],
   "source": [
    "val iliadWordsHisto = Histogram(tokenFrequencies)"
   ]
  },
  {
   "cell_type": "markdown",
   "metadata": {},
   "source": [
    "## Look at the problems"
   ]
  },
  {
   "cell_type": "code",
   "execution_count": 25,
   "metadata": {},
   "outputs": [
    {
     "name": "stdout",
     "output_type": "stream",
     "text": [
      "60 lines have bad sizes.\n",
      "0 Vector()\n",
      "\n",
      "0 Vector()\n",
      "\n",
      "0 Vector()\n",
      "\n",
      "0 Vector()\n",
      "\n",
      "0 Vector()\n",
      "\n",
      "0 Vector()\n",
      "\n",
      "0 Vector()\n",
      "\n",
      "1 Vector(MidToken(urn:cts:greekLit:tlg0012.tlg001.msA_tkns:22.235.0,νῦν δ' έτι καὶ μᾶλλον νοέω φρεσὶ τιμήσασθαι~,Some(LexicalToken)))\n",
      "\n",
      "1 Vector(MidToken(urn:cts:greekLit:tlg0012.tlg001.msA_tkns:22.237.0,τείχεος ἐξελθεῖν~ ἄλλοι δ' ἔντοσθε μένουσι~,Some(LexicalToken)))\n",
      "\n",
      "1 Vector(MidToken(urn:cts:greekLit:tlg0012.tlg001.msA_tkns:22.239.0,ἠθεῖ'~ ῆ μὲν πολλὰ πατὴρ καὶ πότνια μήτηρ,Some(LexicalToken)))\n",
      "\n",
      "1 Vector(MidToken(urn:cts:greekLit:tlg0012.tlg001.msA_tkns:22.242.0,ἂλλ' ἐμὸς ἔνδοθι θυμὸς ἐτείρετο πένθεϊ λυγρῷ~,Some(LexicalToken)))\n",
      "\n",
      "1 Vector(MidToken(urn:cts:greekLit:tlg0012.tlg001.msA_tkns:22.243.0,νῦν δ' ἰ̈θὺς μεμαῶτε μαχώμεθα~ μη δέ τι δούρων,Some(LexicalToken)))\n",
      "\n",
      "1 Vector(MidToken(urn:cts:greekLit:tlg0012.tlg001.msA_tkns:22.248.0,οἱ δ' ὅτε δὴ σχεδὸν ἦσαν ἐπ ἀλλήλοισιν ἰ̈όντες~,Some(LexicalToken)))\n",
      "\n",
      "1 Vector(MidToken(urn:cts:greekLit:tlg0012.tlg001.msA_tkns:22.254.0,ἂλλ' άγε δεῦρο θεοὺς ἐπιδώμεθα~ τοὶ γὰρ ἄριστοι,Some(LexicalToken)))\n",
      "\n",
      "1 Vector(MidToken(urn:cts:greekLit:tlg0012.tlg001.msA_tkns:22.268.0,παντοίης ἀρετῆς μιμνήσκεο~ νῦν σε μάλα χρὴ,Some(LexicalToken)))\n",
      "\n",
      "1 Vector(MidToken(urn:cts:greekLit:tlg0012.tlg001.msA_tkns:22.271.0,ἔγχει ἐμῷ δαμάᾳ~ νῦν δ' ἀθρόα πάντ' ἀποτίσεις,Some(LexicalToken)))\n",
      "\n",
      "1 Vector(MidToken(urn:cts:greekLit:tlg0012.tlg001.msA_tkns:24.107.0,ἐννῆμαρ δὴ νεῖκος ἐν ἀθανάτοισιν όρωρεν,Some(LexicalToken)))\n",
      "\n",
      "1 Vector(MidToken(urn:cts:greekLit:tlg0012.tlg001.msA_tkns:24.109.0,κλέψαι δ' ὀτρύνεσκον ἐΰσκοπον ἀργεϊφόντην·,Some(LexicalToken)))\n",
      "\n",
      "1 Vector(MidToken(urn:cts:greekLit:tlg0012.tlg001.msA_tkns:24.123.0,εὗρ' αδινὰ στενάχοντα· φίλοι δ' ἀμφ' αὐτὸν ἑταῖροι,Some(LexicalToken)))\n",
      "\n",
      "1 Vector(MidToken(urn:cts:greekLit:tlg0012.tlg001.msA_tkns:24.124.0,ἐσσυμένως ἐπένοντο καὶ ἐντύνοντο ἄριστον·,Some(LexicalToken)))\n",
      "\n",
      "1 Vector(MidToken(urn:cts:greekLit:tlg0012.tlg001.msA_tkns:24.125.0,τοῖσι δ' ὄϊς λάσιος μέγας ἐν κλισίῃ ἱ̈έρευτο·,Some(LexicalToken)))\n",
      "\n",
      "1 Vector(MidToken(urn:cts:greekLit:tlg0012.tlg001.msA_tkns:24.128.0,τέκνον ἐμόν· τέο μέχρις ὀδυρόμενος καὶ ἀχεύων,Some(LexicalToken)))\n",
      "\n",
      "1 Vector(MidToken(urn:cts:greekLit:tlg0012.tlg001.msA_tkns:24.130.0,οὔτ' εὐνῆς· ἀγαθὸν δὲ γυναικί περ ἐν φιλότητι,Some(LexicalToken)))\n",
      "\n",
      "1 Vector(MidToken(urn:cts:greekLit:tlg0012.tlg001.msA_tkns:24.132.0,ἄγχι παρέστηκεν θάνατος καὶ μοῖρα κραταιή·,Some(LexicalToken)))\n",
      "\n",
      "1 Vector(MidToken(urn:cts:greekLit:tlg0012.tlg001.msA_tkns:24.137.0,ἂλλ' ἄγε δη λῦσον· νεκροῖο δὲ δέξαι ἄποινα·,Some(LexicalToken)))\n",
      "\n",
      "1 Vector(MidToken(urn:cts:greekLit:tlg0012.tlg001.msA_tkns:24.142.0,πολλὰ πρὸς ἀλλήλους ἔπεα πτερόεντ' ἀγόρευον·,Some(LexicalToken)))\n",
      "\n",
      "2 Vector(MidToken(urn:cts:greekLit:tlg0012.tlg001.msA_tkns:22.262.0,ὡς οὐκ έστι λέουσι καὶ ἀνδράσιν ὅρκια πιστὰ,Some(LexicalToken)), MidToken(urn:cts:greekLit:tlg0012.tlg001.msA_tkns:22.262.1,.,Some(LexicalToken)))\n",
      "\n",
      "2 Vector(MidToken(urn:cts:greekLit:tlg0012.tlg001.msA_tkns:22.263.0,οὐδὲ λύκοι τε καὶ ἄρνες ὁμόφρονα θυμὸν ἔχουσιν,Some(LexicalToken)), MidToken(urn:cts:greekLit:tlg0012.tlg001.msA_tkns:22.263.1,.,Some(LexicalToken)))\n",
      "\n",
      "2 Vector(MidToken(urn:cts:greekLit:tlg0012.tlg001.msA_tkns:22.264.0,ἀλλὰ κακὰ φρονέουσι διαμπερὲς ἀλλήλοισιν,Some(LexicalToken)), MidToken(urn:cts:greekLit:tlg0012.tlg001.msA_tkns:22.264.1,.,Some(LexicalToken)))\n",
      "\n",
      "2 Vector(MidToken(urn:cts:greekLit:tlg0012.tlg001.msA_tkns:22.270.0,οὔ τοι ἔτ' ἔσθ' ὑπάλυξις~ ἄφαρ δέ σε ,Some(LexicalToken)), MidToken(urn:cts:greekLit:tlg0012.tlg001.msA_tkns:22.270.1,Παλλὰς Ἀθήνη,Some(LexicalToken)))\n",
      "\n",
      "2 Vector(MidToken(urn:cts:greekLit:tlg0012.tlg001.msA_tkns:24.111.0,αἰδῶ καὶ φιλότητα τεὴν μετ',Some(LexicalToken)), MidToken(urn:cts:greekLit:tlg0012.tlg001.msA_tkns:24.111.1,όπισθε φυλάσσων·,Some(LexicalToken)))\n",
      "\n",
      "2 Vector(MidToken(urn:cts:greekLit:tlg0012.tlg001.msA_tkns:24.112.0,αῖψα μάλ' ἐς στρατὸν ἐλθὲ καὶ υἱέϊ σῶ ἐπίτειλον,Some(LexicalToken)), MidToken(urn:cts:greekLit:tlg0012.tlg001.msA_tkns:24.112.1,.,Some(LexicalToken)))\n",
      "\n",
      "2 Vector(MidToken(urn:cts:greekLit:tlg0012.tlg001.msA_tkns:24.126.0,ἡ δὲ μάλ' ἄγχ' αὐτοῖο καθέζετο πότνια μήτηρ,Some(LexicalToken)), MidToken(urn:cts:greekLit:tlg0012.tlg001.msA_tkns:24.126.1,.,Some(LexicalToken)))\n",
      "\n",
      "3 Vector(MidToken(urn:cts:greekLit:tlg0012.tlg001.msA_tkns:2.706.0,αὐτοκασίγνητος,Some(LexicalToken)), MidToken(urn:cts:greekLit:tlg0012.tlg001.msA_tkns:2.706.1,μεγαθύμου,Some(LexicalToken)), MidToken(urn:cts:greekLit:tlg0012.tlg001.msA_tkns:2.706.2,Πρωτεσιλάου,Some(LexicalToken)))\n",
      "\n",
      "3 Vector(MidToken(urn:cts:greekLit:tlg0012.tlg001.msA_tkns:22.238.0,τὸν δ' αῦτε προσέειπε θεὰ γλαυκῶπις ,Some(LexicalToken)), MidToken(urn:cts:greekLit:tlg0012.tlg001.msA_tkns:22.238.1,Ἀθήνη,Some(LexicalToken)), MidToken(urn:cts:greekLit:tlg0012.tlg001.msA_tkns:22.238.2,~,Some(LexicalToken)))\n",
      "\n",
      "3 Vector(MidToken(urn:cts:greekLit:tlg0012.tlg001.msA_tkns:22.245.0,νῶϊ κατακτείνας,Some(LexicalToken)), MidToken(urn:cts:greekLit:tlg0012.tlg001.msA_tkns:22.245.1,,,Some(LexicalToken)), MidToken(urn:cts:greekLit:tlg0012.tlg001.msA_tkns:22.245.2, ἔναρα βροτόεντα φέρηται,Some(LexicalToken)))\n",
      "\n",
      "3 Vector(MidToken(urn:cts:greekLit:tlg0012.tlg001.msA_tkns:22.246.0,νῆας ἐπὶ γλαφυρὰς,Some(LexicalToken)), MidToken(urn:cts:greekLit:tlg0012.tlg001.msA_tkns:22.246.1,.,Some(LexicalToken)), MidToken(urn:cts:greekLit:tlg0012.tlg001.msA_tkns:22.246.2, ἤ κεν σῷ δουρὶ δαμείῃ~,Some(LexicalToken)))\n",
      "\n",
      "3 Vector(MidToken(urn:cts:greekLit:tlg0012.tlg001.msA_tkns:22.249.0,τὸν πρότερος προσέειπε μέγας κορυθαιόλος ,Some(LexicalToken)), MidToken(urn:cts:greekLit:tlg0012.tlg001.msA_tkns:22.249.1,Ἕκτωρ,Some(LexicalToken)), MidToken(urn:cts:greekLit:tlg0012.tlg001.msA_tkns:22.249.2,~,Some(LexicalToken)))\n",
      "\n",
      "3 Vector(MidToken(urn:cts:greekLit:tlg0012.tlg001.msA_tkns:22.255.0,μάρτυροι ἔσσονται,Some(LexicalToken)), MidToken(urn:cts:greekLit:tlg0012.tlg001.msA_tkns:22.255.1,.,Some(LexicalToken)), MidToken(urn:cts:greekLit:tlg0012.tlg001.msA_tkns:22.255.2, καὶ ἐπίσκοποι ἁρμονιάων~,Some(LexicalToken)))\n",
      "\n",
      "3 Vector(MidToken(urn:cts:greekLit:tlg0012.tlg001.msA_tkns:22.257.0,δώῃ καμμονίην,Some(LexicalToken)), MidToken(urn:cts:greekLit:tlg0012.tlg001.msA_tkns:22.257.1,.,Some(LexicalToken)), MidToken(urn:cts:greekLit:tlg0012.tlg001.msA_tkns:22.257.2, σὴν δὲ ψυχὴν ἀφέλωμαι~,Some(LexicalToken)))\n",
      "\n",
      "3 Vector(MidToken(urn:cts:greekLit:tlg0012.tlg001.msA_tkns:22.259.0,νεκρὸν ,Some(LexicalToken)), MidToken(urn:cts:greekLit:tlg0012.tlg001.msA_tkns:22.259.1,Ἀχαιοῖσιν,Some(LexicalToken)), MidToken(urn:cts:greekLit:tlg0012.tlg001.msA_tkns:22.259.2, δώσω πάλιν~ ὡς δὲ σὺ ῥέζειν~,Some(LexicalToken)))\n",
      "\n",
      "3 Vector(MidToken(urn:cts:greekLit:tlg0012.tlg001.msA_tkns:22.260.0,τὸν δ' άρ ὑπόδρα ἰδὼν προσέφη πόδας ὠκὺς ,Some(LexicalToken)), MidToken(urn:cts:greekLit:tlg0012.tlg001.msA_tkns:22.260.1,Ἀχιλλεύς,Some(LexicalToken)), MidToken(urn:cts:greekLit:tlg0012.tlg001.msA_tkns:22.260.2,~,Some(LexicalToken)))\n",
      "\n",
      "3 Vector(MidToken(urn:cts:greekLit:tlg0012.tlg001.msA_tkns:22.265.0,ὡς οὐκ έστ' ἐμὲ καὶ σὲ φιλήμεναι~ ,Some(LexicalToken)), MidToken(urn:cts:greekLit:tlg0012.tlg001.msA_tkns:22.265.1,οὔτε,Some(LexicalToken)), MidToken(urn:cts:greekLit:tlg0012.tlg001.msA_tkns:22.265.2, τι νῶϊν,Some(LexicalToken)))\n",
      "\n",
      "3 Vector(MidToken(urn:cts:greekLit:tlg0012.tlg001.msA_tkns:22.266.0,ὅρκια ἔσσονται,Some(LexicalToken)), MidToken(urn:cts:greekLit:tlg0012.tlg001.msA_tkns:22.266.1,.,Some(LexicalToken)), MidToken(urn:cts:greekLit:tlg0012.tlg001.msA_tkns:22.266.2, πρίν γ' ἢ ἕτερόν γε πεσόντα~,Some(LexicalToken)))\n",
      "\n",
      "3 Vector(MidToken(urn:cts:greekLit:tlg0012.tlg001.msA_tkns:22.269.0,αἰχμητήν τ' έμεναι,Some(LexicalToken)), MidToken(urn:cts:greekLit:tlg0012.tlg001.msA_tkns:22.269.1,.,Some(LexicalToken)), MidToken(urn:cts:greekLit:tlg0012.tlg001.msA_tkns:22.269.2, καὶ θαρσαλέον πολεμιστήν~,Some(LexicalToken)))\n",
      "\n",
      "3 Vector(MidToken(urn:cts:greekLit:tlg0012.tlg001.msA_tkns:22.272.0,κήδε' ἐμῶν ἑτάρων,Some(LexicalToken)), MidToken(urn:cts:greekLit:tlg0012.tlg001.msA_tkns:22.272.1,,,Some(LexicalToken)), MidToken(urn:cts:greekLit:tlg0012.tlg001.msA_tkns:22.272.2, οὓς ἔκτανες ἔγχεϊ θύιων~,Some(LexicalToken)))\n",
      "\n",
      "3 Vector(MidToken(urn:cts:greekLit:tlg0012.tlg001.msA_tkns:22.273.0,ῆ ῥα,Some(LexicalToken)), MidToken(urn:cts:greekLit:tlg0012.tlg001.msA_tkns:22.273.1,.,Some(LexicalToken)), MidToken(urn:cts:greekLit:tlg0012.tlg001.msA_tkns:22.273.2, καὶ ἀμπεπαλὼν προΐει δολιχόσκιον ἔγχος~,Some(LexicalToken)))\n",
      "\n",
      "3 Vector(MidToken(urn:cts:greekLit:tlg0012.tlg001.msA_tkns:22.275.0,ἕζετο γὰρ προϊδὼν,Some(LexicalToken)), MidToken(urn:cts:greekLit:tlg0012.tlg001.msA_tkns:22.275.1,.,Some(LexicalToken)), MidToken(urn:cts:greekLit:tlg0012.tlg001.msA_tkns:22.275.2, τὸ δ' ὑπέρπτατο χάλκεον ἔγχος~,Some(LexicalToken)))\n",
      "\n",
      "3 Vector(MidToken(urn:cts:greekLit:tlg0012.tlg001.msA_tkns:22.282.0,ὄφρά σ' ὑποδδείσας,Some(LexicalToken)), MidToken(urn:cts:greekLit:tlg0012.tlg001.msA_tkns:22.282.1,.,Some(LexicalToken)), MidToken(urn:cts:greekLit:tlg0012.tlg001.msA_tkns:22.282.2, μένεος ἀλκῆς τε λάθωμαι~,Some(LexicalToken)))\n",
      "\n",
      "3 Vector(MidToken(urn:cts:greekLit:tlg0012.tlg001.msA_tkns:22.283.0,οὐ μέν μοι φεύγοντι,Some(LexicalToken)), MidToken(urn:cts:greekLit:tlg0012.tlg001.msA_tkns:22.283.1,.,Some(LexicalToken)), MidToken(urn:cts:greekLit:tlg0012.tlg001.msA_tkns:22.283.2, μεταφρένῳ ἐν δόρυ πήξεις~,Some(LexicalToken)))\n",
      "\n",
      "3 Vector(MidToken(urn:cts:greekLit:tlg0012.tlg001.msA_tkns:22.301x.0,MY,Some(LexicalToken)), MidToken(urn:cts:greekLit:tlg0012.tlg001.msA_tkns:22.301x.1,GREEK,Some(LexicalToken)), MidToken(urn:cts:greekLit:tlg0012.tlg001.msA_tkns:22.301x.2,TEXT,Some(LexicalToken)))\n",
      "\n",
      "3 Vector(MidToken(urn:cts:greekLit:tlg0012.tlg001.msA_tkns:24.105.0,πένθος ἄλαστον ἔχουσα μετα φρεσὶν,Some(LexicalToken)), MidToken(urn:cts:greekLit:tlg0012.tlg001.msA_tkns:24.105.1,.,Some(LexicalToken)), MidToken(urn:cts:greekLit:tlg0012.tlg001.msA_tkns:24.105.2, οῖδα καὶ αὐτός·,Some(LexicalToken)))\n",
      "\n",
      "3 Vector(MidToken(urn:cts:greekLit:tlg0012.tlg001.msA_tkns:24.106.0,ἀλλὰ καὶ ὡς,Some(LexicalToken)), MidToken(urn:cts:greekLit:tlg0012.tlg001.msA_tkns:24.106.1,,,Some(LexicalToken)), MidToken(urn:cts:greekLit:tlg0012.tlg001.msA_tkns:24.106.2, ἐρέω τοῦ σ' εἵνεκα δεῦρο κάλεσσα·,Some(LexicalToken)))\n",
      "\n",
      "3 Vector(MidToken(urn:cts:greekLit:tlg0012.tlg001.msA_tkns:24.114.0,ἀθανάτων κεχολῶσθαι,Some(LexicalToken)), MidToken(urn:cts:greekLit:tlg0012.tlg001.msA_tkns:24.114.1,.,Some(LexicalToken)), MidToken(urn:cts:greekLit:tlg0012.tlg001.msA_tkns:24.114.2, ὅτι φρεσὶ μαινομένῃσιν,Some(LexicalToken)))\n",
      "\n",
      "3 Vector(MidToken(urn:cts:greekLit:tlg0012.tlg001.msA_tkns:24.120.0,ὡς ἔφατ',Some(LexicalToken)), MidToken(urn:cts:greekLit:tlg0012.tlg001.msA_tkns:24.120.1,.,Some(LexicalToken)), MidToken(urn:cts:greekLit:tlg0012.tlg001.msA_tkns:24.120.2, οὐδ' ἀπίθησε θεὰ Θέτις ἀργυρόπεζα·,Some(LexicalToken)))\n",
      "\n",
      "3 Vector(MidToken(urn:cts:greekLit:tlg0012.tlg001.msA_tkns:24.121.0,βῆ δὲ κατ' ,Some(LexicalToken)), MidToken(urn:cts:greekLit:tlg0012.tlg001.msA_tkns:24.121.1,Οὐλύμποιο,Some(LexicalToken)), MidToken(urn:cts:greekLit:tlg0012.tlg001.msA_tkns:24.121.2, καρήνων ἀΐξασα·,Some(LexicalToken)))\n",
      "\n",
      "3 Vector(MidToken(urn:cts:greekLit:tlg0012.tlg001.msA_tkns:24.122.0,ῗξεν δ' ἐς κλισίην οὗ,Some(LexicalToken)), MidToken(urn:cts:greekLit:tlg0012.tlg001.msA_tkns:24.122.1,,,Some(LexicalToken)), MidToken(urn:cts:greekLit:tlg0012.tlg001.msA_tkns:24.122.2, υἱέος· ἔνθ' ἄρα τόν γε,Some(LexicalToken)))\n",
      "\n",
      "3 Vector(MidToken(urn:cts:greekLit:tlg0012.tlg001.msA_tkns:24.134.0,σκύζεσθαί σοι φησὶ θεούς,Some(LexicalToken)), MidToken(urn:cts:greekLit:tlg0012.tlg001.msA_tkns:24.134.1,.,Some(LexicalToken)), MidToken(urn:cts:greekLit:tlg0012.tlg001.msA_tkns:24.134.2, ἑὲ δ' ἔξοχα πάντων,Some(LexicalToken)))\n",
      "\n",
      "3 Vector(MidToken(urn:cts:greekLit:tlg0012.tlg001.msA_tkns:24.135.0,ἀθανάτων κεχολῶσθαι,Some(LexicalToken)), MidToken(urn:cts:greekLit:tlg0012.tlg001.msA_tkns:24.135.1,.,Some(LexicalToken)), MidToken(urn:cts:greekLit:tlg0012.tlg001.msA_tkns:24.135.2, ὅτι φρεσὶ μαινομένῃσιν,Some(LexicalToken)))\n",
      "\n",
      "3 Vector(MidToken(urn:cts:greekLit:tlg0012.tlg001.msA_tkns:24.140.0,εἰ δὴ πρόφρονι θυμῷ ,Some(LexicalToken)), MidToken(urn:cts:greekLit:tlg0012.tlg001.msA_tkns:24.140.1,Ὀλύμπιος,Some(LexicalToken)), MidToken(urn:cts:greekLit:tlg0012.tlg001.msA_tkns:24.140.2, αὐτὸς ἀνώγει·,Some(LexicalToken)))\n"
     ]
    },
    {
     "data": {
      "text/plain": [
       "\u001b[36mtooShort\u001b[39m: \u001b[32mVector\u001b[39m[\u001b[32mVector\u001b[39m[\u001b[32mMidToken\u001b[39m]] = \u001b[33mVector\u001b[39m(\n",
       "  \u001b[33mVector\u001b[39m(),\n",
       "  \u001b[33mVector\u001b[39m(),\n",
       "  \u001b[33mVector\u001b[39m(),\n",
       "  \u001b[33mVector\u001b[39m(),\n",
       "  \u001b[33mVector\u001b[39m(),\n",
       "  \u001b[33mVector\u001b[39m(),\n",
       "  \u001b[33mVector\u001b[39m(),\n",
       "  \u001b[33mVector\u001b[39m(\n",
       "    \u001b[33mMidToken\u001b[39m(\n",
       "      \u001b[33mCtsUrn\u001b[39m(\u001b[32m\"urn:cts:greekLit:tlg0012.tlg001.msA_tkns:22.235.0\"\u001b[39m),\n",
       "      \u001b[32m\"\\u03bd\\u1fe6\\u03bd\\u00a0\\u03b4'\\u00a0\\u1f73\\u03c4\\u03b9\\u00a0\\u03ba\\u03b1\\u1f76\\u00a0\\u03bc\\u1fb6\\u03bb\\u03bb\\u03bf\\u03bd\\u00a0\\u03bd\\u03bf\\u1f73\\u03c9\\u00a0\\u03c6\\u03c1\\u03b5\\u03c3\\u1f76\\u00a0\\u03c4\\u03b9\\u03bc\\u03ae\\u03c3\\u03b1\\u03c3\\u03b8\\u03b1\\u03b9~\"\u001b[39m,\n",
       "      \u001b[33mSome\u001b[39m(LexicalToken)\n",
       "    )\n",
       "  ),\n",
       "  \u001b[33mVector\u001b[39m(\n",
       "    \u001b[33mMidToken\u001b[39m(\n",
       "      \u001b[33mCtsUrn\u001b[39m(\u001b[32m\"urn:cts:greekLit:tlg0012.tlg001.msA_tkns:22.237.0\"\u001b[39m),\n",
       "      \u001b[32m\"\\u03c4\\u03b5\\u03af\\u03c7\\u03b5\\u03bf\\u03c2\\u00a0\\u1f10\\u03be\\u03b5\\u03bb\\u03b8\\u03b5\\u1fd6\\u03bd~\\u00a0\\u1f04\\u03bb\\u03bb\\u03bf\\u03b9\\u00a0\\u03b4'\\u00a0\\u1f14\\u03bd\\u03c4\\u03bf\\u03c3\\u03b8\\u03b5\\u00a0\\u03bc\\u1f73\\u03bd\\u03bf\\u03c5\\u03c3\\u03b9~\"\u001b[39m,\n",
       "      \u001b[33mSome\u001b[39m(LexicalToken)\n",
       "    )\n",
       "  ),\n",
       "  \u001b[33mVector\u001b[39m(\n",
       "    \u001b[33mMidToken\u001b[39m(\n",
       "      \u001b[33mCtsUrn\u001b[39m(\u001b[32m\"urn:cts:greekLit:tlg0012.tlg001.msA_tkns:22.239.0\"\u001b[39m),\n",
       "      \u001b[32m\"\\u1f20\\u03b8\\u03b5\\u1fd6'~\\u00a0\\u1fc6\\u00a0\\u03bc\\u1f72\\u03bd\\u00a0\\u03c0\\u03bf\\u03bb\\u03bb\\u1f70\\u00a0\\u03c0\\u03b1\\u03c4\\u1f74\\u03c1\\u00a0\\u03ba\\u03b1\\u1f76\\u00a0\\u03c0\\u1f79\\u03c4\\u03bd\\u03b9\\u03b1\\u00a0\\u03bc\\u03ae\\u03c4\\u03b7\\u03c1\"\u001b[39m,\n",
       "      \u001b[33mSome\u001b[39m(LexicalToken)\n",
       "    )\n",
       "  ),\n",
       "  \u001b[33mVector\u001b[39m(\n",
       "..."
      ]
     },
     "execution_count": 25,
     "metadata": {},
     "output_type": "execute_result"
    }
   ],
   "source": [
    "val tooShort = lexTokens.filter(ln => ln.size < 4).sortBy(_.size)\n",
    "println(tooShort.size + \" lines have bad sizes.\")\n",
    "println(tooShort.map \n",
    "        (ln => ln.size + \" \" + ln).mkString(\"\\n\\n\"))\n",
    "\n"
   ]
  },
  {
   "cell_type": "code",
   "execution_count": 27,
   "metadata": {},
   "outputs": [
    {
     "data": {
      "text/plain": [
       "\u001b[36mbadLines\u001b[39m: \u001b[32mVector\u001b[39m[\u001b[32mCitableNode\u001b[39m] = \u001b[33mVector\u001b[39m(\n",
       "  \u001b[33mCitableNode\u001b[39m(\u001b[33mCtsUrn\u001b[39m(\u001b[32m\"urn:cts:greekLit:tlg0012.tlg001.msA:5.57\"\u001b[39m), \u001b[32m\" \"\u001b[39m),\n",
       "  \u001b[33mCitableNode\u001b[39m(\u001b[33mCtsUrn\u001b[39m(\u001b[32m\"urn:cts:greekLit:tlg0012.tlg001.msA:7.234\"\u001b[39m), \u001b[32m\" \"\u001b[39m),\n",
       "  \u001b[33mCitableNode\u001b[39m(\u001b[33mCtsUrn\u001b[39m(\u001b[32m\"urn:cts:greekLit:tlg0012.tlg001.msA:7.385\"\u001b[39m), \u001b[32m\" \"\u001b[39m),\n",
       "  \u001b[33mCitableNode\u001b[39m(\u001b[33mCtsUrn\u001b[39m(\u001b[32m\"urn:cts:greekLit:tlg0012.tlg001.msA:8.315\"\u001b[39m), \u001b[32m\" \"\u001b[39m),\n",
       "  \u001b[33mCitableNode\u001b[39m(\u001b[33mCtsUrn\u001b[39m(\u001b[32m\"urn:cts:greekLit:tlg0012.tlg001.msA:8.410\"\u001b[39m), \u001b[32m\" \"\u001b[39m),\n",
       "  \u001b[33mCitableNode\u001b[39m(\u001b[33mCtsUrn\u001b[39m(\u001b[32m\"urn:cts:greekLit:tlg0012.tlg001.msA:12.197\"\u001b[39m), \u001b[32m\" \"\u001b[39m),\n",
       "  \u001b[33mCitableNode\u001b[39m(\u001b[33mCtsUrn\u001b[39m(\u001b[32m\"urn:cts:greekLit:tlg0012.tlg001.msA:12.218b\"\u001b[39m), \u001b[32m\" \"\u001b[39m),\n",
       "  \u001b[33mCitableNode\u001b[39m(\n",
       "    \u001b[33mCtsUrn\u001b[39m(\u001b[32m\"urn:cts:greekLit:tlg0012.tlg001.msA:22.235\"\u001b[39m),\n",
       "    \u001b[32m\"\\u03bd\\u1fe6\\u03bd\\u00a0\\u03b4'\\u00a0\\u1f73\\u03c4\\u03b9\\u00a0\\u03ba\\u03b1\\u1f76\\u00a0\\u03bc\\u1fb6\\u03bb\\u03bb\\u03bf\\u03bd\\u00a0\\u03bd\\u03bf\\u1f73\\u03c9\\u00a0\\u03c6\\u03c1\\u03b5\\u03c3\\u1f76\\u00a0\\u03c4\\u03b9\\u03bc\\u03ae\\u03c3\\u03b1\\u03c3\\u03b8\\u03b1\\u03b9~\"\u001b[39m\n",
       "  ),\n",
       "  \u001b[33mCitableNode\u001b[39m(\n",
       "    \u001b[33mCtsUrn\u001b[39m(\u001b[32m\"urn:cts:greekLit:tlg0012.tlg001.msA:22.237\"\u001b[39m),\n",
       "    \u001b[32m\"\\u03c4\\u03b5\\u03af\\u03c7\\u03b5\\u03bf\\u03c2\\u00a0\\u1f10\\u03be\\u03b5\\u03bb\\u03b8\\u03b5\\u1fd6\\u03bd~\\u00a0\\u1f04\\u03bb\\u03bb\\u03bf\\u03b9\\u00a0\\u03b4'\\u00a0\\u1f14\\u03bd\\u03c4\\u03bf\\u03c3\\u03b8\\u03b5\\u00a0\\u03bc\\u1f73\\u03bd\\u03bf\\u03c5\\u03c3\\u03b9~\"\u001b[39m\n",
       "  ),\n",
       "  \u001b[33mCitableNode\u001b[39m(\n",
       "    \u001b[33mCtsUrn\u001b[39m(\u001b[32m\"urn:cts:greekLit:tlg0012.tlg001.msA:22.239\"\u001b[39m),\n",
       "    \u001b[32m\"\\u1f20\\u03b8\\u03b5\\u1fd6'~\\u00a0\\u1fc6\\u00a0\\u03bc\\u1f72\\u03bd\\u00a0\\u03c0\\u03bf\\u03bb\\u03bb\\u1f70\\u00a0\\u03c0\\u03b1\\u03c4\\u1f74\\u03c1\\u00a0\\u03ba\\u03b1\\u1f76\\u00a0\\u03c0\\u1f79\\u03c4\\u03bd\\u03b9\\u03b1\\u00a0\\u03bc\\u03ae\\u03c4\\u03b7\\u03c1\"\u001b[39m\n",
       "  ),\n",
       "  \u001b[33mCitableNode\u001b[39m(\n",
       "    \u001b[33mCtsUrn\u001b[39m(\u001b[32m\"urn:cts:greekLit:tlg0012.tlg001.msA:22.242\"\u001b[39m),\n",
       "    \u001b[32m\"\\u1f02\\u03bb\\u03bb'\\u00a0\\u1f10\\u03bc\\u1f78\\u03c2\\u00a0\\u1f14\\u03bd\\u03b4\\u03bf\\u03b8\\u03b9\\u00a0\\u03b8\\u03c5\\u03bc\\u1f78\\u03c2\\u00a0\\u1f10\\u03c4\\u03b5\\u03af\\u03c1\\u03b5\\u03c4\\u03bf\\u00a0\\u03c0\\u1f73\\u03bd\\u03b8\\u03b5\\u03ca\\u00a0\\u03bb\\u03c5\\u03b3\\u03c1\\u1ff7~\"\u001b[39m\n",
       "  ),\n",
       "  \u001b[33mCitableNode\u001b[39m(\n",
       "    \u001b[33mCtsUrn\u001b[39m(\u001b[32m\"urn:cts:greekLit:tlg0012.tlg001.msA:22.243\"\u001b[39m),\n",
       "    \u001b[32m\"\\u03bd\\u1fe6\\u03bd\\u00a0\\u03b4'\\u00a0\\u1f30\\u0308\\u03b8\\u1f7a\\u03c2\\u00a0\\u\u001b[39m..."
      ]
     },
     "execution_count": 27,
     "metadata": {},
     "output_type": "execute_result"
    }
   ],
   "source": [
    "val badLines = iliad.nodes.filter(n => LiteraryGreekString.tokenizeNode(n).size < 3)\n"
   ]
  }
 ],
 "metadata": {
  "kernelspec": {
   "display_name": "Scala (2.12)",
   "language": "scala",
   "name": "scala212"
  },
  "language_info": {
   "codemirror_mode": "text/x-scala",
   "file_extension": ".scala",
   "mimetype": "text/x-scala",
   "name": "scala",
   "nbconvert_exporter": "script",
   "version": "2.12.10"
  }
 },
 "nbformat": 4,
 "nbformat_minor": 4
}
