{
 "cells": [
  {
   "cell_type": "markdown",
   "metadata": {},
   "source": [
    "# Analysis of character usage in simplified ASCII text\n",
    "\n",
    "\n",
    "Find all distinct characters in simplified ASCII representation of an *Iliad*\n",
    "\n",
    "\n"
   ]
  },
  {
   "cell_type": "code",
   "execution_count": null,
   "metadata": {
    "execution": {
     "iopub.execute_input": "2020-07-04T15:10:33.587Z",
     "iopub.status.busy": "2020-07-04T15:10:33.537Z",
     "iopub.status.idle": "2020-07-04T15:10:41.398Z"
    }
   },
   "outputs": [],
   "source": [
    "// Configure notebook\n",
    "val personalRepo = coursierapi.MavenRepository.of(\"https://dl.bintray.com/neelsmith/maven\")\n",
    "interp.repositories() ++= Seq(personalRepo)\n"
   ]
  },
  {
   "cell_type": "code",
   "execution_count": null,
   "metadata": {
    "execution": {
     "iopub.execute_input": "2020-07-04T15:10:41.486Z",
     "iopub.status.busy": "2020-07-04T15:10:41.463Z",
     "iopub.status.idle": "2020-07-04T15:10:48.476Z"
    }
   },
   "outputs": [],
   "source": [
    "import $ivy.`edu.holycross.shot.cite::xcite:4.3.0`\n",
    "import $ivy.`edu.holycross.shot::ohco2:10.20.3`\n",
    "import $ivy.`edu.holycross.shot::greek:5.5.1`\n",
    "import $ivy.`edu.holycross.shot.mid::orthography:2.0.0`"
   ]
  },
  {
   "cell_type": "code",
   "execution_count": null,
   "metadata": {
    "execution": {
     "iopub.execute_input": "2020-07-04T15:10:48.544Z",
     "iopub.status.busy": "2020-07-04T15:10:48.521Z",
     "iopub.status.idle": "2020-07-04T15:11:12.803Z"
    },
    "jupyter": {
     "outputs_hidden": true
    }
   },
   "outputs": [],
   "source": [
    "import edu.holycross.shot.cite._\n",
    "import edu.holycross.shot.ohco2._\n",
    "import edu.holycross.shot.greek._\n",
    "import edu.holycross.shot.mid.orthography._\n",
    "\n",
    "\n",
    "val venetusAUrl = \"https://raw.githubusercontent.com/neelsmith/summer2020nbs/master/data/vaIliad-2020i.cex\"\n",
    "val twins9Url = \"https://raw.githubusercontent.com/neelsmith/summer2020nbs/master/data/twins9corpus.cex\"\n",
    "val allenUrl = \"https://raw.githubusercontent.com/neelsmith/summer2020nbs/master/data/iliad-allen.cex\"\n",
    "\n"
   ]
  },
  {
   "cell_type": "code",
   "execution_count": null,
   "metadata": {
    "execution": {
     "iopub.execute_input": "2020-07-04T15:11:12.853Z",
     "iopub.status.busy": "2020-07-04T15:11:12.835Z",
     "iopub.status.idle": "2020-07-04T15:37:29.621Z"
    },
    "jupyter": {
     "outputs_hidden": true
    }
   },
   "outputs": [],
   "source": [
    "// create  source corpora\n",
    "val twins9 = CorpusSource.fromUrl(twins9Url)\n",
    "val allen = CorpusSource.fromUrl(allenUrl)\n",
    "val venetusA = CorpusSource.fromUrl(venetusAUrl)"
   ]
  },
  {
   "cell_type": "code",
   "execution_count": null,
   "metadata": {
    "execution": {
     "iopub.execute_input": "2020-07-04T15:39:13.099Z",
     "iopub.status.busy": "2020-07-04T15:39:13.056Z",
     "iopub.status.idle": "2020-07-04T15:39:55.826Z"
    },
    "jupyter": {
     "outputs_hidden": false,
     "source_hidden": false
    },
    "nteract": {
     "transient": {
      "deleting": false
     }
    }
   },
   "outputs": [],
   "source": [
    "/*\n",
    "- tokenize, keep only lexical tokens\n",
    "- make LiteraryGreekStrings from lexical tokens, drop accents and breathings\n",
    "- recompose into a single stripped-down string for each line\n",
    "*/\n",
    "def curateNode(cn: CitableNode, siglum: String) : CitableNode = {\n",
    "  if (cn.text.isEmpty){\n",
    "    println(\"EMPTY TEXT: \" + cn.urn)\n",
    "    cn\n",
    "  } else {\n",
    "\n",
    "    val lexTokens = LiteraryGreekString.tokenizeNode(cn).filter(_.tokenCategory == Some(LexicalToken))\n",
    "    val lgs = lexTokens.map(tkn => LiteraryGreekString(tkn.text).toLower.stripBreathingAccent.ascii)\n",
    "    val simpleAscii = lgs.mkString(\" \")\n",
    "    CitableNode(cn.urn.addVersion(s\"${siglum}_simpleascii\"),simpleAscii)\n",
    "  }\n",
    "}\n",
    "\n",
    "\n",
    "def asciiCorpus(c: Corpus, siglum: String) : Corpus = {\n",
    "  Corpus(c.nodes.map(n => curateNode(n, siglum)))\n",
    "}"
   ]
  },
  {
   "cell_type": "code",
   "execution_count": null,
   "metadata": {},
   "outputs": [],
   "source": [
    "val oopsIliadNodes = twins9.nodes.filter(_.urn < CtsUrn(\"urn:cts:greekLit:tlg0012.tlg001.e3:9\"))\n",
    "\n"
   ]
  },
  {
   "cell_type": "code",
   "execution_count": null,
   "metadata": {
    "execution": {
     "iopub.execute_input": "2020-07-04T15:41:37.203Z",
     "iopub.status.busy": "2020-07-04T15:41:37.188Z",
     "iopub.status.idle": "2020-07-04T15:39:09.054Z"
    },
    "jupyter": {
     "outputs_hidden": false,
     "source_hidden": false
    },
    "nteract": {
     "transient": {
      "deleting": false
     }
    }
   },
   "outputs": [],
   "source": [
    "\n",
    "val oopsIliadAscii = asciiCorpus(Corpus(oopsIliadNodes), \"e3\")\n"
   ]
  },
  {
   "cell_type": "code",
   "execution_count": null,
   "metadata": {},
   "outputs": [],
   "source": [
    "val chars = oopsIliadAscii.nodes.map(_.text).map(_.split(\"\")).flatten.distinct\n"
   ]
  }
 ],
 "metadata": {
  "kernelspec": {
   "display_name": "Scala (2.12)",
   "language": "scala",
   "name": "scala212"
  },
  "language_info": {
   "codemirror_mode": "text/x-scala",
   "file_extension": ".scala",
   "mimetype": "text/x-scala",
   "name": "scala",
   "nbconvert_exporter": "script",
   "version": "2.12.10"
  },
  "nteract": {
   "version": "0.24.0"
  }
 },
 "nbformat": 4,
 "nbformat_minor": 4
}
