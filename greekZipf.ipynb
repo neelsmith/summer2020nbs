{
 "cells": [
  {
   "cell_type": "markdown",
   "metadata": {},
   "source": [
    "## Counting and Zipf's Law\n",
    "\n",
    "Let's extend our counting skills to see what Zipf's Law looks like in Greek.\n",
    "\n",
    "The first cell below just loads two long texts:  don't worry yet about how it works, but notice that at the end, we've created a named String value called `iliad` and a named String value called `scholia`."
   ]
  },
  {
   "cell_type": "code",
   "execution_count": null,
   "metadata": {},
   "outputs": [],
   "source": [
    "import scala.io.Source\n",
    "val iliadUrl = \"https://raw.githubusercontent.com/neelsmith/summer2020nbs/master/data/iliad-dipl.txt\"\n",
    "val scholiaUrl = \"https://raw.githubusercontent.com/neelsmith/summer2020nbs/master/data/scholia-dipl.txt\"\n",
    "\n",
    "val iliad = Source.fromURL(iliadUrl).mkString(\"\")\n",
    "val scholia = Source.fromURL(scholiaUrl).mkString(\"\")\n",
    "\n",
    "\n",
    "\n",
    "\n"
   ]
  },
  {
   "cell_type": "markdown",
   "metadata": {},
   "source": [
    "Ever wonder how long the Venetus A *Iliad* or *scholia* are?"
   ]
  },
  {
   "cell_type": "code",
   "execution_count": null,
   "metadata": {},
   "outputs": [],
   "source": [
    "iliad.size\n",
    "scholia.size\n"
   ]
  },
  {
   "cell_type": "markdown",
   "metadata": {},
   "source": [
    "## Is the *Iliad* Zipfie?\n",
    "\n",
    "So let's count \"words\".  We could spend a long time deciding what a word is, but let's keep it simple today by:\n",
    "\n",
    "1. throwing away some punctuation characters\n",
    "2. then splitting the long text on whitespace\n",
    "\n"
   ]
  },
  {
   "cell_type": "code",
   "execution_count": null,
   "metadata": {},
   "outputs": [],
   "source": [
    "// We'll learn more later about what's going on here: the list of\n",
    "// characters inside square brackets is actually a *regular expression*\n",
    "val stripped = iliad.replaceAll(\"[,·\\\\.:~]\", \"\")\n",
    "// The expression [ ] means \"one or more occurrences of any Whitespace character\"\n",
    "val words = stripped.split(\"[ \\n]+\").toVector\n",
    "\n",
    "// Print first 100 words to see if they look right...\n",
    "println(words.take(100))"
   ]
  },
  {
   "cell_type": "code",
   "execution_count": null,
   "metadata": {},
   "outputs": [],
   "source": [
    "val grouped = words.groupBy( w => w).toVector\n",
    "val frequencies = grouped.map{ case (word, wordList) => (word, wordList.size)}"
   ]
  },
  {
   "cell_type": "code",
   "execution_count": null,
   "metadata": {},
   "outputs": [],
   "source": [
    "val mostToFewest = frequencies.sortBy{ case (w,freq) => freq }.reverse\n",
    "println(mostToFewest.take(100))"
   ]
  },
  {
   "cell_type": "code",
   "execution_count": null,
   "metadata": {},
   "outputs": [],
   "source": [
    "// Make plotly libraries available to this notebook:\n",
    "import $ivy.`org.plotly-scala::plotly-almond:0.7.1`\n",
    "// Import plotly libraries, and set display defaults suggested for use in Jupyter NBs:\n",
    "import plotly._, plotly.element._, plotly.layout._, plotly.Almond._\n",
    "repl.pprinter() = repl.pprinter().copy(defaultHeight = 3)"
   ]
  },
  {
   "cell_type": "code",
   "execution_count": null,
   "metadata": {},
   "outputs": [],
   "source": [
    "val words = mostToFewest.map(frequency => frequency._1)\n",
    "val counts = mostToFewest.map(frequency => frequency._2)\n",
    "\n",
    "val zipf = Vector(\n",
    "  Bar(x = words, y = counts)\n",
    ")\n",
    "plot(zipf)"
   ]
  },
  {
   "cell_type": "markdown",
   "metadata": {},
   "source": [
    "## Can you do this for the *scholia*?"
   ]
  }
 ],
 "metadata": {
  "kernelspec": {
   "display_name": "Scala (2.12)",
   "language": "scala",
   "name": "scala212"
  },
  "language_info": {
   "codemirror_mode": "text/x-scala",
   "file_extension": ".scala",
   "mimetype": "text/x-scala",
   "name": "scala",
   "nbconvert_exporter": "script",
   "version": "2.12.10"
  }
 },
 "nbformat": 4,
 "nbformat_minor": 4
}
