{
 "cells": [
  {
   "cell_type": "markdown",
   "metadata": {},
   "source": [
    "# Edit distance"
   ]
  },
  {
   "cell_type": "code",
   "execution_count": null,
   "metadata": {},
   "outputs": [],
   "source": [
    "import scala.collection.mutable\n",
    "import scala.collection.parallel.ParSeq"
   ]
  },
  {
   "cell_type": "code",
   "execution_count": null,
   "metadata": {},
   "outputs": [],
   "source": [
    "// Implementation from RosettaCode:\n",
    "// https://rosettacode.org/wiki/Levenshtein_distance\n",
    "def levenshteinMemo(s1: String, s2: String): mutable.Map[(Int, Int), Int] = {\n",
    "  val memoizedCosts = mutable.Map[(Int, Int), Int]()\n",
    "\n",
    "  def lev: ((Int, Int)) => Int = {\n",
    "    case (k1, k2) =>\n",
    "      memoizedCosts.getOrElseUpdate((k1, k2), (k1, k2) match {\n",
    "        case (i, 0) => i\n",
    "        case (0, j) => j\n",
    "        case (i, j) =>\n",
    "          ParSeq(1 + lev((i - 1, j)),\n",
    "                 1 + lev((i, j - 1)),\n",
    "                 lev((i - 1, j - 1))\n",
    "                   + (if (s1(i - 1) != s2(j - 1)) 1 else 0)).min\n",
    "      })\n",
    "  }\n",
    "  lev((s1.length, s2.length))\n",
    "  memoizedCosts\n",
    "}"
   ]
  },
  {
   "cell_type": "code",
   "execution_count": null,
   "metadata": {},
   "outputs": [],
   "source": [
    "def editDistance(s1: String, s2: String) : Int = {\n",
    "  levenshteinMemo(s1, s2)((s1.length, s2.length))\n",
    "}\n"
   ]
  },
  {
   "cell_type": "markdown",
   "metadata": {},
   "source": [
    "## Use it"
   ]
  },
  {
   "cell_type": "code",
   "execution_count": null,
   "metadata": {},
   "outputs": [],
   "source": [
    "editDistance(\"anger\", \"angry\")"
   ]
  },
  {
   "cell_type": "code",
   "execution_count": null,
   "metadata": {},
   "outputs": [],
   "source": [
    "val present = \"111111\"\n",
    "val someMissing = \"110101\"\n",
    "editDistance(present, someMissing)"
   ]
  }
 ],
 "metadata": {
  "kernelspec": {
   "display_name": "Scala (2.12)",
   "language": "scala",
   "name": "scala212"
  },
  "language_info": {
   "codemirror_mode": "text/x-scala",
   "file_extension": ".scala",
   "mimetype": "text/x-scala",
   "name": "scala",
   "nbconvert_exporter": "script",
   "version": "2.12.10"
  }
 },
 "nbformat": 4,
 "nbformat_minor": 4
}
