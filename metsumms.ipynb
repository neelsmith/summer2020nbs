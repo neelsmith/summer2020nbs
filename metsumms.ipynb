{
  "cells": [
    {
      "cell_type": "markdown",
      "source": [
        "# How similar/how different?\n",
        "\n",
        "## Comparing the five extant texts of the Gettsyburg Address\n",
        "\n"
      ],
      "metadata": {}
    },
    {
      "cell_type": "markdown",
      "source": [
        "- [load data from github](nbs/load.ipynb)\n",
        "- [word sizes and word frequencies](nbs/zipf.ipynb)"
      ],
      "metadata": {
        "nteract": {
          "transient": {
            "deleting": false
          }
        }
      }
    },
    {
      "cell_type": "markdown",
      "source": [
        "## LCS, SCS\n",
        "\n",
        "- by character\n",
        "- by token\n",
        "- by lexeme"
      ],
      "metadata": {}
    },
    {
      "cell_type": "markdown",
      "source": [
        "## Levenshtein edit distance\n",
        "\n",
        "- by character\n",
        "- by token\n",
        "- by lexeme"
      ],
      "metadata": {}
    },
    {
      "cell_type": "markdown",
      "source": [
        "## n-gram similarity\n",
        "\n",
        "- by character\n",
        "- by token\n",
        "- by lexeme"
      ],
      "metadata": {}
    }
  ],
  "metadata": {
    "kernelspec": {
      "display_name": "Scala (2.12)",
      "language": "scala",
      "name": "scala212"
    },
    "language_info": {
      "name": "scala",
      "version": "2.12.10",
      "mimetype": "text/x-scala",
      "file_extension": ".scala",
      "nbconvert_exporter": "script",
      "codemirror_mode": "text/x-scala"
    },
    "nteract": {
      "version": "0.21.0"
    }
  },
  "nbformat": 4,
  "nbformat_minor": 4
}