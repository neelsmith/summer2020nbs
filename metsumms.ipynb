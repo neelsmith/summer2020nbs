{
 "cells": [
  {
   "cell_type": "markdown",
   "metadata": {},
   "source": [
    "## Review\n",
    "\n",
    "\n",
    "`Vector`s are ordered lists.  We'll use them constantly!\n",
    "\n",
    "The two manipulations you'll return to over and over are:\n",
    "\n",
    "1. `filter` to *select* from or *query* a Vector\n",
    "2. `map` to *transform* every element of a Vector\n",
    "\n"
   ]
  },
  {
   "cell_type": "code",
   "execution_count": null,
   "metadata": {},
   "outputs": [],
   "source": [
    "// Create a list with sigla for our 6 MSS of the *Iliad* with scholia:\n",
    "val sigla = Vector(\"A\", \"B\", \"C\", \"E3\", \"E4\", \"T\")\n",
    "\n",
    "// Select sigla that are only 1 letter long:\n",
    "val shortSigla = sigla.filter(sig => sig.size == 1)\n",
    "\n",
    "// Transform all sigla to lower case for easier reading!\n",
    "val lowerSigla = sigla.map(sig => sig.toLowerCase)\n",
    "\n",
    "// The miracle of chaining methods\n",
    "// Transforma all 1-letter sigla to lower case:\n",
    "val lowerShortSigla  = \n",
    "sigla.filter(sig => sig.size == 1).map(sig => sig.toLowerCase)\n",
    "\n"
   ]
  },
  {
   "cell_type": "markdown",
   "metadata": {},
   "source": [
    "# Counting metrical summaries\n",
    "\n",
    "In the next two cells, I've pasted in some data from delimited text files that Luke and Augusta created.\n",
    "\n",
    "Read the output description, and you'll see that I've created named values (using the `val` keyword) that are of `String` type.\n",
    "\n",
    "This illustrates an another way to define a String value: marked out by *triple* quotes (!), allowing you to have multi-line strings.\n",
    "\n"
   ]
  },
  {
   "cell_type": "code",
   "execution_count": null,
   "metadata": {},
   "outputs": [],
   "source": [
    "val vbdelimited = \"\"\"book#page#metricalsummary#hand\n",
    "3#41r#present#original\n",
    "4#51r#absent#na\n",
    "5#62v#absent#na\n",
    "6#81v#present#original\n",
    "7#92v#present#original\n",
    "8#103r#present#original\n",
    "9#114r#present#original\n",
    "10#129r#present#original\n",
    "11#141v#present#original\n",
    "12#159r#present#different\n",
    "13#169r#present#original\n",
    "14#186v#present#original\"\"\""
   ]
  },
  {
   "cell_type": "markdown",
   "metadata": {},
   "source": [
    "We can split the single, long String on new-line characters (`\"\\n\"` in Scala) to create a list.  Because I like Vectors, I'll convert the list to a `Vector` type, and drop the header line by adding the `tail` method. (Chaining methods again!)"
   ]
  },
  {
   "cell_type": "code",
   "execution_count": null,
   "metadata": {},
   "outputs": [],
   "source": [
    "val vb = vbdelimited.split(\"\\n\").toVector.tail"
   ]
  },
  {
   "cell_type": "markdown",
   "metadata": {},
   "source": [
    "I want to compare how many books have metrical summaries vs. how many do not.\n",
    "\n",
    "To do that, I'll use the `groupBy` method.  It's another \"fat arrow\" method:  I make up a name on the left side of the arrow that will stand in for every element of the Vector, then on the right side of the arrow, specify a value to use to group elements together.  Here, I'll group lines according to whether or not they contain the String \"#present#"
   ]
  },
  {
   "cell_type": "code",
   "execution_count": null,
   "metadata": {},
   "outputs": [],
   "source": [
    "val grouped = vb.groupBy( ln => ln.contains(\"#present#\"))"
   ]
  },
  {
   "cell_type": "markdown",
   "metadata": {},
   "source": [
    "Notice the result: we got a *Map*.  Here's how we could use the Map directly: we supply one Boolean key, and we get its corresponding Vector of Strings."
   ]
  },
  {
   "cell_type": "code",
   "execution_count": null,
   "metadata": {},
   "outputs": [],
   "source": [
    "grouped(true)\n",
    "grouped(false)"
   ]
  },
  {
   "cell_type": "code",
   "execution_count": null,
   "metadata": {},
   "outputs": [],
   "source": [
    "grouped(true).size\n",
    "grouped(false).size"
   ]
  },
  {
   "cell_type": "markdown",
   "metadata": {},
   "source": [
    "## Small group challenge\n",
    "\n",
    "Can you do the same thing for Upsilon 1.1?"
   ]
  },
  {
   "cell_type": "code",
   "execution_count": null,
   "metadata": {},
   "outputs": [],
   "source": [
    "val e3delimited = \"\"\"book#page#metricalsummary#hand\n",
    "2#18r#absent#na\n",
    "3#40r#present#different\n",
    "4#50r#absent#na\n",
    "6#79v#present#original\n",
    "7#89v#present#original\n",
    "8#98r#present#original\n",
    "9#109r#present#original\n",
    "10#124r#absent#na\n",
    "11#136v#present#original\n",
    "12#159r#absent#na\"\"\""
   ]
  }
 ],
 "metadata": {
  "kernelspec": {
   "display_name": "Scala (2.12)",
   "language": "scala",
   "name": "scala212"
  },
  "language_info": {
   "codemirror_mode": "text/x-scala",
   "file_extension": ".scala",
   "mimetype": "text/x-scala",
   "name": "scala",
   "nbconvert_exporter": "script",
   "version": "2.12.10"
  }
 },
 "nbformat": 4,
 "nbformat_minor": 4
}
