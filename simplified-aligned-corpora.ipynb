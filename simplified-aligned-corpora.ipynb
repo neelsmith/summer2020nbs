{
 "cells": [
  {
   "cell_type": "markdown",
   "metadata": {},
   "source": [
    "# Building aligned corpora\n",
    "\n",
    "This is the background work organizing data for an analysis of horizontal variation.\n",
    "\n",
    "For that purpose, we will both align overlapping passages in multiple versions of the *Iliad*, and simplify the Greek texts: for the purposes of our comparisons, we want to ignore differences in case, accent or breathing."
   ]
  },
  {
   "cell_type": "code",
   "execution_count": null,
   "metadata": {},
   "outputs": [],
   "source": [
    "// Configure notebook\n",
    "val personalRepo = coursierapi.MavenRepository.of(\"https://dl.bintray.com/neelsmith/maven\")\n",
    "interp.repositories() ++= Seq(personalRepo)\n"
   ]
  },
  {
   "cell_type": "code",
   "execution_count": null,
   "metadata": {},
   "outputs": [],
   "source": [
    "import $ivy.`edu.holycross.shot.cite::xcite:4.3.0`\n",
    "import $ivy.`edu.holycross.shot::ohco2:10.20.3`\n",
    "import $ivy.`edu.holycross.shot::greek:5.5.1`\n",
    "import $ivy.`edu.holycross.shot.mid::orthography:2.0.0`"
   ]
  },
  {
   "cell_type": "code",
   "execution_count": null,
   "metadata": {},
   "outputs": [],
   "source": [
    "import edu.holycross.shot.cite._\n",
    "import edu.holycross.shot.ohco2._\n",
    "import edu.holycross.shot.greek._\n",
    "import edu.holycross.shot.mid.orthography._\n",
    "\n",
    "\n",
    "val venetusAUrl = \"https://raw.githubusercontent.com/neelsmith/summer2020nbs/master/data/vaIliad-2020i.cex\"\n",
    "val twins10Url = \"https://raw.githubusercontent.com/neelsmith/summer2020nbs/master/data/twins10corpus.cex\"\n",
    "val allenUrl = \"https://raw.githubusercontent.com/neelsmith/summer2020nbs/master/data/iliad-allen.cex\"\n",
    "\n"
   ]
  },
  {
   "cell_type": "code",
   "execution_count": null,
   "metadata": {},
   "outputs": [],
   "source": [
    "// create  source corpora\n",
    "val twins10 = CorpusSource.fromUrl(twins10Url)\n",
    "val allen = CorpusSource.fromUrl(allenUrl)\n",
    "val venetusA = CorpusSource.fromUrl(venetusAUrl)"
   ]
  },
  {
   "cell_type": "code",
   "execution_count": null,
   "metadata": {},
   "outputs": [],
   "source": [
    "// Iliad, here book 10 only\n",
    "val venetusAIliad10 = venetusA  ~~ CtsUrn(\"urn:cts:greekLit:tlg0012.tlg001.msA:10\")\n",
    "val oopsIliad = twins10 ~~ CtsUrn(\"urn:cts:greekLit:tlg0012.tlg001.e3:\")\n",
    "val allenIliad10 = allen ~~ CtsUrn(\"urn:cts:greekLit:tlg0012.tlg001.allen:10\")\n",
    "\n"
   ]
  },
  {
   "cell_type": "code",
   "execution_count": null,
   "metadata": {},
   "outputs": [],
   "source": [
    "/*\n",
    "- tokenize, keep only lexical tokens\n",
    "- make LiteraryGreekStrings from lexical tokens, drop accents and breathings\n",
    "- recompose into a single stripped-down string for each line\n",
    "*/\n",
    "def curateNode(cn: CitableNode, siglum: String) : CitableNode = {\n",
    "  if (cn.text.isEmpty){\n",
    "    println(\"EMPTY TEXT: \" + cn.urn)\n",
    "    cn\n",
    "  } else {\n",
    "\n",
    "    val lexTokens = LiteraryGreekString.tokenizeNode(cn).filter(_.tokenCategory == Some(LexicalToken))\n",
    "    val lgs = lexTokens.map(tkn => LiteraryGreekString(tkn.text).toLower.stripBreathingAccent.ascii)\n",
    "    val simpleAscii = lgs.mkString(\" \")\n",
    "    CitableNode(cn.urn.addVersion(s\"${siglum}_simpleascii\"),simpleAscii)\n",
    "  }\n",
    "}\n",
    "\n",
    "\n",
    "def asciiCorpus(c: Corpus, siglum: String) : Corpus = {\n",
    "  Corpus(c.nodes.map(n => curateNode(n, siglum)))\n",
    "}\n"
   ]
  },
  {
   "cell_type": "code",
   "execution_count": null,
   "metadata": {},
   "outputs": [],
   "source": [
    "// These are agonizingly slow\n",
    "val oopsIliad10ascii = asciiCorpus(oopsIliad, \"e3\")\n"
   ]
  },
  {
   "cell_type": "code",
   "execution_count": null,
   "metadata": {},
   "outputs": [],
   "source": [
    "val venetusAIliad10ascii = asciiCorpus(venetusAIliad10, \"msA\")\n"
   ]
  },
  {
   "cell_type": "code",
   "execution_count": null,
   "metadata": {},
   "outputs": [],
   "source": [
    "val allenIliad10ascii = asciiCorpus(allenIliad10, \"allen\")\n"
   ]
  },
  {
   "cell_type": "code",
   "execution_count": null,
   "metadata": {},
   "outputs": [],
   "source": [
    "// align corpora.\n",
    "def extractMatches(c: Corpus, ulist: Vector[CtsUrn]) = {\n",
    "  val nodes = for (urn <- ulist) yield {\n",
    "    val matchCorpus = c ~~ urn\n",
    "    //println(\"MATCHED \" + matchCorpus.size)\n",
    "    matchCorpus.size match {\n",
    "      case 0 => Vector(CitableNode(urn, \"\"))\n",
    "      case _ => matchCorpus.nodes\n",
    "    }\n",
    "  }\n",
    "  Corpus(nodes.flatten)\n",
    "}\n",
    "\n",
    "\n",
    "val urnList = oopsIliad10ascii.nodes.map(_.urn.dropVersion)\n"
   ]
  },
  {
   "cell_type": "code",
   "execution_count": null,
   "metadata": {},
   "outputs": [],
   "source": [
    "val names = Vector(\n",
    "  \"Upsilon 1.1\",\n",
    "  \"Venetus A\",\n",
    "  \"Allen OCT\"\n",
    ")\n",
    "\n",
    "val alignedTexts = Vector(\n",
    "  oopsIliad10ascii,\n",
    "  extractMatches(venetusAIliad10ascii, urnList),\n",
    "  extractMatches(allenIliad10ascii, urnList)\n",
    ")"
   ]
  }
 ],
 "metadata": {
  "kernelspec": {
   "display_name": "Scala (2.12)",
   "language": "scala",
   "name": "scala212"
  },
  "language_info": {
   "codemirror_mode": "text/x-scala",
   "file_extension": ".scala",
   "mimetype": "text/x-scala",
   "name": "scala",
   "nbconvert_exporter": "script",
   "version": "2.12.10"
  }
 },
 "nbformat": 4,
 "nbformat_minor": 4
}
