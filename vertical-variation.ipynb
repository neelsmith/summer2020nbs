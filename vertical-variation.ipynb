{
 "cells": [
  {
   "cell_type": "markdown",
   "metadata": {},
   "source": [
    "# Computing \"vertical variation\"\n",
    "\n",
    "This notebook examples a fundamental concept in the study of Homeric oral poetry: *vertical variation*.  *Vertical* variation refers to the presence or absence of entire hexameters in different versions of the poem.  (*Horizontal* variation refers to differences within a single hexameter in different versions of the poem.)\n",
    "\n",
    "We'll take advantage of some specialized code libraries to approach this problem.\n",
    "\n",
    "\n"
   ]
  },
  {
   "cell_type": "markdown",
   "metadata": {},
   "source": [
    "## Importing  libraries\n",
    "\n",
    "The following cell configures this Jupyter notebook to look for libraries (in addition to standard locations) in a personal repository on the widely used site `bintray.com`."
   ]
  },
  {
   "cell_type": "code",
   "execution_count": null,
   "metadata": {},
   "outputs": [],
   "source": [
    "val personalRepo = coursierapi.MavenRepository.of(\"https://dl.bintray.com/neelsmith/maven\")\n",
    "interp.repositories() ++= Seq(personalRepo)\n"
   ]
  },
  {
   "cell_type": "markdown",
   "metadata": {},
   "source": [
    "The next cell configures the notebook to look in our code repositories for version `4.3.0` of the first library we want to use."
   ]
  },
  {
   "cell_type": "code",
   "execution_count": null,
   "metadata": {},
   "outputs": [],
   "source": [
    "import $ivy.`edu.holycross.shot.cite::xcite:4.3.0`"
   ]
  },
  {
   "cell_type": "markdown",
   "metadata": {},
   "source": [
    "### `cite` for URNs\n",
    "\n",
    "The following cell is a standard, generic Scala statement for making a library available to our program.\n",
    "\n",
    "Reading the `import` statement below from right to left, we're importing *all* classes (that's the \"fil-in-theblank\" notation `_`, from the `cite` package belonging to the organization `edu.holycross.shot`."
   ]
  },
  {
   "cell_type": "code",
   "execution_count": null,
   "metadata": {},
   "outputs": [],
   "source": [
    "import edu.holycross.shot.cite._"
   ]
  },
  {
   "cell_type": "markdown",
   "metadata": {},
   "source": [
    "Now we can use classes defined in the `cite` library.\n",
    "\n",
    "In the following cell, identify the *type* (class) and *value* of each expression."
   ]
  },
  {
   "cell_type": "code",
   "execution_count": null,
   "metadata": {},
   "outputs": [],
   "source": [
    "val iliadLine = CtsUrn(\"urn:cts:greekLit:tlg0012.tlg001.msA:1.1\")\n",
    "iliadLine.textGroup\n",
    "iliadLine.work\n",
    "iliadLine.passageComponent\n",
    "val venetusA = iliadLine.dropPassage"
   ]
  },
  {
   "cell_type": "markdown",
   "metadata": {},
   "source": [
    "Try tabbing from `iliadLine.` to see what methods are available.\n",
    "\n",
    "You can also [look at the user's guide and API docs](https://cite-architecture.github.io/cite-api-docs/).\n",
    "\n",
    "Identify the *type* (class) and *value* of each expression in the following cell."
   ]
  },
  {
   "cell_type": "code",
   "execution_count": null,
   "metadata": {},
   "outputs": [],
   "source": [
    "val titleImage = Cite2Urn(\"urn:cite2:hmt:vaimg.2017a:VA012RN_0013@0.2060,0.2076,0.1672,0.02265\")\n",
    "\n",
    "titleImage.collection\n",
    "titleImage.version\n",
    "titleImage.objectComponent\n",
    "val img = titleImage.dropExtensions\n"
   ]
  },
  {
   "cell_type": "markdown",
   "metadata": {},
   "source": [
    "### `ohco2` for citable text corpora\n",
    "\n",
    "First, configure the Jupyter notebook.  (If you want to see the syntax for sbt, look at the `build.sbt` file in your editing repository.)"
   ]
  },
  {
   "cell_type": "code",
   "execution_count": null,
   "metadata": {},
   "outputs": [],
   "source": [
    "import $ivy.`edu.holycross.shot::ohco2:10.19.0`"
   ]
  },
  {
   "cell_type": "markdown",
   "metadata": {},
   "source": [
    "Now a generic scala import makes the library available.  Again, we'll import *all* the classes in the `ohco2` package with `_`."
   ]
  },
  {
   "cell_type": "code",
   "execution_count": null,
   "metadata": {},
   "outputs": [],
   "source": [
    "import edu.holycross.shot.ohco2._"
   ]
  },
  {
   "cell_type": "markdown",
   "metadata": {},
   "source": [
    "We have a text of the Venetus A *Iliad* from the `2020i` release of the Homer Multitext project in our data directory here:"
   ]
  },
  {
   "cell_type": "code",
   "execution_count": null,
   "metadata": {},
   "outputs": [],
   "source": [
    "val venetusAUrl = \"https://raw.githubusercontent.com/neelsmith/summer2020nbs/master/data/vaIliad-2020i.cex\"\n"
   ]
  },
  {
   "cell_type": "markdown",
   "metadata": {},
   "source": [
    "We can use an object in our new library to load the text into a citable corpus.  What type of object does the next cell create?"
   ]
  },
  {
   "cell_type": "code",
   "execution_count": null,
   "metadata": {},
   "outputs": [],
   "source": [
    "val venetusA = CorpusSource.fromUrl(venetusAUrl)\n"
   ]
  },
  {
   "cell_type": "markdown",
   "metadata": {},
   "source": [
    "The `Corpus` class implements the OHCO2 model.  It contains a Vector (so an ordered sequence) of text nodes that are citable by URN (with the hierarchy of work and of passage).  Let's see how many text nodes are in this corpus."
   ]
  },
  {
   "cell_type": "code",
   "execution_count": null,
   "metadata": {},
   "outputs": [],
   "source": [
    "venetusA.nodes.size"
   ]
  },
  {
   "cell_type": "markdown",
   "metadata": {},
   "source": [
    "Let's look at what an individual citable node in this corpus looks like.\n",
    "\n",
    "(We'll use `println` since Jupyter notebook's display of output is not always kind to Unicode.)"
   ]
  },
  {
   "cell_type": "code",
   "execution_count": null,
   "metadata": {},
   "outputs": [],
   "source": [
    "println(venetusA.nodes.head)"
   ]
  },
  {
   "cell_type": "markdown",
   "metadata": {},
   "source": [
    "The node has two components, or *members*, which we can refer to by name"
   ]
  },
  {
   "cell_type": "code",
   "execution_count": null,
   "metadata": {},
   "outputs": [],
   "source": [
    "venetusA.nodes.head.urn\n",
    "venetusA.nodes.head.text\n",
    "println(venetusA.nodes.head.text)"
   ]
  },
  {
   "cell_type": "markdown",
   "metadata": {},
   "source": [
    "## Repeat that cycle\n",
    "\n",
    "Let's look for vertical variation between the Venetus A and the Oxford Classical Text edition of T.W. Allen.\n"
   ]
  },
  {
   "cell_type": "code",
   "execution_count": null,
   "metadata": {},
   "outputs": [],
   "source": [
    "val allenUrl = \"https://raw.githubusercontent.com/neelsmith/summer2020nbs/master/data/iliad-allen.cex\"\n",
    "val allen = CorpusSource.fromUrl(allenUrl)\n"
   ]
  },
  {
   "cell_type": "code",
   "execution_count": null,
   "metadata": {},
   "outputs": [],
   "source": [
    "allen.nodes.size\n",
    "venetusA.nodes.size"
   ]
  },
  {
   "cell_type": "markdown",
   "metadata": {},
   "source": [
    "43 more lines in Allen??  Let's compute that vertical difference.\n",
    "\n",
    "To start with, let's just get the list of URNs for each *Iliad*."
   ]
  },
  {
   "cell_type": "code",
   "execution_count": null,
   "metadata": {},
   "outputs": [],
   "source": [
    "val vaReff = venetusA.nodes.map(n => n.urn.passageComponent)\n",
    "val allenReff = allen.nodes.map(n => n.urn.passageComponent)"
   ]
  },
  {
   "cell_type": "code",
   "execution_count": null,
   "metadata": {},
   "outputs": [],
   "source": [
    "allenReff.size - vaReff.size"
   ]
  },
  {
   "cell_type": "markdown",
   "metadata": {},
   "source": [
    "## What's the difference?\n",
    "\n",
    "We can use a `Vector` method called `diff` to find that."
   ]
  },
  {
   "cell_type": "code",
   "execution_count": null,
   "metadata": {},
   "outputs": [],
   "source": [
    "val diff1 = allenReff diff vaReff"
   ]
  },
  {
   "cell_type": "code",
   "execution_count": null,
   "metadata": {},
   "outputs": [],
   "source": [
    "val diff2 = vaReff diff allenReff"
   ]
  },
  {
   "cell_type": "code",
   "execution_count": null,
   "metadata": {},
   "outputs": [],
   "source": [
    "diff1.size\n",
    "diff2.size\n",
    "\n",
    "diff1.size - diff2.size == allenReff.size - vaReff.size"
   ]
  }
 ],
 "metadata": {
  "kernelspec": {
   "display_name": "Scala (2.12)",
   "language": "scala",
   "name": "scala212"
  },
  "language_info": {
   "codemirror_mode": "text/x-scala",
   "file_extension": ".scala",
   "mimetype": "text/x-scala",
   "name": "scala",
   "nbconvert_exporter": "script",
   "version": "2.12.10"
  }
 },
 "nbformat": 4,
 "nbformat_minor": 4
}
