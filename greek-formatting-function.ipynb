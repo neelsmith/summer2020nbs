{
 "cells": [
  {
   "cell_type": "markdown",
   "metadata": {},
   "source": [
    "# Formatting Greek\n",
    "\n",
    "In this notebook, we'll learn how to write your own functions using the keyword `def`.\n",
    "\n",
    "\n"
   ]
  },
  {
   "cell_type": "markdown",
   "metadata": {},
   "source": [
    "## Configure notebook\n",
    "\n",
    "Add personal code repository, and identify version `5.3.1` of the `greek` library."
   ]
  },
  {
   "cell_type": "code",
   "execution_count": null,
   "metadata": {},
   "outputs": [],
   "source": [
    "val personalBintray = coursierapi.MavenRepository.of(\"https://dl.bintray.com/neelsmith/maven\")\n"
   ]
  },
  {
   "cell_type": "code",
   "execution_count": null,
   "metadata": {},
   "outputs": [],
   "source": [
    "interp.repositories() ++= Seq(personalBintray)"
   ]
  },
  {
   "cell_type": "code",
   "execution_count": null,
   "metadata": {},
   "outputs": [],
   "source": [
    "import $ivy.`edu.holycross.shot::greek:5.3.1`\n"
   ]
  },
  {
   "cell_type": "markdown",
   "metadata": {},
   "source": [
    "## Format Greek for human readers\n",
    "\n",
    "The `LiteraryGreekString` class can format Greek strings in a variety of ways."
   ]
  },
  {
   "cell_type": "code",
   "execution_count": null,
   "metadata": {},
   "outputs": [],
   "source": [
    "import edu.holycross.shot.greek._"
   ]
  },
  {
   "cell_type": "markdown",
   "metadata": {},
   "source": [
    "Jupyter notebooks really don't like displaying Unicode in the output cell, but we can use Scala's `println` method to see what the `ucode`, `ascii` and `xlit` methods of the `LiteraryGreekString` class produce."
   ]
  },
  {
   "cell_type": "code",
   "execution_count": null,
   "metadata": {},
   "outputs": [],
   "source": [
    "val wrath = LiteraryGreekString(\"mh=nis\")\n",
    "println(s\"${wrath.ucode}, ${wrath.ascii}, ${wrath.xlit}\")\n",
    "\n",
    "\n"
   ]
  },
  {
   "cell_type": "markdown",
   "metadata": {},
   "source": [
    "When I'm writing markdown text, it would be nice to display both transliterated and Unicode forms to a (human) reader, like this:"
   ]
  },
  {
   "cell_type": "code",
   "execution_count": null,
   "metadata": {},
   "outputs": [],
   "source": [
    "val formattedForReaders = \"*\" + wrath.xlit + \"* (\" + wrath.ucode + \")\"\n",
    "println(formattedForReaders)"
   ]
  },
  {
   "cell_type": "markdown",
   "metadata": {},
   "source": [
    "What I'd really like, though, is a way to do that *generically*, for any `LiteraryGreekString`.  I want to hand over a `LiteraryGreekString` and get back a nicely formatted String, without having to manually do all that typing every time I include a Greek word in my notebook.\n",
    "\n",
    "\n",
    "We can write a short function to do that in Scala. The syntax works like this:\n",
    "\n",
    "- the keyword `def` defines a function name (here, `greekCite`)\n",
    "- list any parameters the function needs in parentheses.  Here, we list one parameter we're naming `lgs`.  It is of type `LiteraryGreekString`.\n",
    "- after the parameter list, indicate the type of value the function produces.  Our function will produce a `String`.\n",
    "- then assign (with `=`) between curly brackets the code that your function will execute.  The last line of the code is the *value* for this function.  Here, the function is only one line long, so the value is a String that adds asterisks around the `xlit` form of a Greek String, and appends the `ucode` form of the Greek String in parentheses.  It's a single `String` object with all its parts joined by the String class's `+` function."
   ]
  },
  {
   "cell_type": "code",
   "execution_count": null,
   "metadata": {},
   "outputs": [],
   "source": [
    "// Format a LiteraryGreekString for human readers of Markdown\n",
    "def greekCite(lgs: LiteraryGreekString): String = {\n",
    "  \"*\" + lgs.xlit + \"* (\" + lgs.ucode + \")\"\n",
    "}\n"
   ]
  },
  {
   "cell_type": "markdown",
   "metadata": {},
   "source": [
    "Put it to work:"
   ]
  },
  {
   "cell_type": "code",
   "execution_count": null,
   "metadata": {},
   "outputs": [],
   "source": [
    "println(greekCite(wrath))"
   ]
  }
 ],
 "metadata": {
  "kernelspec": {
   "display_name": "Scala (2.12)",
   "language": "scala",
   "name": "scala212"
  },
  "language_info": {
   "codemirror_mode": "text/x-scala",
   "file_extension": ".scala",
   "mimetype": "text/x-scala",
   "name": "scala",
   "nbconvert_exporter": "script",
   "version": "2.12.10"
  }
 },
 "nbformat": 4,
 "nbformat_minor": 4
}
