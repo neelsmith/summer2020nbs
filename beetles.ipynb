{
 "cells": [
  {
   "cell_type": "markdown",
   "metadata": {},
   "source": [

    "## Exploring data in NEXUS source file\n",
    "\n",
    "I'm using this Jupyter notebook to ask questions about the contents of the NEXUS file checked into github here: `https://raw.githubusercontent.com/neelsmith/nexus/master/jvm/src/test/resources/CaveTrechineCOI.nex`\n",
    "\n"
   ]
  },
  {
   "cell_type": "markdown",
   "metadata": {},
   "source": [
    "### Configure notebook for custom libraries\n",
    "\n",
    "I have not yet published the `nexus` library I'll use to JCenter, so will configure this notebook to use the personal Bintray repository where I have already published it."
   ]
  },
  {
   "cell_type": "code",
   "execution_count": null,
   "metadata": {},
   "outputs": [],
   "source": [
    "val personalBintray = coursierapi.MavenRepository.of(\"https://dl.bintray.com/neelsmith/maven\")\n",
    "interp.repositories() ++= Seq(personalBintray)\n"
   ]
  },
  {
   "cell_type": "code",
   "execution_count": null,
   "metadata": {},
   "outputs": [],
   "source": [
    "import $ivy.`edu.holycross.shot::nexus:1.4.1`"
   ]
  },
  {
   "cell_type": "markdown",
   "metadata": {},
   "source": [
    "### Load NEXUS data from a URL using `nexus` library\n"
   ]
  },
  {
   "cell_type": "code",
   "execution_count": null,
   "metadata": {},
   "outputs": [],
   "source": [
    "import edu.holycross.shot.nexus._\n",
    "val dataUrl = \"https://raw.githubusercontent.com/neelsmith/nexus/master/jvm/src/test/resources/CaveTrechineCOI.nex\"\n",
    "val nexus = NexusSource.fromUrl(dataUrl)\n"
   ]
  },
  {
   "cell_type": "markdown",
   "metadata": {},
   "source": [
    "### Explore data set"
   ]
  },
  {
   "cell_type": "code",
   "execution_count": null,
   "metadata": {},
   "outputs": [],
   "source": [
    "// These are the names of the blocks in the data set:\n",
    "nexus.blockNames\n"
   ]
  },
  {
   "cell_type": "markdown",
   "metadata": {},
   "source": [
    "I'm pretty sure I don't understand how the CODONS block is organized:"
   ]
  },
  {
   "cell_type": "code",
   "execution_count": null,
   "metadata": {},
   "outputs": [],
   "source": [
    "val codons = nexus.block(\"codons\").get\n",
    "println(\"Block: \" + codons)"
   ]
  },
  {
   "cell_type": "markdown",
   "metadata": {},
   "source": [
    "### Data matrix\n",
    "\n",
    "Most immediately, I want to be able to work with the matrix of character data.\n",
    "\n",
    "Use the library to create a structured `DataMatrix` object:"
   ]
  },
  {
   "cell_type": "code",
   "execution_count": null,
   "metadata": {},
   "outputs": [],
   "source": [
    "val m = nexus.matrix"
   ]
  },
  {
   "cell_type": "code",
   "execution_count": null,
   "metadata": {},
   "outputs": [],
   "source": [
    "// Basic structure is good: same number of labels and data rows!\n",
    "m.labels.size == m.data.size"
   ]
  },
  {
   "cell_type": "code",
   "execution_count": null,
   "metadata": {},
   "outputs": [],
   "source": [
    "// The rows method gives us a Vector of structured `NexusCharacters` object.\n",
    "// Count 'em and peek at the first one:"
   ]
  },
  {
   "cell_type": "code",
   "execution_count": null,
   "metadata": {},
   "outputs": [],
   "source": [
    "m.rows.size\n",
    "m.rows.head"
   ]
  },
  {
   "cell_type": "markdown",
   "metadata": {},
   "source": [
    "For the `NexusCharacters` class, the `size` method counts the number of characters (\"columns\").\n",
    "\n",
    "I expect all of these to be the same size, but no!"
   ]
  },
  {
   "cell_type": "code",
   "execution_count": null,
   "metadata": {},
   "outputs": [],
   "source": [
    "m.rows.map(r => r.size).distinct"
   ]
  },
  {
   "cell_type": "markdown",
   "metadata": {},
   "source": [
    "So let's look at the rows that have only 48 characters."
   ]
  },
  {
   "cell_type": "code",
   "execution_count": null,
   "metadata": {},
   "outputs": [],
   "source": [
    "val shortRows = m.rows.filter(r => r.size == 48)\n",
    "println(shortRows.size + \" rows with 48 characters.\")"
   ]
  },
  {
   "cell_type": "markdown",
   "metadata": {},
   "source": [
    "I'm curious about those rows with no known characters.  How many of the 48-character rows do they account for?\n"
   ]
  },
  {
   "cell_type": "code",
   "execution_count": null,
   "metadata": {},
   "outputs": [],
   "source": [
    "val noData = shortRows.filter(r => r.characters == \"????????????????????????????????????????????????\")\n",
    "println(noData.size + \" rows with no data.\")\n",
    "\n",
    "\n"
   ]
  },
  {
   "cell_type": "markdown",
   "metadata": {},
   "source": [
    "Interesting!  So what's the *one* other short row?"
   ]
  },
  {
   "cell_type": "code",
   "execution_count": null,
   "metadata": {},
   "outputs": [],
   "source": [
    "shortRows.filterNot(r => r.characters == \"????????????????????????????????????????????????\")\n"
   ]
  },
  {
   "cell_type": "markdown",
   "metadata": {},
   "source": [
    "I guess I should look at the labels for all the no-data rows:  maybe that would tell us something?"
   ]
  },
  {
   "cell_type": "code",
   "execution_count": null,
   "metadata": {},
   "outputs": [],
   "source": [
    "val noDataLabels = noData.map(row => row.label)\n",
    "println(noDataLabels.mkString(\", \"))"
   ]
  },
  {
   "cell_type": "markdown",
   "metadata": {},
   "source": [
    "## Questions: what's up with the short character lists?\n",
    "\n",
    "- is there something special about Trechuscoloradensis, with characters but only 48 of them?\n",
    "- do we know a reason why we have no data for the other group of 175 records?\n",
    "- should our library have a simple (higher-order) method for identifying records with no data? (e.g., a method named something like `noData` on the `NexusCharacters` class, so that we could easily filter/distinguish rows in a matrix with no data?\n"
   ]
  }
 ],
 "metadata": {
  "kernelspec": {
   "display_name": "Scala (2.12)",
   "language": "scala",
   "name": "scala212"
  },
  "language_info": {
   "codemirror_mode": "text/x-scala",
   "file_extension": ".scala",
   "mimetype": "text/x-scala",
   "name": "scala",
   "nbconvert_exporter": "script",
   "version": "2.12.10"
  }
 },
 "nbformat": 4,
 "nbformat_minor": 4
}
