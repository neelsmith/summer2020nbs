{
 "cells": [
  {
   "cell_type": "markdown",
   "metadata": {},
   "source": [
    "# Build simplified ASCII text corpus\n",
    "\n",
    "This notebook illstruates how to generate a citable corpus with Greek\n",
    "text represented in a simplified ASCII form that is useful for computing character-level edit distance.\n",
    "\n",
    "Nodes in the new edition are distinguished by the version-level identifier which appends the string `_simpleascii` to the version identifier.\n",
    "\n",
    "This notebook creates simplified corpora for *Iliad* text and *scholia* of book 9 in the Upsilon 1.1, but the same `asciiCorpus` function can be used to convert any citable corpus of Greek text.\n"
   ]
  },
  {
   "cell_type": "code",
   "execution_count": null,
   "metadata": {},
   "outputs": [],
   "source": [
    "val personalRepo = coursierapi.MavenRepository.of(\"https://dl.bintray.com/neelsmith/maven\")\n",
    "interp.repositories() ++= Seq(personalRepo)"
   ]
  },
  {
   "cell_type": "code",
   "execution_count": null,
   "metadata": {},
   "outputs": [],
   "source": [
    "import $ivy.`edu.holycross.shot.cite::xcite:4.3.0`\n",
    "import $ivy.`edu.holycross.shot::ohco2:10.20.3`\n",
    "import $ivy.`edu.holycross.shot::greek:5.5.1`\n",
    "import $ivy.`edu.holycross.shot.mid::orthography:2.0.0`"
   ]
  },
  {
   "cell_type": "code",
   "execution_count": null,
   "metadata": {},
   "outputs": [],
   "source": [
    "import edu.holycross.shot.cite._\n",
    "import edu.holycross.shot.ohco2._\n",
    "import edu.holycross.shot.greek._\n",
    "import edu.holycross.shot.mid.orthography._\n",
    "\n",
    "\n",
    "// Source files for corpora on project gh repository\n",
    "// \n",
    "//val venetusAIliadUrl = \"https://raw.githubusercontent.com/neelsmith/summer2020nbs/master/data/vaIliad-2020i.cex\"\n",
    "//val venetusAScholiaUrl = \"https://raw.githubusercontent.com/neelsmith/summer2020nbs/master/data/hmt-2020i-noIliad.cex\"\n",
    "val twins9Url = \"https://raw.githubusercontent.com/neelsmith/transmission-evolution/master/data/texts/diplomatic/twins9corpus.cex\"\n",
    "\n"
   ]
  },
  {
   "cell_type": "markdown",
   "metadata": {},
   "source": [
    "## Convert a corpus to simpified ASCII form\n",
    "\n",
    "- use the `LiteraryGreekString` object to tokenize the text and filter it keep only lexical tokens\n",
    "- make a `LiteraryGreekString` from each lexical token, and drop accents, breathings and diaeresis\n",
    "- recompose individual tokens into a single stripped-down string for each citable passage\n"
   ]
  },
  {
   "cell_type": "code",
   "execution_count": null,
   "metadata": {},
   "outputs": [],
   "source": [
    "// Convert a single CitableNode to simpliefied ASCII form.\n",
    "// Siglum is a String to use for the version ID of the\n",
    "// nodes of this corpus.\n",
    "def curateNode(cn: CitableNode, siglum: String) : CitableNode = {\n",
    "  if (cn.text.isEmpty){\n",
    "    println(\"EMPTY TEXT: \" + cn.urn)\n",
    "    cn\n",
    "  } else {\n",
    "\n",
    "    val lexTokens = LiteraryGreekString.tokenizeNode(cn).filter(_.tokenCategory == Some(LexicalToken))\n",
    "    val lgs = lexTokens.map(tkn => LiteraryGreekString(tkn.text).toLower.stripBreathingAccent.ascii)\n",
    "    val simpleAscii = lgs.mkString(\" \")\n",
    "    CitableNode(cn.urn.addVersion(s\"${siglum}_simpleascii\"),simpleAscii)\n",
    "  }\n",
    "}\n",
    "\n",
    "\n",
    "// Convert a corpus to simpliefied ASCII form.\n",
    "// Siglum is a String to use for the version ID of the\n",
    "// nodes of this corpus.\n",
    "def asciiCorpus(c: Corpus, siglum: String) : Corpus = {\n",
    "  Corpus(c.nodes.map(n => curateNode(n, siglum)))\n",
    "}"
   ]
  },
  {
   "cell_type": "code",
   "execution_count": null,
   "metadata": {},
   "outputs": [],
   "source": [
    "// create  source corpora\n",
    "val twins9 = CorpusSource.fromUrl(twins9Url)\n",
    "// compile ascii for individual data sets\n",
    "val upsilon9iliad = twins9 ~~ CtsUrn(\"urn:cts:greekLit:tlg0012.tlg001.e3:\")\n",
    "val upsilon9scholia = twins9 ~~ CtsUrn(\"urn:cts:greekLit:tlg5026.e3.hmt:\")\n",
    "\n",
    "\n",
    "//val venetusAscholia = CorpusSource.fromUrl(venetusAScholiaUrl)\n",
    "//val venetusAiliad = CorpusSource.fromUrl(venetusAIliadUrl)\n"
   ]
  },
  {
   "cell_type": "code",
   "execution_count": null,
   "metadata": {},
   "outputs": [],
   "source": [
    "//val upsilon9iliad_ascii = asciiCorpus(upsilon9iliad, \"e3\")\n",
    "val upsilon9scholia_ascii = asciiCorpus(upsilon9scholia, \"e3\")\n"
   ]
  },
  {
   "cell_type": "code",
   "execution_count": null,
   "metadata": {},
   "outputs": [],
   "source": [
    "val upsilon9iliad_ascii = asciiCorpus(upsilon9iliad, \"e3\")\n"
   ]
  }
 ],
 "metadata": {
  "kernelspec": {
   "display_name": "Scala (2.12)",
   "language": "scala",
   "name": "scala212"
  },
  "language_info": {
   "codemirror_mode": "text/x-scala",
   "file_extension": ".scala",
   "mimetype": "text/x-scala",
   "name": "scala",
   "nbconvert_exporter": "script",
   "version": "2.12.10"
  }
 },
 "nbformat": 4,
 "nbformat_minor": 4
}
